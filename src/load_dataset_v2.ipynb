{
 "cells": [
  {
   "cell_type": "markdown",
   "id": "bcb8ebe5",
   "metadata": {},
   "source": [
    "# Préparation des données"
   ]
  },
  {
   "cell_type": "markdown",
   "id": "22712cfd",
   "metadata": {},
   "source": [
    "## Chargement des données"
   ]
  },
  {
   "cell_type": "code",
   "id": "ce9f4468267ac500",
   "metadata": {
    "ExecuteTime": {
     "end_time": "2024-06-02T21:13:09.107441Z",
     "start_time": "2024-06-02T21:13:08.928997Z"
    }
   },
   "source": [
    "import pandas as pd\n",
    "file_path = '../data/relatives.xlsx'\n",
    "sheet_name = 'data'\n",
    "df = pd.read_excel(file_path, sheet_name=sheet_name)"
   ],
   "outputs": [],
   "execution_count": 57
  },
  {
   "cell_type": "code",
   "id": "1807b35d",
   "metadata": {
    "ExecuteTime": {
     "end_time": "2024-06-02T21:13:10.661432Z",
     "start_time": "2024-06-02T21:13:10.655766Z"
    }
   },
   "source": [
    "df.head()"
   ],
   "outputs": [
    {
     "data": {
      "text/plain": [
       "                                               texts  \\\n",
       "0  Survivante de la Shoah, elle a su puiser, dans...   \n",
       "1  la Constitution permet au Président de la Répu...   \n",
       "2      Les heures que nous vivons sont de celles-là.   \n",
       "3  Je veux aujourd’hui vous parler du mandat que ...   \n",
       "4  Pour d’autres, au nombre desquels je me range,...   \n",
       "\n",
       "                                                 PSR   annotation  \n",
       "0  qui ont défiguré notre continent et avili l’hu...      det|det  \n",
       "1      qui, de cette possibilité, font une nécessité          det  \n",
       "2                                    que nous vivons          det  \n",
       "3  que le peuple nous a donné|que je veux changer...  det|det|det  \n",
       "4                               desquels je me range          det  "
      ],
      "text/html": [
       "<div>\n",
       "<style scoped>\n",
       "    .dataframe tbody tr th:only-of-type {\n",
       "        vertical-align: middle;\n",
       "    }\n",
       "\n",
       "    .dataframe tbody tr th {\n",
       "        vertical-align: top;\n",
       "    }\n",
       "\n",
       "    .dataframe thead th {\n",
       "        text-align: right;\n",
       "    }\n",
       "</style>\n",
       "<table border=\"1\" class=\"dataframe\">\n",
       "  <thead>\n",
       "    <tr style=\"text-align: right;\">\n",
       "      <th></th>\n",
       "      <th>texts</th>\n",
       "      <th>PSR</th>\n",
       "      <th>annotation</th>\n",
       "    </tr>\n",
       "  </thead>\n",
       "  <tbody>\n",
       "    <tr>\n",
       "      <th>0</th>\n",
       "      <td>Survivante de la Shoah, elle a su puiser, dans...</td>\n",
       "      <td>qui ont défiguré notre continent et avili l’hu...</td>\n",
       "      <td>det|det</td>\n",
       "    </tr>\n",
       "    <tr>\n",
       "      <th>1</th>\n",
       "      <td>la Constitution permet au Président de la Répu...</td>\n",
       "      <td>qui, de cette possibilité, font une nécessité</td>\n",
       "      <td>det</td>\n",
       "    </tr>\n",
       "    <tr>\n",
       "      <th>2</th>\n",
       "      <td>Les heures que nous vivons sont de celles-là.</td>\n",
       "      <td>que nous vivons</td>\n",
       "      <td>det</td>\n",
       "    </tr>\n",
       "    <tr>\n",
       "      <th>3</th>\n",
       "      <td>Je veux aujourd’hui vous parler du mandat que ...</td>\n",
       "      <td>que le peuple nous a donné|que je veux changer...</td>\n",
       "      <td>det|det|det</td>\n",
       "    </tr>\n",
       "    <tr>\n",
       "      <th>4</th>\n",
       "      <td>Pour d’autres, au nombre desquels je me range,...</td>\n",
       "      <td>desquels je me range</td>\n",
       "      <td>det</td>\n",
       "    </tr>\n",
       "  </tbody>\n",
       "</table>\n",
       "</div>"
      ]
     },
     "execution_count": 58,
     "metadata": {},
     "output_type": "execute_result"
    }
   ],
   "execution_count": 58
  },
  {
   "cell_type": "code",
   "id": "5c3e021c",
   "metadata": {
    "ExecuteTime": {
     "end_time": "2024-06-02T21:13:13.228474Z",
     "start_time": "2024-06-02T21:13:13.219869Z"
    }
   },
   "source": [
    "df.describe()"
   ],
   "outputs": [
    {
     "data": {
      "text/plain": [
       "                                                    texts           PSR  \\\n",
       "count                                                 546           546   \n",
       "unique                                                532           534   \n",
       "top     dans un monde où tout va si vite et où les exi...  qui viennent   \n",
       "freq                                                    4             3   \n",
       "\n",
       "       annotation  \n",
       "count         546  \n",
       "unique         16  \n",
       "top           det  \n",
       "freq          259  "
      ],
      "text/html": [
       "<div>\n",
       "<style scoped>\n",
       "    .dataframe tbody tr th:only-of-type {\n",
       "        vertical-align: middle;\n",
       "    }\n",
       "\n",
       "    .dataframe tbody tr th {\n",
       "        vertical-align: top;\n",
       "    }\n",
       "\n",
       "    .dataframe thead th {\n",
       "        text-align: right;\n",
       "    }\n",
       "</style>\n",
       "<table border=\"1\" class=\"dataframe\">\n",
       "  <thead>\n",
       "    <tr style=\"text-align: right;\">\n",
       "      <th></th>\n",
       "      <th>texts</th>\n",
       "      <th>PSR</th>\n",
       "      <th>annotation</th>\n",
       "    </tr>\n",
       "  </thead>\n",
       "  <tbody>\n",
       "    <tr>\n",
       "      <th>count</th>\n",
       "      <td>546</td>\n",
       "      <td>546</td>\n",
       "      <td>546</td>\n",
       "    </tr>\n",
       "    <tr>\n",
       "      <th>unique</th>\n",
       "      <td>532</td>\n",
       "      <td>534</td>\n",
       "      <td>16</td>\n",
       "    </tr>\n",
       "    <tr>\n",
       "      <th>top</th>\n",
       "      <td>dans un monde où tout va si vite et où les exi...</td>\n",
       "      <td>qui viennent</td>\n",
       "      <td>det</td>\n",
       "    </tr>\n",
       "    <tr>\n",
       "      <th>freq</th>\n",
       "      <td>4</td>\n",
       "      <td>3</td>\n",
       "      <td>259</td>\n",
       "    </tr>\n",
       "  </tbody>\n",
       "</table>\n",
       "</div>"
      ]
     },
     "execution_count": 59,
     "metadata": {},
     "output_type": "execute_result"
    }
   ],
   "execution_count": 59
  },
  {
   "cell_type": "markdown",
   "id": "ce21fb9847a650d7",
   "metadata": {},
   "source": [
    "## Prétraitement des données :\n",
    "\n"
   ]
  },
  {
   "cell_type": "markdown",
   "id": "390b9125",
   "metadata": {},
   "source": [
    "### Normalisation:\n",
    "\n",
    "cette partie permet de nettoyer et uniformiser des textes en remplaçant des caractères spéciaux par leurs équivalents standards."
   ]
  },
  {
   "cell_type": "code",
   "id": "4ec21628b06316f6",
   "metadata": {
    "ExecuteTime": {
     "end_time": "2024-06-02T21:13:17.715336Z",
     "start_time": "2024-06-02T21:13:17.711360Z"
    }
   },
   "source": [
    "import re\n",
    "\n",
    "def replace_characters(match: re.Match) -> str:\n",
    "    char = match.group(0)\n",
    "    replacements = {'’': \"'\",'´': \"'\",'`': \"'\",'‘': \"'\",'«': '\"','»': '\"','“': '\"','”': '\"','–': '-','—': '-','…': ' ',u'\\xa0': ' ',}\n",
    "    return replacements[char]\n",
    "\n",
    "def normalize_text(text: str) -> str:\n",
    "    pattern = r'[’´`‘«»“”–—…]'\n",
    "    return re.sub(pattern, replace_characters, text).strip()"
   ],
   "outputs": [],
   "execution_count": 60
  },
  {
   "cell_type": "code",
   "id": "f59f5333",
   "metadata": {
    "ExecuteTime": {
     "end_time": "2024-06-02T21:13:19.734647Z",
     "start_time": "2024-06-02T21:13:19.731982Z"
    }
   },
   "source": [
    "# test\n",
    "text = \"un text avec des caractères spéciaux ’´`‘«»“”–—…\"\n",
    "print(normalize_text(text))"
   ],
   "outputs": [
    {
     "name": "stdout",
     "output_type": "stream",
     "text": [
      "un text avec des caractères spéciaux ''''\"\"\"\"--\n"
     ]
    }
   ],
   "execution_count": 61
  },
  {
   "cell_type": "markdown",
   "id": "636dd6ab",
   "metadata": {},
   "source": [
    "Ainsi, nous allons remplacer les caractères spéciaux par leurs équivalents standards."
   ]
  },
  {
   "cell_type": "code",
   "id": "79414abf",
   "metadata": {
    "ExecuteTime": {
     "end_time": "2024-06-02T21:13:23.387930Z",
     "start_time": "2024-06-02T21:13:23.382738Z"
    }
   },
   "source": [
    "# apply to the dataframe\n",
    "df = df.map(normalize_text)"
   ],
   "outputs": [],
   "execution_count": 62
  },
  {
   "cell_type": "markdown",
   "id": "951f0f3e",
   "metadata": {},
   "source": [
    "### Tokenization:"
   ]
  },
  {
   "cell_type": "markdown",
   "id": "f30375f4",
   "metadata": {},
   "source": [
    "Cette partie permet de découper le texte en mots"
   ]
  },
  {
   "cell_type": "code",
   "id": "8604dba8",
   "metadata": {
    "ExecuteTime": {
     "end_time": "2024-06-02T21:13:27.895149Z",
     "start_time": "2024-06-02T21:13:27.891865Z"
    }
   },
   "source": [
    "# chargement de la librairie nltk\n",
    "import nltk\n",
    "nltk.download('punkt')"
   ],
   "outputs": [
    {
     "name": "stderr",
     "output_type": "stream",
     "text": [
      "[nltk_data] Downloading package punkt to /home/amina/nltk_data...\n",
      "[nltk_data]   Package punkt is already up-to-date!\n"
     ]
    },
    {
     "data": {
      "text/plain": [
       "True"
      ]
     },
     "execution_count": 63,
     "metadata": {},
     "output_type": "execute_result"
    }
   ],
   "execution_count": 63
  },
  {
   "cell_type": "markdown",
   "id": "6b789426",
   "metadata": {},
   "source": [
    "**RegexpTokenizer** : permet de diviser une chaîne de caractères en sous-chaînes en utilisant une expression régulière."
   ]
  },
  {
   "cell_type": "code",
   "id": "d253eb383849586e",
   "metadata": {
    "ExecuteTime": {
     "end_time": "2024-06-02T21:13:31.025022Z",
     "start_time": "2024-06-02T21:13:31.022324Z"
    }
   },
   "source": [
    "from nltk import RegexpTokenizer\n",
    "\n",
    "def tokenizer(text):\n",
    "  return RegexpTokenizer(r'''\\w'|\\w+|[^\\w\\s]''').tokenize(text)"
   ],
   "outputs": [],
   "execution_count": 64
  },
  {
   "cell_type": "markdown",
   "id": "27c33823",
   "metadata": {},
   "source": [
    "La fonction **tokenizer_list** permet de diviser une séquence de texte en sous-séquences en utilisant le caractère '|' comme délimiteur, puis de segmenter chaque sous-séquence en mots et ponctuations."
   ]
  },
  {
   "cell_type": "code",
   "id": "b1da3847",
   "metadata": {
    "ExecuteTime": {
     "end_time": "2024-06-02T21:13:33.688027Z",
     "start_time": "2024-06-02T21:13:33.680526Z"
    }
   },
   "source": [
    "def tokenizer_list(text):\n",
    "  texts = text.split(\"|\")\n",
    "  result = []\n",
    "  for t in texts:\n",
    "    result.append( tokenizer(t) )\n",
    "\n",
    "  return result"
   ],
   "outputs": [],
   "execution_count": 65
  },
  {
   "cell_type": "code",
   "id": "585674df",
   "metadata": {
    "ExecuteTime": {
     "end_time": "2024-06-02T21:13:34.942360Z",
     "start_time": "2024-06-02T21:13:34.939102Z"
    }
   },
   "source": [
    "# Test\n",
    "text = \"Bonjour tout le monde!|il s'agit d'un test.\"\n",
    "tokenizer_list(text)"
   ],
   "outputs": [
    {
     "data": {
      "text/plain": [
       "[['Bonjour', 'tout', 'le', 'monde', '!'],\n",
       " ['il', \"s'\", 'agit', \"d'\", 'un', 'test', '.']]"
      ]
     },
     "execution_count": 66,
     "metadata": {},
     "output_type": "execute_result"
    }
   ],
   "execution_count": 66
  },
  {
   "cell_type": "markdown",
   "id": "a5a010b1",
   "metadata": {},
   "source": [
    "Application de la tokenization sur les données "
   ]
  },
  {
   "cell_type": "code",
   "id": "eb773011a6b223d6",
   "metadata": {
    "ExecuteTime": {
     "end_time": "2024-06-02T21:13:45.714055Z",
     "start_time": "2024-06-02T21:13:45.701761Z"
    }
   },
   "source": [
    "# Application de la fonction tokenizer sur les colonnes Phrase et PSR\n",
    "df['tokens'] = df['texts'].apply(tokenizer)\n",
    "df['PSR'] = df['PSR'].apply(tokenizer_list)\n",
    "df['annotation'] = df['annotation'].apply(lambda x : [t.strip() for t in x.split(\"|\")])"
   ],
   "outputs": [],
   "execution_count": 67
  },
  {
   "cell_type": "code",
   "id": "f0e76e52",
   "metadata": {
    "ExecuteTime": {
     "end_time": "2024-06-02T21:13:46.705967Z",
     "start_time": "2024-06-02T21:13:46.694226Z"
    }
   },
   "source": [
    "df.head()"
   ],
   "outputs": [
    {
     "data": {
      "text/plain": [
       "                                               texts  \\\n",
       "0  Survivante de la Shoah, elle a su puiser, dans...   \n",
       "1  la Constitution permet au Président de la Répu...   \n",
       "2      Les heures que nous vivons sont de celles-là.   \n",
       "3  Je veux aujourd'hui vous parler du mandat que ...   \n",
       "4  Pour d'autres, au nombre desquels je me range,...   \n",
       "\n",
       "                                                 PSR       annotation  \\\n",
       "0  [[qui, ont, défiguré, notre, continent, et, av...       [det, det]   \n",
       "1  [[qui, ,, de, cette, possibilité, ,, font, une...            [det]   \n",
       "2                              [[que, nous, vivons]]            [det]   \n",
       "3  [[que, le, peuple, nous, a, donné], [que, je, ...  [det, det, det]   \n",
       "4                        [[desquels, je, me, range]]            [det]   \n",
       "\n",
       "                                              tokens  \n",
       "0  [Survivante, de, la, Shoah, ,, elle, a, su, pu...  \n",
       "1  [la, Constitution, permet, au, Président, de, ...  \n",
       "2  [Les, heures, que, nous, vivons, sont, de, cel...  \n",
       "3  [Je, veux, aujourd, ', hui, vous, parler, du, ...  \n",
       "4  [Pour, d', autres, ,, au, nombre, desquels, je...  "
      ],
      "text/html": [
       "<div>\n",
       "<style scoped>\n",
       "    .dataframe tbody tr th:only-of-type {\n",
       "        vertical-align: middle;\n",
       "    }\n",
       "\n",
       "    .dataframe tbody tr th {\n",
       "        vertical-align: top;\n",
       "    }\n",
       "\n",
       "    .dataframe thead th {\n",
       "        text-align: right;\n",
       "    }\n",
       "</style>\n",
       "<table border=\"1\" class=\"dataframe\">\n",
       "  <thead>\n",
       "    <tr style=\"text-align: right;\">\n",
       "      <th></th>\n",
       "      <th>texts</th>\n",
       "      <th>PSR</th>\n",
       "      <th>annotation</th>\n",
       "      <th>tokens</th>\n",
       "    </tr>\n",
       "  </thead>\n",
       "  <tbody>\n",
       "    <tr>\n",
       "      <th>0</th>\n",
       "      <td>Survivante de la Shoah, elle a su puiser, dans...</td>\n",
       "      <td>[[qui, ont, défiguré, notre, continent, et, av...</td>\n",
       "      <td>[det, det]</td>\n",
       "      <td>[Survivante, de, la, Shoah, ,, elle, a, su, pu...</td>\n",
       "    </tr>\n",
       "    <tr>\n",
       "      <th>1</th>\n",
       "      <td>la Constitution permet au Président de la Répu...</td>\n",
       "      <td>[[qui, ,, de, cette, possibilité, ,, font, une...</td>\n",
       "      <td>[det]</td>\n",
       "      <td>[la, Constitution, permet, au, Président, de, ...</td>\n",
       "    </tr>\n",
       "    <tr>\n",
       "      <th>2</th>\n",
       "      <td>Les heures que nous vivons sont de celles-là.</td>\n",
       "      <td>[[que, nous, vivons]]</td>\n",
       "      <td>[det]</td>\n",
       "      <td>[Les, heures, que, nous, vivons, sont, de, cel...</td>\n",
       "    </tr>\n",
       "    <tr>\n",
       "      <th>3</th>\n",
       "      <td>Je veux aujourd'hui vous parler du mandat que ...</td>\n",
       "      <td>[[que, le, peuple, nous, a, donné], [que, je, ...</td>\n",
       "      <td>[det, det, det]</td>\n",
       "      <td>[Je, veux, aujourd, ', hui, vous, parler, du, ...</td>\n",
       "    </tr>\n",
       "    <tr>\n",
       "      <th>4</th>\n",
       "      <td>Pour d'autres, au nombre desquels je me range,...</td>\n",
       "      <td>[[desquels, je, me, range]]</td>\n",
       "      <td>[det]</td>\n",
       "      <td>[Pour, d', autres, ,, au, nombre, desquels, je...</td>\n",
       "    </tr>\n",
       "  </tbody>\n",
       "</table>\n",
       "</div>"
      ]
     },
     "execution_count": 68,
     "metadata": {},
     "output_type": "execute_result"
    }
   ],
   "execution_count": 68
  },
  {
   "metadata": {},
   "cell_type": "markdown",
   "source": "#### vérification de la tokenization",
   "id": "9be76576143c3bfb"
  },
  {
   "metadata": {
    "ExecuteTime": {
     "end_time": "2024-06-02T21:13:59.867864Z",
     "start_time": "2024-06-02T21:13:59.864495Z"
    }
   },
   "cell_type": "code",
   "source": [
    "# Fonction pour vérifier la taille des listes dans les colonnes 'PSR' et 'annotation'\n",
    "def check_list_sizes(row):\n",
    "    psr_len = len(row['PSR'])\n",
    "    annotation_len = len(row['annotation'])\n",
    "    return psr_len == annotation_len"
   ],
   "id": "c67bd7dc76500566",
   "outputs": [],
   "execution_count": 69
  },
  {
   "metadata": {
    "ExecuteTime": {
     "end_time": "2024-06-02T21:14:00.822408Z",
     "start_time": "2024-06-02T21:14:00.816397Z"
    }
   },
   "cell_type": "code",
   "source": [
    "# Appliquer la vérification à chaque ligne du DataFrame\n",
    "df['size_match'] = df.apply(check_list_sizes, axis=1)"
   ],
   "id": "503f7e70a69d93e9",
   "outputs": [],
   "execution_count": 70
  },
  {
   "metadata": {
    "ExecuteTime": {
     "end_time": "2024-06-02T21:14:01.711355Z",
     "start_time": "2024-06-02T21:14:01.704558Z"
    }
   },
   "cell_type": "code",
   "source": "df[df['size_match'] == False]",
   "id": "c8eb66e836161877",
   "outputs": [
    {
     "data": {
      "text/plain": [
       "Empty DataFrame\n",
       "Columns: [texts, PSR, annotation, tokens, size_match]\n",
       "Index: []"
      ],
      "text/html": [
       "<div>\n",
       "<style scoped>\n",
       "    .dataframe tbody tr th:only-of-type {\n",
       "        vertical-align: middle;\n",
       "    }\n",
       "\n",
       "    .dataframe tbody tr th {\n",
       "        vertical-align: top;\n",
       "    }\n",
       "\n",
       "    .dataframe thead th {\n",
       "        text-align: right;\n",
       "    }\n",
       "</style>\n",
       "<table border=\"1\" class=\"dataframe\">\n",
       "  <thead>\n",
       "    <tr style=\"text-align: right;\">\n",
       "      <th></th>\n",
       "      <th>texts</th>\n",
       "      <th>PSR</th>\n",
       "      <th>annotation</th>\n",
       "      <th>tokens</th>\n",
       "      <th>size_match</th>\n",
       "    </tr>\n",
       "  </thead>\n",
       "  <tbody>\n",
       "  </tbody>\n",
       "</table>\n",
       "</div>"
      ]
     },
     "execution_count": 71,
     "metadata": {},
     "output_type": "execute_result"
    }
   ],
   "execution_count": 71
  },
  {
   "metadata": {
    "ExecuteTime": {
     "end_time": "2024-06-02T21:14:06.489700Z",
     "start_time": "2024-06-02T21:14:06.486447Z"
    }
   },
   "cell_type": "code",
   "source": [
    "# Supprimer des lignes où la taille des listes dans les colonnes 'PSR' et 'annotation' ne correspond pas\n",
    "df = df[df['size_match'] == True]"
   ],
   "id": "9e36b0cd9fb7b118",
   "outputs": [],
   "execution_count": 72
  },
  {
   "metadata": {},
   "cell_type": "markdown",
   "source": "",
   "id": "619b61e3fb3f63f6"
  },
  {
   "cell_type": "markdown",
   "id": "56dd9918",
   "metadata": {},
   "source": [
    "### Labilisation:"
   ]
  },
  {
   "cell_type": "markdown",
   "id": "a58b527e",
   "metadata": {},
   "source": [
    "L'objectif de cette partie est de transformer les labels en valeurs numériques et aligner les labels avec le texte tokenisé."
   ]
  },
  {
   "cell_type": "code",
   "id": "9a87b8a323b1967f",
   "metadata": {
    "ExecuteTime": {
     "end_time": "2024-06-02T21:14:15.787228Z",
     "start_time": "2024-06-02T21:14:15.782583Z"
    }
   },
   "source": [
    "# Fonction pour annoter le texte \n",
    "# permet de labiliser en mode séquentiel ou non\n",
    "def annotate(text, psr_lst, tag_lst, mode_seq=False):\n",
    "    # Initialiser la liste des annotations avec des 0\n",
    "    annotation = [0] * len(text)\n",
    "    \n",
    "    \n",
    "    # Définir les labels pour chaque tag\n",
    "    labels = (\n",
    "        {'O': 0, 'det': 1, 'appo': 3, 'ambiguë': 5} if mode_seq \n",
    "        else {'O': 0, 'det': 1, 'appo': 2, 'ambiguë': 3}\n",
    "    )\n",
    "    \n",
    "    # Trouver la longueur du texte\n",
    "    text_len = len(text)\n",
    "    if len(psr_lst) != len(tag_lst):\n",
    "        raise ValueError(\"Les listes psr_lst et tag_lst doivent avoir la même taille\")\n",
    "    \n",
    "    # Parcourir chaque psr dans psr_lst\n",
    "    for i, psr in enumerate(psr_lst):\n",
    "        psr_len = len(psr)  # Longueur de la sous-séquence psr\n",
    "        \n",
    "        tag = tag_lst[i]  # Etiquette correspondante\n",
    "        \n",
    "        # Parcourir le texte pour trouver des correspondances avec psr\n",
    "        for j in range(text_len - psr_len + 1):\n",
    "            if text[j:j + psr_len] == psr:\n",
    "                annotation[j] = labels[tag] # Labelliser le token correspondant\n",
    "                if mode_seq: # Si le mode séquentiel est activé, labelliser les tokens suivants\n",
    "                  for k in range(j + 1, j + psr_len):\n",
    "                    annotation[k] = labels[tag] + 1\n",
    "                break\n",
    "\n",
    "    return annotation"
   ],
   "outputs": [],
   "execution_count": 73
  },
  {
   "metadata": {
    "ExecuteTime": {
     "end_time": "2024-06-02T21:14:19.143185Z",
     "start_time": "2024-06-02T21:14:19.140072Z"
    }
   },
   "cell_type": "code",
   "source": [
    "words = tokenizer(\"Vous passerez, nous passerons sans doute des jours et des nuits sur des sujets qui touchent le quotidien de nos concitoyens et qui auront chacun leur importance.\")\n",
    "psr = tokenizer_list(\"qui touchent le quotidien de nos concitoyens|qui auront chacun leur importance\")\n",
    "tag = 'appo|appo'.split('|')\n",
    "\n",
    "print(words, len(words))\n",
    "print(psr)\n",
    "print(tag)"
   ],
   "id": "9181ee4389de4068",
   "outputs": [
    {
     "name": "stdout",
     "output_type": "stream",
     "text": [
      "['Vous', 'passerez', ',', 'nous', 'passerons', 'sans', 'doute', 'des', 'jours', 'et', 'des', 'nuits', 'sur', 'des', 'sujets', 'qui', 'touchent', 'le', 'quotidien', 'de', 'nos', 'concitoyens', 'et', 'qui', 'auront', 'chacun', 'leur', 'importance', '.'] 29\n",
      "[['qui', 'touchent', 'le', 'quotidien', 'de', 'nos', 'concitoyens'], ['qui', 'auront', 'chacun', 'leur', 'importance']]\n",
      "['appo', 'appo']\n"
     ]
    }
   ],
   "execution_count": 74
  },
  {
   "cell_type": "code",
   "id": "69a625b4",
   "metadata": {
    "ExecuteTime": {
     "end_time": "2024-06-02T21:14:19.893173Z",
     "start_time": "2024-06-02T21:14:19.886350Z"
    }
   },
   "source": [
    "# test de la fonction annotate\n",
    "\n",
    "labels = annotate(words, psr,tag )\n",
    "labels_seq = annotate(words, psr,tag, mode_seq=True)\n",
    "label_names = ['O', 'DET', 'APPO', 'AMBIGUE']\n",
    "label_names_seq = ['O', 'B-DET', 'I-DET', 'B-APPO', 'I-APPO', 'B-AMBIGUE','I-AMBIGUE']\n",
    "\n",
    "\n",
    "line1 = \"\"\n",
    "line2 = \"\"\n",
    "line3 = \"\"\n",
    "\n",
    "for word, label, label_seq in zip(words, labels, labels_seq):\n",
    "    full_label = label_names[label]\n",
    "    full_label_seq = label_names_seq[label_seq]\n",
    "    \n",
    "    max_length = max(len(word), len(full_label), len(full_label_seq))\n",
    "    line1 += word + \" \" * (max_length - len(word) + 1)\n",
    "    line2 += full_label + \" \" * (max_length - len(full_label) + 1)\n",
    "    line3 += full_label_seq + \" \" * (max_length - len(full_label_seq) + 1)\n",
    "\n",
    "# Affichage aligné des tokens et de leurs tags\n",
    "print(line1)\n",
    "print(line2)\n",
    "print(line3)"
   ],
   "outputs": [
    {
     "name": "stdout",
     "output_type": "stream",
     "text": [
      "Vous passerez , nous passerons sans doute des jours et des nuits sur des sujets qui    touchent le     quotidien de     nos    concitoyens et qui    auront chacun leur   importance . \n",
      "O    O        O O    O         O    O     O   O     O  O   O     O   O   O      APPO   O        O      O         O      O      O           O  APPO   O      O      O      O          O \n",
      "O    O        O O    O         O    O     O   O     O  O   O     O   O   O      B-APPO I-APPO   I-APPO I-APPO    I-APPO I-APPO I-APPO      O  B-APPO I-APPO I-APPO I-APPO I-APPO     O \n"
     ]
    }
   ],
   "execution_count": 75
  },
  {
   "cell_type": "code",
   "id": "c1f47abe592afcfd",
   "metadata": {
    "ExecuteTime": {
     "end_time": "2024-06-02T21:14:44.667226Z",
     "start_time": "2024-06-02T21:14:44.658630Z"
    }
   },
   "source": [
    "# Appliquer la fonction annotate à chaque ligne du DataFrame pour créer la colonne psr_tags\n",
    "df['psr_tags'] = df.apply(lambda row: annotate(row['tokens'], row['PSR'], row['annotation']), axis=1)"
   ],
   "outputs": [],
   "execution_count": 76
  },
  {
   "metadata": {
    "ExecuteTime": {
     "end_time": "2024-06-02T21:14:46.835298Z",
     "start_time": "2024-06-02T21:14:46.826023Z"
    }
   },
   "cell_type": "code",
   "source": [
    "# Appliquer la fonction annotate à chaque ligne du DataFrame pour créer la colonne psr_tags\n",
    "df['psr_tags_seq'] = df.apply(lambda row: annotate(row['tokens'], row['PSR'], row['annotation'], mode_seq=True), axis=1)"
   ],
   "id": "80dd8fbd0a033cb",
   "outputs": [],
   "execution_count": 77
  },
  {
   "cell_type": "code",
   "id": "8372b616e5604e3d",
   "metadata": {
    "ExecuteTime": {
     "end_time": "2024-06-02T21:15:16.920229Z",
     "start_time": "2024-06-02T21:15:16.916973Z"
    }
   },
   "source": [
    "# Supprimer les colonnes PSR et annotation\n",
    "df.drop(columns=['texts','PSR','annotation','size_match'], inplace=True)\n",
    "\n",
    "\n",
    "\n",
    "# reinstialiser l'index\n",
    "df.reset_index(names='id' ,inplace=True)\n"
   ],
   "outputs": [],
   "execution_count": 78
  },
  {
   "cell_type": "code",
   "id": "50a620046601250d",
   "metadata": {
    "ExecuteTime": {
     "end_time": "2024-06-02T21:15:19.498372Z",
     "start_time": "2024-06-02T21:15:19.489923Z"
    }
   },
   "source": [
    "\n",
    "df.head()"
   ],
   "outputs": [
    {
     "data": {
      "text/plain": [
       "   id                                             tokens  \\\n",
       "0   0  [Survivante, de, la, Shoah, ,, elle, a, su, pu...   \n",
       "1   1  [la, Constitution, permet, au, Président, de, ...   \n",
       "2   2  [Les, heures, que, nous, vivons, sont, de, cel...   \n",
       "3   3  [Je, veux, aujourd, ', hui, vous, parler, du, ...   \n",
       "4   4  [Pour, d', autres, ,, au, nombre, desquels, je...   \n",
       "\n",
       "                                            psr_tags  \\\n",
       "0  [0, 0, 0, 0, 0, 0, 0, 0, 0, 0, 0, 0, 0, 1, 0, ...   \n",
       "1  [0, 0, 0, 0, 0, 0, 0, 0, 0, 0, 0, 0, 0, 0, 0, ...   \n",
       "2                  [0, 0, 1, 0, 0, 0, 0, 0, 0, 0, 0]   \n",
       "3  [0, 0, 0, 0, 0, 0, 0, 0, 0, 1, 0, 0, 0, 0, 0, ...   \n",
       "4  [0, 0, 0, 0, 0, 0, 1, 0, 0, 0, 0, 0, 0, 0, 0, ...   \n",
       "\n",
       "                                        psr_tags_seq  \n",
       "0  [0, 0, 0, 0, 0, 0, 0, 0, 0, 0, 0, 0, 0, 1, 2, ...  \n",
       "1  [0, 0, 0, 0, 0, 0, 0, 0, 0, 0, 0, 0, 0, 0, 0, ...  \n",
       "2                  [0, 0, 1, 2, 2, 0, 0, 0, 0, 0, 0]  \n",
       "3  [0, 0, 0, 0, 0, 0, 0, 0, 0, 1, 2, 2, 2, 2, 2, ...  \n",
       "4  [0, 0, 0, 0, 0, 0, 1, 2, 2, 2, 0, 0, 0, 0, 0, ...  "
      ],
      "text/html": [
       "<div>\n",
       "<style scoped>\n",
       "    .dataframe tbody tr th:only-of-type {\n",
       "        vertical-align: middle;\n",
       "    }\n",
       "\n",
       "    .dataframe tbody tr th {\n",
       "        vertical-align: top;\n",
       "    }\n",
       "\n",
       "    .dataframe thead th {\n",
       "        text-align: right;\n",
       "    }\n",
       "</style>\n",
       "<table border=\"1\" class=\"dataframe\">\n",
       "  <thead>\n",
       "    <tr style=\"text-align: right;\">\n",
       "      <th></th>\n",
       "      <th>id</th>\n",
       "      <th>tokens</th>\n",
       "      <th>psr_tags</th>\n",
       "      <th>psr_tags_seq</th>\n",
       "    </tr>\n",
       "  </thead>\n",
       "  <tbody>\n",
       "    <tr>\n",
       "      <th>0</th>\n",
       "      <td>0</td>\n",
       "      <td>[Survivante, de, la, Shoah, ,, elle, a, su, pu...</td>\n",
       "      <td>[0, 0, 0, 0, 0, 0, 0, 0, 0, 0, 0, 0, 0, 1, 0, ...</td>\n",
       "      <td>[0, 0, 0, 0, 0, 0, 0, 0, 0, 0, 0, 0, 0, 1, 2, ...</td>\n",
       "    </tr>\n",
       "    <tr>\n",
       "      <th>1</th>\n",
       "      <td>1</td>\n",
       "      <td>[la, Constitution, permet, au, Président, de, ...</td>\n",
       "      <td>[0, 0, 0, 0, 0, 0, 0, 0, 0, 0, 0, 0, 0, 0, 0, ...</td>\n",
       "      <td>[0, 0, 0, 0, 0, 0, 0, 0, 0, 0, 0, 0, 0, 0, 0, ...</td>\n",
       "    </tr>\n",
       "    <tr>\n",
       "      <th>2</th>\n",
       "      <td>2</td>\n",
       "      <td>[Les, heures, que, nous, vivons, sont, de, cel...</td>\n",
       "      <td>[0, 0, 1, 0, 0, 0, 0, 0, 0, 0, 0]</td>\n",
       "      <td>[0, 0, 1, 2, 2, 0, 0, 0, 0, 0, 0]</td>\n",
       "    </tr>\n",
       "    <tr>\n",
       "      <th>3</th>\n",
       "      <td>3</td>\n",
       "      <td>[Je, veux, aujourd, ', hui, vous, parler, du, ...</td>\n",
       "      <td>[0, 0, 0, 0, 0, 0, 0, 0, 0, 1, 0, 0, 0, 0, 0, ...</td>\n",
       "      <td>[0, 0, 0, 0, 0, 0, 0, 0, 0, 1, 2, 2, 2, 2, 2, ...</td>\n",
       "    </tr>\n",
       "    <tr>\n",
       "      <th>4</th>\n",
       "      <td>4</td>\n",
       "      <td>[Pour, d', autres, ,, au, nombre, desquels, je...</td>\n",
       "      <td>[0, 0, 0, 0, 0, 0, 1, 0, 0, 0, 0, 0, 0, 0, 0, ...</td>\n",
       "      <td>[0, 0, 0, 0, 0, 0, 1, 2, 2, 2, 0, 0, 0, 0, 0, ...</td>\n",
       "    </tr>\n",
       "  </tbody>\n",
       "</table>\n",
       "</div>"
      ]
     },
     "execution_count": 79,
     "metadata": {},
     "output_type": "execute_result"
    }
   ],
   "execution_count": 79
  },
  {
   "cell_type": "markdown",
   "id": "bdf50c76b6467a7f",
   "metadata": {},
   "source": [
    "## Création Dataset Hugging Face"
   ]
  },
  {
   "cell_type": "markdown",
   "id": "646eeca546f689ea",
   "metadata": {},
   "source": [
    "### Découpage du jeu de données en train, validation et test"
   ]
  },
  {
   "cell_type": "code",
   "id": "80a621a1d72dee0a",
   "metadata": {
    "ExecuteTime": {
     "end_time": "2024-06-02T21:15:52.541147Z",
     "start_time": "2024-06-02T21:15:52.534660Z"
    }
   },
   "source": [
    "#split the dataset into train , validation and test\n",
    "from sklearn.model_selection import train_test_split\n",
    "\n",
    "train_df, test_df = train_test_split(df, test_size=0.2, random_state=42)\n",
    "\n",
    "train_df, val_df = train_test_split(train_df, test_size=0.2, random_state=42)"
   ],
   "outputs": [],
   "execution_count": 80
  },
  {
   "cell_type": "code",
   "id": "2a9adacf02c4cc42",
   "metadata": {
    "ExecuteTime": {
     "end_time": "2024-06-02T21:15:54.665050Z",
     "start_time": "2024-06-02T21:15:54.662006Z"
    }
   },
   "source": [
    "# Supprimer les colonnes d'index auto-générées si elles existent\n",
    "train_df.reset_index(drop=True, inplace=True)\n",
    "val_df.reset_index(drop=True,inplace=True)\n",
    "test_df.reset_index(drop=True, inplace=True)"
   ],
   "outputs": [],
   "execution_count": 81
  },
  {
   "cell_type": "code",
   "id": "e5350a165c9c5e77",
   "metadata": {
    "ExecuteTime": {
     "end_time": "2024-06-02T21:15:55.404518Z",
     "start_time": "2024-06-02T21:15:55.396022Z"
    }
   },
   "source": [
    "train_df.head()"
   ],
   "outputs": [
    {
     "data": {
      "text/plain": [
       "    id                                             tokens  \\\n",
       "0   12  [il, nous, appartiendra, aussi, de, convaincre...   \n",
       "1  475  [Bref, ,, vous, prétendez, mener, cette, réfor...   \n",
       "2  382  [Je, vous, conseille, d', aller, la, voir, sur...   \n",
       "3  312  [Il, faut, en, finir, avec, la, démagogie, sin...   \n",
       "4  171  [Il, faut, reprendre, l', Europe, à, son, débu...   \n",
       "\n",
       "                                            psr_tags  \\\n",
       "0                     [0, 0, 0, 0, 0, 0, 0, 0, 1, 0]   \n",
       "1  [0, 0, 0, 0, 0, 0, 0, 0, 0, 0, 0, 0, 0, 0, 0, ...   \n",
       "2  [0, 0, 0, 0, 0, 0, 0, 0, 0, 0, 0, 0, 0, 2, 0, ...   \n",
       "3  [0, 0, 0, 0, 0, 0, 0, 0, 0, 0, 1, 0, 0, 0, 0, ...   \n",
       "4  [0, 0, 0, 0, 0, 0, 0, 0, 0, 0, 0, 0, 0, 0, 0, ...   \n",
       "\n",
       "                                        psr_tags_seq  \n",
       "0                     [0, 0, 0, 0, 0, 0, 0, 0, 1, 2]  \n",
       "1  [0, 0, 0, 0, 0, 0, 0, 0, 0, 0, 0, 0, 0, 0, 0, ...  \n",
       "2  [0, 0, 0, 0, 0, 0, 0, 0, 0, 0, 0, 0, 0, 3, 4, ...  \n",
       "3  [0, 0, 0, 0, 0, 0, 0, 0, 0, 0, 1, 2, 2, 2, 2, ...  \n",
       "4  [0, 0, 0, 0, 0, 0, 0, 0, 0, 0, 0, 0, 0, 0, 0, ...  "
      ],
      "text/html": [
       "<div>\n",
       "<style scoped>\n",
       "    .dataframe tbody tr th:only-of-type {\n",
       "        vertical-align: middle;\n",
       "    }\n",
       "\n",
       "    .dataframe tbody tr th {\n",
       "        vertical-align: top;\n",
       "    }\n",
       "\n",
       "    .dataframe thead th {\n",
       "        text-align: right;\n",
       "    }\n",
       "</style>\n",
       "<table border=\"1\" class=\"dataframe\">\n",
       "  <thead>\n",
       "    <tr style=\"text-align: right;\">\n",
       "      <th></th>\n",
       "      <th>id</th>\n",
       "      <th>tokens</th>\n",
       "      <th>psr_tags</th>\n",
       "      <th>psr_tags_seq</th>\n",
       "    </tr>\n",
       "  </thead>\n",
       "  <tbody>\n",
       "    <tr>\n",
       "      <th>0</th>\n",
       "      <td>12</td>\n",
       "      <td>[il, nous, appartiendra, aussi, de, convaincre...</td>\n",
       "      <td>[0, 0, 0, 0, 0, 0, 0, 0, 1, 0]</td>\n",
       "      <td>[0, 0, 0, 0, 0, 0, 0, 0, 1, 2]</td>\n",
       "    </tr>\n",
       "    <tr>\n",
       "      <th>1</th>\n",
       "      <td>475</td>\n",
       "      <td>[Bref, ,, vous, prétendez, mener, cette, réfor...</td>\n",
       "      <td>[0, 0, 0, 0, 0, 0, 0, 0, 0, 0, 0, 0, 0, 0, 0, ...</td>\n",
       "      <td>[0, 0, 0, 0, 0, 0, 0, 0, 0, 0, 0, 0, 0, 0, 0, ...</td>\n",
       "    </tr>\n",
       "    <tr>\n",
       "      <th>2</th>\n",
       "      <td>382</td>\n",
       "      <td>[Je, vous, conseille, d', aller, la, voir, sur...</td>\n",
       "      <td>[0, 0, 0, 0, 0, 0, 0, 0, 0, 0, 0, 0, 0, 2, 0, ...</td>\n",
       "      <td>[0, 0, 0, 0, 0, 0, 0, 0, 0, 0, 0, 0, 0, 3, 4, ...</td>\n",
       "    </tr>\n",
       "    <tr>\n",
       "      <th>3</th>\n",
       "      <td>312</td>\n",
       "      <td>[Il, faut, en, finir, avec, la, démagogie, sin...</td>\n",
       "      <td>[0, 0, 0, 0, 0, 0, 0, 0, 0, 0, 1, 0, 0, 0, 0, ...</td>\n",
       "      <td>[0, 0, 0, 0, 0, 0, 0, 0, 0, 0, 1, 2, 2, 2, 2, ...</td>\n",
       "    </tr>\n",
       "    <tr>\n",
       "      <th>4</th>\n",
       "      <td>171</td>\n",
       "      <td>[Il, faut, reprendre, l', Europe, à, son, débu...</td>\n",
       "      <td>[0, 0, 0, 0, 0, 0, 0, 0, 0, 0, 0, 0, 0, 0, 0, ...</td>\n",
       "      <td>[0, 0, 0, 0, 0, 0, 0, 0, 0, 0, 0, 0, 0, 0, 0, ...</td>\n",
       "    </tr>\n",
       "  </tbody>\n",
       "</table>\n",
       "</div>"
      ]
     },
     "execution_count": 82,
     "metadata": {},
     "output_type": "execute_result"
    }
   ],
   "execution_count": 82
  },
  {
   "cell_type": "markdown",
   "id": "941cd33ac11d6213",
   "metadata": {},
   "source": [
    "### Préparation des datasets"
   ]
  },
  {
   "cell_type": "code",
   "id": "b08245479985b8be",
   "metadata": {
    "ExecuteTime": {
     "end_time": "2024-06-02T21:16:01.969009Z",
     "start_time": "2024-06-02T21:16:01.684595Z"
    }
   },
   "source": [
    "from datasets import Dataset, Features, Sequence, Value, ClassLabel"
   ],
   "outputs": [],
   "execution_count": 83
  },
  {
   "cell_type": "code",
   "id": "ba261857dbbdab25",
   "metadata": {
    "ExecuteTime": {
     "end_time": "2024-06-02T21:16:38.608551Z",
     "start_time": "2024-06-02T21:16:38.605172Z"
    }
   },
   "source": [
    "# Définir les Features pour chaque colonne du DataFrame\n",
    "features = Features({\n",
    "    'id': Value(dtype='int32', id=None),\n",
    "    'tokens': Sequence(feature=Value(dtype='string', id=None), length=-1, id=None),\n",
    "    'psr_tags': Sequence(feature=ClassLabel(names=['O', 'DET', 'APPO', 'AMBIGUE'], id=None), length=-1, id=None),\n",
    "    'psr_tags_seq': Sequence(feature=ClassLabel(names=['O', 'B-DET', 'I-DET', 'B-APPO', 'I-APPO', 'B-AMBIGUE','I-AMBIGUE'], id=None), length=-1, id=None)\n",
    "})"
   ],
   "outputs": [],
   "execution_count": 84
  },
  {
   "cell_type": "code",
   "id": "73313b1981a5a16d",
   "metadata": {
    "ExecuteTime": {
     "end_time": "2024-06-02T21:16:53.258431Z",
     "start_time": "2024-06-02T21:16:53.231467Z"
    }
   },
   "source": [
    "# Convertir le DataFrame en Dataset Hugging Face avec les Features spécifiés\n",
    "train_ds = Dataset.from_pandas(train_df, features=features)\n",
    "val_ds = Dataset.from_pandas(val_df, features=features)\n",
    "test_ds = Dataset.from_pandas(test_df, features=features)"
   ],
   "outputs": [],
   "execution_count": 85
  },
  {
   "cell_type": "code",
   "id": "e154dfa173c5d156",
   "metadata": {
    "ExecuteTime": {
     "end_time": "2024-06-02T21:16:54.699037Z",
     "start_time": "2024-06-02T21:16:54.695917Z"
    }
   },
   "source": [
    "train_ds"
   ],
   "outputs": [
    {
     "data": {
      "text/plain": [
       "Dataset({\n",
       "    features: ['id', 'tokens', 'psr_tags', 'psr_tags_seq'],\n",
       "    num_rows: 348\n",
       "})"
      ]
     },
     "execution_count": 86,
     "metadata": {},
     "output_type": "execute_result"
    }
   ],
   "execution_count": 86
  },
  {
   "cell_type": "code",
   "id": "387b7d2b7c6d8f1e",
   "metadata": {
    "ExecuteTime": {
     "end_time": "2024-06-02T21:17:03.292880Z",
     "start_time": "2024-06-02T21:17:03.290386Z"
    }
   },
   "source": [
    "from datasets import DatasetDict\n",
    "\n",
    "# Recréation du DatasetDict\n",
    "dataset = DatasetDict({\n",
    "    'train': train_ds,\n",
    "    'validation': val_ds,\n",
    "    'test': test_ds\n",
    "})"
   ],
   "outputs": [],
   "execution_count": 87
  },
  {
   "cell_type": "code",
   "id": "acd319d12f6f7522",
   "metadata": {
    "ExecuteTime": {
     "end_time": "2024-06-02T21:17:05.348824Z",
     "start_time": "2024-06-02T21:17:05.345871Z"
    }
   },
   "source": [
    "dataset"
   ],
   "outputs": [
    {
     "data": {
      "text/plain": [
       "DatasetDict({\n",
       "    train: Dataset({\n",
       "        features: ['id', 'tokens', 'psr_tags', 'psr_tags_seq'],\n",
       "        num_rows: 348\n",
       "    })\n",
       "    validation: Dataset({\n",
       "        features: ['id', 'tokens', 'psr_tags', 'psr_tags_seq'],\n",
       "        num_rows: 88\n",
       "    })\n",
       "    test: Dataset({\n",
       "        features: ['id', 'tokens', 'psr_tags', 'psr_tags_seq'],\n",
       "        num_rows: 110\n",
       "    })\n",
       "})"
      ]
     },
     "execution_count": 88,
     "metadata": {},
     "output_type": "execute_result"
    }
   ],
   "execution_count": 88
  },
  {
   "cell_type": "markdown",
   "id": "f8979eba",
   "metadata": {},
   "source": [
    "### Sauvegarde des datasets et publication sur Hugging Face"
   ]
  },
  {
   "cell_type": "code",
   "id": "0f36fad1",
   "metadata": {
    "ExecuteTime": {
     "end_time": "2024-06-02T21:19:46.597653Z",
     "start_time": "2024-06-02T21:19:46.594288Z"
    }
   },
   "source": "dataset_name = 'relatives_psr'",
   "outputs": [],
   "execution_count": 91
  },
  {
   "cell_type": "code",
   "id": "92604fafee1ab637",
   "metadata": {},
   "source": [
    "from huggingface_hub import notebook_login\n",
    "\n",
    "notebook_login()"
   ],
   "outputs": [],
   "execution_count": null
  },
  {
   "cell_type": "code",
   "id": "9c86299eef964535",
   "metadata": {
    "ExecuteTime": {
     "end_time": "2024-06-02T21:19:59.732802Z",
     "start_time": "2024-06-02T21:19:56.276966Z"
    }
   },
   "source": [
    "# Enregistrer le DatasetDict dans le hub Hugging Face\n",
    "dataset.push_to_hub(dataset_name)"
   ],
   "outputs": [
    {
     "data": {
      "text/plain": [
       "Uploading the dataset shards:   0%|          | 0/1 [00:00<?, ?it/s]"
      ],
      "application/vnd.jupyter.widget-view+json": {
       "version_major": 2,
       "version_minor": 0,
       "model_id": "9586711823664f2398433f5d547e0599"
      }
     },
     "metadata": {},
     "output_type": "display_data"
    },
    {
     "data": {
      "text/plain": [
       "Creating parquet from Arrow format:   0%|          | 0/1 [00:00<?, ?ba/s]"
      ],
      "application/vnd.jupyter.widget-view+json": {
       "version_major": 2,
       "version_minor": 0,
       "model_id": "c6078e8d5f864c818db87bde6c1efb78"
      }
     },
     "metadata": {},
     "output_type": "display_data"
    },
    {
     "data": {
      "text/plain": [
       "Uploading the dataset shards:   0%|          | 0/1 [00:00<?, ?it/s]"
      ],
      "application/vnd.jupyter.widget-view+json": {
       "version_major": 2,
       "version_minor": 0,
       "model_id": "60890050eb7d4c7aa36ac3075d58d9b3"
      }
     },
     "metadata": {},
     "output_type": "display_data"
    },
    {
     "data": {
      "text/plain": [
       "Creating parquet from Arrow format:   0%|          | 0/1 [00:00<?, ?ba/s]"
      ],
      "application/vnd.jupyter.widget-view+json": {
       "version_major": 2,
       "version_minor": 0,
       "model_id": "6ecba9ed57774fe39d599dca32904e03"
      }
     },
     "metadata": {},
     "output_type": "display_data"
    },
    {
     "data": {
      "text/plain": [
       "Uploading the dataset shards:   0%|          | 0/1 [00:00<?, ?it/s]"
      ],
      "application/vnd.jupyter.widget-view+json": {
       "version_major": 2,
       "version_minor": 0,
       "model_id": "361746d475634d84838d4e767378cc30"
      }
     },
     "metadata": {},
     "output_type": "display_data"
    },
    {
     "data": {
      "text/plain": [
       "Creating parquet from Arrow format:   0%|          | 0/1 [00:00<?, ?ba/s]"
      ],
      "application/vnd.jupyter.widget-view+json": {
       "version_major": 2,
       "version_minor": 0,
       "model_id": "0fa939acc6654928a367dd2cbb1dfd20"
      }
     },
     "metadata": {},
     "output_type": "display_data"
    },
    {
     "data": {
      "text/plain": [
       "README.md:   0%|          | 0.00/5.32k [00:00<?, ?B/s]"
      ],
      "application/vnd.jupyter.widget-view+json": {
       "version_major": 2,
       "version_minor": 0,
       "model_id": "c4decdc4a35440cbaf45b16fcfd5e5fe"
      }
     },
     "metadata": {},
     "output_type": "display_data"
    },
    {
     "data": {
      "text/plain": [
       "CommitInfo(commit_url='https://huggingface.co/datasets/djamina/relatives_psr/commit/27f49c4e4c2ab7835f6e604ae8928e396da5b7b4', commit_message='Upload dataset', commit_description='', oid='27f49c4e4c2ab7835f6e604ae8928e396da5b7b4', pr_url=None, pr_revision=None, pr_num=None)"
      ]
     },
     "execution_count": 92,
     "metadata": {},
     "output_type": "execute_result"
    }
   ],
   "execution_count": 92
  },
  {
   "metadata": {},
   "cell_type": "code",
   "outputs": [],
   "execution_count": null,
   "source": "",
   "id": "bd940db3a92364ce"
  }
 ],
 "metadata": {
  "kernelspec": {
   "display_name": "Python 3",
   "language": "python",
   "name": "python3"
  },
  "language_info": {
   "codemirror_mode": {
    "name": "ipython",
    "version": 3
   },
   "file_extension": ".py",
   "mimetype": "text/x-python",
   "name": "python",
   "nbconvert_exporter": "python",
   "pygments_lexer": "ipython3",
   "version": "3.10.13"
  }
 },
 "nbformat": 4,
 "nbformat_minor": 5
}
