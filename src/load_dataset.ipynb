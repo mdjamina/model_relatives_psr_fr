{
  "cells": [
    {
      "cell_type": "markdown",
      "metadata": {
        "id": "view-in-github",
        "colab_type": "text"
      },
      "source": [
        "<a href=\"https://colab.research.google.com/github/mdjamina/model_relatives_psr_fr/blob/text_class_model/src/load_dataset.ipynb\" target=\"_parent\"><img src=\"https://colab.research.google.com/assets/colab-badge.svg\" alt=\"Open In Colab\"/></a>"
      ]
    },
    {
      "cell_type": "code",
      "source": [
        "!pip install datasets"
      ],
      "metadata": {
        "id": "6SE5K21RxCzq"
      },
      "id": "6SE5K21RxCzq",
      "execution_count": null,
      "outputs": []
    },
    {
      "cell_type": "markdown",
      "id": "bcb8ebe5",
      "metadata": {
        "id": "bcb8ebe5"
      },
      "source": [
        "# Préparation des données"
      ]
    },
    {
      "cell_type": "markdown",
      "id": "22712cfd",
      "metadata": {
        "id": "22712cfd"
      },
      "source": [
        "## Chargement des données"
      ]
    },
    {
      "cell_type": "code",
      "id": "ce9f4468267ac500",
      "metadata": {
        "ExecuteTime": {
          "end_time": "2024-06-04T21:14:13.641579Z",
          "start_time": "2024-06-04T21:14:13.482680Z"
        },
        "id": "ce9f4468267ac500"
      },
      "source": [
        "import pandas as pd\n",
        "#file_path = '../data/relatives.xlsx'\n",
        "file_path = 'relatives.xlsx'\n",
        "sheet_name = 'data'\n",
        "df = pd.read_excel(file_path, sheet_name=sheet_name)"
      ],
      "outputs": [],
      "execution_count": 29
    },
    {
      "cell_type": "code",
      "id": "1807b35d",
      "metadata": {
        "id": "1807b35d",
        "outputId": "1741329d-7fbf-4fe6-cab3-094c4b8ff0f2",
        "colab": {
          "base_uri": "https://localhost:8080/",
          "height": 206
        }
      },
      "source": [
        "df.head()"
      ],
      "outputs": [
        {
          "output_type": "execute_result",
          "data": {
            "text/plain": [
              "                                               texts  \\\n",
              "0  Survivante de la Shoah, elle a su puiser, dans...   \n",
              "1  la Constitution permet au Président de la Répu...   \n",
              "2      Les heures que nous vivons sont de celles-là.   \n",
              "3  Je veux aujourd’hui vous parler du mandat que ...   \n",
              "4  Pour d’autres, au nombre desquels je me range,...   \n",
              "\n",
              "                                                 PSR   annotation  \n",
              "0  qui ont défiguré notre continent et avili l’hu...      det|det  \n",
              "1      qui, de cette possibilité, font une nécessité          det  \n",
              "2                                    que nous vivons          det  \n",
              "3  que le peuple nous a donné|que je veux changer...  det|det|det  \n",
              "4                               desquels je me range          det  "
            ],
            "text/html": [
              "\n",
              "  <div id=\"df-b2d1dd82-2a51-475e-a177-f478494cdbd6\" class=\"colab-df-container\">\n",
              "    <div>\n",
              "<style scoped>\n",
              "    .dataframe tbody tr th:only-of-type {\n",
              "        vertical-align: middle;\n",
              "    }\n",
              "\n",
              "    .dataframe tbody tr th {\n",
              "        vertical-align: top;\n",
              "    }\n",
              "\n",
              "    .dataframe thead th {\n",
              "        text-align: right;\n",
              "    }\n",
              "</style>\n",
              "<table border=\"1\" class=\"dataframe\">\n",
              "  <thead>\n",
              "    <tr style=\"text-align: right;\">\n",
              "      <th></th>\n",
              "      <th>texts</th>\n",
              "      <th>PSR</th>\n",
              "      <th>annotation</th>\n",
              "    </tr>\n",
              "  </thead>\n",
              "  <tbody>\n",
              "    <tr>\n",
              "      <th>0</th>\n",
              "      <td>Survivante de la Shoah, elle a su puiser, dans...</td>\n",
              "      <td>qui ont défiguré notre continent et avili l’hu...</td>\n",
              "      <td>det|det</td>\n",
              "    </tr>\n",
              "    <tr>\n",
              "      <th>1</th>\n",
              "      <td>la Constitution permet au Président de la Répu...</td>\n",
              "      <td>qui, de cette possibilité, font une nécessité</td>\n",
              "      <td>det</td>\n",
              "    </tr>\n",
              "    <tr>\n",
              "      <th>2</th>\n",
              "      <td>Les heures que nous vivons sont de celles-là.</td>\n",
              "      <td>que nous vivons</td>\n",
              "      <td>det</td>\n",
              "    </tr>\n",
              "    <tr>\n",
              "      <th>3</th>\n",
              "      <td>Je veux aujourd’hui vous parler du mandat que ...</td>\n",
              "      <td>que le peuple nous a donné|que je veux changer...</td>\n",
              "      <td>det|det|det</td>\n",
              "    </tr>\n",
              "    <tr>\n",
              "      <th>4</th>\n",
              "      <td>Pour d’autres, au nombre desquels je me range,...</td>\n",
              "      <td>desquels je me range</td>\n",
              "      <td>det</td>\n",
              "    </tr>\n",
              "  </tbody>\n",
              "</table>\n",
              "</div>\n",
              "    <div class=\"colab-df-buttons\">\n",
              "\n",
              "  <div class=\"colab-df-container\">\n",
              "    <button class=\"colab-df-convert\" onclick=\"convertToInteractive('df-b2d1dd82-2a51-475e-a177-f478494cdbd6')\"\n",
              "            title=\"Convert this dataframe to an interactive table.\"\n",
              "            style=\"display:none;\">\n",
              "\n",
              "  <svg xmlns=\"http://www.w3.org/2000/svg\" height=\"24px\" viewBox=\"0 -960 960 960\">\n",
              "    <path d=\"M120-120v-720h720v720H120Zm60-500h600v-160H180v160Zm220 220h160v-160H400v160Zm0 220h160v-160H400v160ZM180-400h160v-160H180v160Zm440 0h160v-160H620v160ZM180-180h160v-160H180v160Zm440 0h160v-160H620v160Z\"/>\n",
              "  </svg>\n",
              "    </button>\n",
              "\n",
              "  <style>\n",
              "    .colab-df-container {\n",
              "      display:flex;\n",
              "      gap: 12px;\n",
              "    }\n",
              "\n",
              "    .colab-df-convert {\n",
              "      background-color: #E8F0FE;\n",
              "      border: none;\n",
              "      border-radius: 50%;\n",
              "      cursor: pointer;\n",
              "      display: none;\n",
              "      fill: #1967D2;\n",
              "      height: 32px;\n",
              "      padding: 0 0 0 0;\n",
              "      width: 32px;\n",
              "    }\n",
              "\n",
              "    .colab-df-convert:hover {\n",
              "      background-color: #E2EBFA;\n",
              "      box-shadow: 0px 1px 2px rgba(60, 64, 67, 0.3), 0px 1px 3px 1px rgba(60, 64, 67, 0.15);\n",
              "      fill: #174EA6;\n",
              "    }\n",
              "\n",
              "    .colab-df-buttons div {\n",
              "      margin-bottom: 4px;\n",
              "    }\n",
              "\n",
              "    [theme=dark] .colab-df-convert {\n",
              "      background-color: #3B4455;\n",
              "      fill: #D2E3FC;\n",
              "    }\n",
              "\n",
              "    [theme=dark] .colab-df-convert:hover {\n",
              "      background-color: #434B5C;\n",
              "      box-shadow: 0px 1px 3px 1px rgba(0, 0, 0, 0.15);\n",
              "      filter: drop-shadow(0px 1px 2px rgba(0, 0, 0, 0.3));\n",
              "      fill: #FFFFFF;\n",
              "    }\n",
              "  </style>\n",
              "\n",
              "    <script>\n",
              "      const buttonEl =\n",
              "        document.querySelector('#df-b2d1dd82-2a51-475e-a177-f478494cdbd6 button.colab-df-convert');\n",
              "      buttonEl.style.display =\n",
              "        google.colab.kernel.accessAllowed ? 'block' : 'none';\n",
              "\n",
              "      async function convertToInteractive(key) {\n",
              "        const element = document.querySelector('#df-b2d1dd82-2a51-475e-a177-f478494cdbd6');\n",
              "        const dataTable =\n",
              "          await google.colab.kernel.invokeFunction('convertToInteractive',\n",
              "                                                    [key], {});\n",
              "        if (!dataTable) return;\n",
              "\n",
              "        const docLinkHtml = 'Like what you see? Visit the ' +\n",
              "          '<a target=\"_blank\" href=https://colab.research.google.com/notebooks/data_table.ipynb>data table notebook</a>'\n",
              "          + ' to learn more about interactive tables.';\n",
              "        element.innerHTML = '';\n",
              "        dataTable['output_type'] = 'display_data';\n",
              "        await google.colab.output.renderOutput(dataTable, element);\n",
              "        const docLink = document.createElement('div');\n",
              "        docLink.innerHTML = docLinkHtml;\n",
              "        element.appendChild(docLink);\n",
              "      }\n",
              "    </script>\n",
              "  </div>\n",
              "\n",
              "\n",
              "<div id=\"df-b8b07ad9-3545-4a58-a0ff-e725b65b0eb5\">\n",
              "  <button class=\"colab-df-quickchart\" onclick=\"quickchart('df-b8b07ad9-3545-4a58-a0ff-e725b65b0eb5')\"\n",
              "            title=\"Suggest charts\"\n",
              "            style=\"display:none;\">\n",
              "\n",
              "<svg xmlns=\"http://www.w3.org/2000/svg\" height=\"24px\"viewBox=\"0 0 24 24\"\n",
              "     width=\"24px\">\n",
              "    <g>\n",
              "        <path d=\"M19 3H5c-1.1 0-2 .9-2 2v14c0 1.1.9 2 2 2h14c1.1 0 2-.9 2-2V5c0-1.1-.9-2-2-2zM9 17H7v-7h2v7zm4 0h-2V7h2v10zm4 0h-2v-4h2v4z\"/>\n",
              "    </g>\n",
              "</svg>\n",
              "  </button>\n",
              "\n",
              "<style>\n",
              "  .colab-df-quickchart {\n",
              "      --bg-color: #E8F0FE;\n",
              "      --fill-color: #1967D2;\n",
              "      --hover-bg-color: #E2EBFA;\n",
              "      --hover-fill-color: #174EA6;\n",
              "      --disabled-fill-color: #AAA;\n",
              "      --disabled-bg-color: #DDD;\n",
              "  }\n",
              "\n",
              "  [theme=dark] .colab-df-quickchart {\n",
              "      --bg-color: #3B4455;\n",
              "      --fill-color: #D2E3FC;\n",
              "      --hover-bg-color: #434B5C;\n",
              "      --hover-fill-color: #FFFFFF;\n",
              "      --disabled-bg-color: #3B4455;\n",
              "      --disabled-fill-color: #666;\n",
              "  }\n",
              "\n",
              "  .colab-df-quickchart {\n",
              "    background-color: var(--bg-color);\n",
              "    border: none;\n",
              "    border-radius: 50%;\n",
              "    cursor: pointer;\n",
              "    display: none;\n",
              "    fill: var(--fill-color);\n",
              "    height: 32px;\n",
              "    padding: 0;\n",
              "    width: 32px;\n",
              "  }\n",
              "\n",
              "  .colab-df-quickchart:hover {\n",
              "    background-color: var(--hover-bg-color);\n",
              "    box-shadow: 0 1px 2px rgba(60, 64, 67, 0.3), 0 1px 3px 1px rgba(60, 64, 67, 0.15);\n",
              "    fill: var(--button-hover-fill-color);\n",
              "  }\n",
              "\n",
              "  .colab-df-quickchart-complete:disabled,\n",
              "  .colab-df-quickchart-complete:disabled:hover {\n",
              "    background-color: var(--disabled-bg-color);\n",
              "    fill: var(--disabled-fill-color);\n",
              "    box-shadow: none;\n",
              "  }\n",
              "\n",
              "  .colab-df-spinner {\n",
              "    border: 2px solid var(--fill-color);\n",
              "    border-color: transparent;\n",
              "    border-bottom-color: var(--fill-color);\n",
              "    animation:\n",
              "      spin 1s steps(1) infinite;\n",
              "  }\n",
              "\n",
              "  @keyframes spin {\n",
              "    0% {\n",
              "      border-color: transparent;\n",
              "      border-bottom-color: var(--fill-color);\n",
              "      border-left-color: var(--fill-color);\n",
              "    }\n",
              "    20% {\n",
              "      border-color: transparent;\n",
              "      border-left-color: var(--fill-color);\n",
              "      border-top-color: var(--fill-color);\n",
              "    }\n",
              "    30% {\n",
              "      border-color: transparent;\n",
              "      border-left-color: var(--fill-color);\n",
              "      border-top-color: var(--fill-color);\n",
              "      border-right-color: var(--fill-color);\n",
              "    }\n",
              "    40% {\n",
              "      border-color: transparent;\n",
              "      border-right-color: var(--fill-color);\n",
              "      border-top-color: var(--fill-color);\n",
              "    }\n",
              "    60% {\n",
              "      border-color: transparent;\n",
              "      border-right-color: var(--fill-color);\n",
              "    }\n",
              "    80% {\n",
              "      border-color: transparent;\n",
              "      border-right-color: var(--fill-color);\n",
              "      border-bottom-color: var(--fill-color);\n",
              "    }\n",
              "    90% {\n",
              "      border-color: transparent;\n",
              "      border-bottom-color: var(--fill-color);\n",
              "    }\n",
              "  }\n",
              "</style>\n",
              "\n",
              "  <script>\n",
              "    async function quickchart(key) {\n",
              "      const quickchartButtonEl =\n",
              "        document.querySelector('#' + key + ' button');\n",
              "      quickchartButtonEl.disabled = true;  // To prevent multiple clicks.\n",
              "      quickchartButtonEl.classList.add('colab-df-spinner');\n",
              "      try {\n",
              "        const charts = await google.colab.kernel.invokeFunction(\n",
              "            'suggestCharts', [key], {});\n",
              "      } catch (error) {\n",
              "        console.error('Error during call to suggestCharts:', error);\n",
              "      }\n",
              "      quickchartButtonEl.classList.remove('colab-df-spinner');\n",
              "      quickchartButtonEl.classList.add('colab-df-quickchart-complete');\n",
              "    }\n",
              "    (() => {\n",
              "      let quickchartButtonEl =\n",
              "        document.querySelector('#df-b8b07ad9-3545-4a58-a0ff-e725b65b0eb5 button');\n",
              "      quickchartButtonEl.style.display =\n",
              "        google.colab.kernel.accessAllowed ? 'block' : 'none';\n",
              "    })();\n",
              "  </script>\n",
              "</div>\n",
              "\n",
              "    </div>\n",
              "  </div>\n"
            ],
            "application/vnd.google.colaboratory.intrinsic+json": {
              "type": "dataframe",
              "variable_name": "df",
              "summary": "{\n  \"name\": \"df\",\n  \"rows\": 546,\n  \"fields\": [\n    {\n      \"column\": \"texts\",\n      \"properties\": {\n        \"dtype\": \"string\",\n        \"num_unique_values\": 532,\n        \"samples\": [\n          \"nous savons tous que quelque chose de tr\\u00e8s profond nous r\\u00e9unit, nous anime et nous engage : oui, le simple amour de la patrie, que celle-ci s\\u2019incarne dans la solitude des collines de Haute-Provence ou des Ardennes\",\n          \"Il faut d\\u2019autre part prendre en compte les autres mouvements qui affecteront le bar\\u00e8me, notamment les l\\u00e9g\\u00e8res hausses de cotisation pour les r\\u00e9mun\\u00e9rations inf\\u00e9rieures \\u00e0 trois PASS, mais aussi la baisse des cotisations pour les salaires inf\\u00e9rieurs \\u00e0 un PASS, une hausse de la contribution des tr\\u00e8s hauts revenus au-dessus de huit PASS et le rapprochement des taux applicables aux contractuels de droit public de ceux des autres salari\\u00e9s.\",\n          \", qui sont priv\\u00e9s de cette route auguste\"\n        ],\n        \"semantic_type\": \"\",\n        \"description\": \"\"\n      }\n    },\n    {\n      \"column\": \"PSR\",\n      \"properties\": {\n        \"dtype\": \"string\",\n        \"num_unique_values\": 534,\n        \"samples\": [\n          \"qui est forg\\u00e9e gr\\u00e2ce au d\\u00e9bat et au dissentiment\",\n          \"qui auraient d\\u00fb l\\u2019abattre|qui l\\u2019a fait\",\n          \"qui permettait le progr\\u00e8s des classes moyennes\"\n        ],\n        \"semantic_type\": \"\",\n        \"description\": \"\"\n      }\n    },\n    {\n      \"column\": \"annotation\",\n      \"properties\": {\n        \"dtype\": \"category\",\n        \"num_unique_values\": 16,\n        \"samples\": [\n          \"det|det\",\n          \"det\",\n          \"appo|appo\"\n        ],\n        \"semantic_type\": \"\",\n        \"description\": \"\"\n      }\n    }\n  ]\n}"
            }
          },
          "metadata": {},
          "execution_count": 15
        }
      ],
      "execution_count": 15
    },
    {
      "cell_type": "code",
      "id": "5c3e021c",
      "metadata": {
        "id": "5c3e021c",
        "outputId": "baf11be3-a1af-41d1-ea01-8a1863c2a1ff",
        "colab": {
          "base_uri": "https://localhost:8080/",
          "height": 175
        }
      },
      "source": [
        "df.describe()"
      ],
      "outputs": [
        {
          "output_type": "execute_result",
          "data": {
            "text/plain": [
              "                                                    texts           PSR  \\\n",
              "count                                                 546           546   \n",
              "unique                                                532           534   \n",
              "top     dans un monde où tout va si vite et où les exi...  qui viennent   \n",
              "freq                                                    4             3   \n",
              "\n",
              "       annotation  \n",
              "count         546  \n",
              "unique         16  \n",
              "top           det  \n",
              "freq          260  "
            ],
            "text/html": [
              "\n",
              "  <div id=\"df-c843b2ce-756f-4730-8ac0-9745dcbc7c91\" class=\"colab-df-container\">\n",
              "    <div>\n",
              "<style scoped>\n",
              "    .dataframe tbody tr th:only-of-type {\n",
              "        vertical-align: middle;\n",
              "    }\n",
              "\n",
              "    .dataframe tbody tr th {\n",
              "        vertical-align: top;\n",
              "    }\n",
              "\n",
              "    .dataframe thead th {\n",
              "        text-align: right;\n",
              "    }\n",
              "</style>\n",
              "<table border=\"1\" class=\"dataframe\">\n",
              "  <thead>\n",
              "    <tr style=\"text-align: right;\">\n",
              "      <th></th>\n",
              "      <th>texts</th>\n",
              "      <th>PSR</th>\n",
              "      <th>annotation</th>\n",
              "    </tr>\n",
              "  </thead>\n",
              "  <tbody>\n",
              "    <tr>\n",
              "      <th>count</th>\n",
              "      <td>546</td>\n",
              "      <td>546</td>\n",
              "      <td>546</td>\n",
              "    </tr>\n",
              "    <tr>\n",
              "      <th>unique</th>\n",
              "      <td>532</td>\n",
              "      <td>534</td>\n",
              "      <td>16</td>\n",
              "    </tr>\n",
              "    <tr>\n",
              "      <th>top</th>\n",
              "      <td>dans un monde où tout va si vite et où les exi...</td>\n",
              "      <td>qui viennent</td>\n",
              "      <td>det</td>\n",
              "    </tr>\n",
              "    <tr>\n",
              "      <th>freq</th>\n",
              "      <td>4</td>\n",
              "      <td>3</td>\n",
              "      <td>260</td>\n",
              "    </tr>\n",
              "  </tbody>\n",
              "</table>\n",
              "</div>\n",
              "    <div class=\"colab-df-buttons\">\n",
              "\n",
              "  <div class=\"colab-df-container\">\n",
              "    <button class=\"colab-df-convert\" onclick=\"convertToInteractive('df-c843b2ce-756f-4730-8ac0-9745dcbc7c91')\"\n",
              "            title=\"Convert this dataframe to an interactive table.\"\n",
              "            style=\"display:none;\">\n",
              "\n",
              "  <svg xmlns=\"http://www.w3.org/2000/svg\" height=\"24px\" viewBox=\"0 -960 960 960\">\n",
              "    <path d=\"M120-120v-720h720v720H120Zm60-500h600v-160H180v160Zm220 220h160v-160H400v160Zm0 220h160v-160H400v160ZM180-400h160v-160H180v160Zm440 0h160v-160H620v160ZM180-180h160v-160H180v160Zm440 0h160v-160H620v160Z\"/>\n",
              "  </svg>\n",
              "    </button>\n",
              "\n",
              "  <style>\n",
              "    .colab-df-container {\n",
              "      display:flex;\n",
              "      gap: 12px;\n",
              "    }\n",
              "\n",
              "    .colab-df-convert {\n",
              "      background-color: #E8F0FE;\n",
              "      border: none;\n",
              "      border-radius: 50%;\n",
              "      cursor: pointer;\n",
              "      display: none;\n",
              "      fill: #1967D2;\n",
              "      height: 32px;\n",
              "      padding: 0 0 0 0;\n",
              "      width: 32px;\n",
              "    }\n",
              "\n",
              "    .colab-df-convert:hover {\n",
              "      background-color: #E2EBFA;\n",
              "      box-shadow: 0px 1px 2px rgba(60, 64, 67, 0.3), 0px 1px 3px 1px rgba(60, 64, 67, 0.15);\n",
              "      fill: #174EA6;\n",
              "    }\n",
              "\n",
              "    .colab-df-buttons div {\n",
              "      margin-bottom: 4px;\n",
              "    }\n",
              "\n",
              "    [theme=dark] .colab-df-convert {\n",
              "      background-color: #3B4455;\n",
              "      fill: #D2E3FC;\n",
              "    }\n",
              "\n",
              "    [theme=dark] .colab-df-convert:hover {\n",
              "      background-color: #434B5C;\n",
              "      box-shadow: 0px 1px 3px 1px rgba(0, 0, 0, 0.15);\n",
              "      filter: drop-shadow(0px 1px 2px rgba(0, 0, 0, 0.3));\n",
              "      fill: #FFFFFF;\n",
              "    }\n",
              "  </style>\n",
              "\n",
              "    <script>\n",
              "      const buttonEl =\n",
              "        document.querySelector('#df-c843b2ce-756f-4730-8ac0-9745dcbc7c91 button.colab-df-convert');\n",
              "      buttonEl.style.display =\n",
              "        google.colab.kernel.accessAllowed ? 'block' : 'none';\n",
              "\n",
              "      async function convertToInteractive(key) {\n",
              "        const element = document.querySelector('#df-c843b2ce-756f-4730-8ac0-9745dcbc7c91');\n",
              "        const dataTable =\n",
              "          await google.colab.kernel.invokeFunction('convertToInteractive',\n",
              "                                                    [key], {});\n",
              "        if (!dataTable) return;\n",
              "\n",
              "        const docLinkHtml = 'Like what you see? Visit the ' +\n",
              "          '<a target=\"_blank\" href=https://colab.research.google.com/notebooks/data_table.ipynb>data table notebook</a>'\n",
              "          + ' to learn more about interactive tables.';\n",
              "        element.innerHTML = '';\n",
              "        dataTable['output_type'] = 'display_data';\n",
              "        await google.colab.output.renderOutput(dataTable, element);\n",
              "        const docLink = document.createElement('div');\n",
              "        docLink.innerHTML = docLinkHtml;\n",
              "        element.appendChild(docLink);\n",
              "      }\n",
              "    </script>\n",
              "  </div>\n",
              "\n",
              "\n",
              "<div id=\"df-437ecbf1-c84a-4440-a189-870b34ff769a\">\n",
              "  <button class=\"colab-df-quickchart\" onclick=\"quickchart('df-437ecbf1-c84a-4440-a189-870b34ff769a')\"\n",
              "            title=\"Suggest charts\"\n",
              "            style=\"display:none;\">\n",
              "\n",
              "<svg xmlns=\"http://www.w3.org/2000/svg\" height=\"24px\"viewBox=\"0 0 24 24\"\n",
              "     width=\"24px\">\n",
              "    <g>\n",
              "        <path d=\"M19 3H5c-1.1 0-2 .9-2 2v14c0 1.1.9 2 2 2h14c1.1 0 2-.9 2-2V5c0-1.1-.9-2-2-2zM9 17H7v-7h2v7zm4 0h-2V7h2v10zm4 0h-2v-4h2v4z\"/>\n",
              "    </g>\n",
              "</svg>\n",
              "  </button>\n",
              "\n",
              "<style>\n",
              "  .colab-df-quickchart {\n",
              "      --bg-color: #E8F0FE;\n",
              "      --fill-color: #1967D2;\n",
              "      --hover-bg-color: #E2EBFA;\n",
              "      --hover-fill-color: #174EA6;\n",
              "      --disabled-fill-color: #AAA;\n",
              "      --disabled-bg-color: #DDD;\n",
              "  }\n",
              "\n",
              "  [theme=dark] .colab-df-quickchart {\n",
              "      --bg-color: #3B4455;\n",
              "      --fill-color: #D2E3FC;\n",
              "      --hover-bg-color: #434B5C;\n",
              "      --hover-fill-color: #FFFFFF;\n",
              "      --disabled-bg-color: #3B4455;\n",
              "      --disabled-fill-color: #666;\n",
              "  }\n",
              "\n",
              "  .colab-df-quickchart {\n",
              "    background-color: var(--bg-color);\n",
              "    border: none;\n",
              "    border-radius: 50%;\n",
              "    cursor: pointer;\n",
              "    display: none;\n",
              "    fill: var(--fill-color);\n",
              "    height: 32px;\n",
              "    padding: 0;\n",
              "    width: 32px;\n",
              "  }\n",
              "\n",
              "  .colab-df-quickchart:hover {\n",
              "    background-color: var(--hover-bg-color);\n",
              "    box-shadow: 0 1px 2px rgba(60, 64, 67, 0.3), 0 1px 3px 1px rgba(60, 64, 67, 0.15);\n",
              "    fill: var(--button-hover-fill-color);\n",
              "  }\n",
              "\n",
              "  .colab-df-quickchart-complete:disabled,\n",
              "  .colab-df-quickchart-complete:disabled:hover {\n",
              "    background-color: var(--disabled-bg-color);\n",
              "    fill: var(--disabled-fill-color);\n",
              "    box-shadow: none;\n",
              "  }\n",
              "\n",
              "  .colab-df-spinner {\n",
              "    border: 2px solid var(--fill-color);\n",
              "    border-color: transparent;\n",
              "    border-bottom-color: var(--fill-color);\n",
              "    animation:\n",
              "      spin 1s steps(1) infinite;\n",
              "  }\n",
              "\n",
              "  @keyframes spin {\n",
              "    0% {\n",
              "      border-color: transparent;\n",
              "      border-bottom-color: var(--fill-color);\n",
              "      border-left-color: var(--fill-color);\n",
              "    }\n",
              "    20% {\n",
              "      border-color: transparent;\n",
              "      border-left-color: var(--fill-color);\n",
              "      border-top-color: var(--fill-color);\n",
              "    }\n",
              "    30% {\n",
              "      border-color: transparent;\n",
              "      border-left-color: var(--fill-color);\n",
              "      border-top-color: var(--fill-color);\n",
              "      border-right-color: var(--fill-color);\n",
              "    }\n",
              "    40% {\n",
              "      border-color: transparent;\n",
              "      border-right-color: var(--fill-color);\n",
              "      border-top-color: var(--fill-color);\n",
              "    }\n",
              "    60% {\n",
              "      border-color: transparent;\n",
              "      border-right-color: var(--fill-color);\n",
              "    }\n",
              "    80% {\n",
              "      border-color: transparent;\n",
              "      border-right-color: var(--fill-color);\n",
              "      border-bottom-color: var(--fill-color);\n",
              "    }\n",
              "    90% {\n",
              "      border-color: transparent;\n",
              "      border-bottom-color: var(--fill-color);\n",
              "    }\n",
              "  }\n",
              "</style>\n",
              "\n",
              "  <script>\n",
              "    async function quickchart(key) {\n",
              "      const quickchartButtonEl =\n",
              "        document.querySelector('#' + key + ' button');\n",
              "      quickchartButtonEl.disabled = true;  // To prevent multiple clicks.\n",
              "      quickchartButtonEl.classList.add('colab-df-spinner');\n",
              "      try {\n",
              "        const charts = await google.colab.kernel.invokeFunction(\n",
              "            'suggestCharts', [key], {});\n",
              "      } catch (error) {\n",
              "        console.error('Error during call to suggestCharts:', error);\n",
              "      }\n",
              "      quickchartButtonEl.classList.remove('colab-df-spinner');\n",
              "      quickchartButtonEl.classList.add('colab-df-quickchart-complete');\n",
              "    }\n",
              "    (() => {\n",
              "      let quickchartButtonEl =\n",
              "        document.querySelector('#df-437ecbf1-c84a-4440-a189-870b34ff769a button');\n",
              "      quickchartButtonEl.style.display =\n",
              "        google.colab.kernel.accessAllowed ? 'block' : 'none';\n",
              "    })();\n",
              "  </script>\n",
              "</div>\n",
              "\n",
              "    </div>\n",
              "  </div>\n"
            ],
            "application/vnd.google.colaboratory.intrinsic+json": {
              "type": "dataframe",
              "summary": "{\n  \"name\": \"df\",\n  \"rows\": 4,\n  \"fields\": [\n    {\n      \"column\": \"texts\",\n      \"properties\": {\n        \"dtype\": \"string\",\n        \"num_unique_values\": 4,\n        \"samples\": [\n          532,\n          \"4\",\n          \"546\"\n        ],\n        \"semantic_type\": \"\",\n        \"description\": \"\"\n      }\n    },\n    {\n      \"column\": \"PSR\",\n      \"properties\": {\n        \"dtype\": \"string\",\n        \"num_unique_values\": 4,\n        \"samples\": [\n          534,\n          \"3\",\n          \"546\"\n        ],\n        \"semantic_type\": \"\",\n        \"description\": \"\"\n      }\n    },\n    {\n      \"column\": \"annotation\",\n      \"properties\": {\n        \"dtype\": \"string\",\n        \"num_unique_values\": 4,\n        \"samples\": [\n          16,\n          \"260\",\n          \"546\"\n        ],\n        \"semantic_type\": \"\",\n        \"description\": \"\"\n      }\n    }\n  ]\n}"
            }
          },
          "metadata": {},
          "execution_count": 16
        }
      ],
      "execution_count": 16
    },
    {
      "cell_type": "markdown",
      "id": "ce21fb9847a650d7",
      "metadata": {
        "id": "ce21fb9847a650d7"
      },
      "source": [
        "## Prétraitement des données :\n",
        "\n"
      ]
    },
    {
      "cell_type": "markdown",
      "id": "390b9125",
      "metadata": {
        "id": "390b9125"
      },
      "source": [
        "### Normalisation:\n",
        "\n",
        "cette partie permet de nettoyer et uniformiser des textes en remplaçant des caractères spéciaux par leurs équivalents standards."
      ]
    },
    {
      "cell_type": "code",
      "id": "4ec21628b06316f6",
      "metadata": {
        "ExecuteTime": {
          "end_time": "2024-06-04T21:14:17.305471Z",
          "start_time": "2024-06-04T21:14:17.302006Z"
        },
        "id": "4ec21628b06316f6"
      },
      "source": [
        "import re\n",
        "\n",
        "def replace_characters(match: re.Match) -> str:\n",
        "    char = match.group(0)\n",
        "    replacements = {'’': \"'\",'´': \"'\",'`': \"'\",'‘': \"'\",'«': '\"','»': '\"','“': '\"','”': '\"','–': '-','—': '-','…': ' ',u'\\xa0': ' ',}\n",
        "    return replacements[char]\n",
        "\n",
        "def normalize_text(text: str) -> str:\n",
        "    pattern = r'[’´`‘«»“”–—…]'\n",
        "    return re.sub(pattern, replace_characters, text).strip()"
      ],
      "outputs": [],
      "execution_count": 17
    },
    {
      "cell_type": "code",
      "id": "f59f5333",
      "metadata": {
        "id": "f59f5333",
        "outputId": "b79ce256-3641-4744-b0b3-413562b670c6",
        "colab": {
          "base_uri": "https://localhost:8080/"
        }
      },
      "source": [
        "# test\n",
        "text = \"un text avec des caractères spéciaux ’´`‘«»“”–—…\"\n",
        "print(normalize_text(text))"
      ],
      "outputs": [
        {
          "output_type": "stream",
          "name": "stdout",
          "text": [
            "un text avec des caractères spéciaux ''''\"\"\"\"--\n"
          ]
        }
      ],
      "execution_count": 18
    },
    {
      "cell_type": "markdown",
      "id": "951f0f3e",
      "metadata": {
        "id": "951f0f3e"
      },
      "source": [
        "### Tokenization:"
      ]
    },
    {
      "cell_type": "markdown",
      "id": "f30375f4",
      "metadata": {
        "id": "f30375f4"
      },
      "source": [
        "Cette partie permet de découper le texte en mots"
      ]
    },
    {
      "cell_type": "code",
      "id": "8604dba8",
      "metadata": {
        "ExecuteTime": {
          "end_time": "2024-06-04T21:14:34.947102Z",
          "start_time": "2024-06-04T21:14:33.972336Z"
        },
        "id": "8604dba8",
        "outputId": "62ca5999-fc74-4207-97d7-8bc4288550d6",
        "colab": {
          "base_uri": "https://localhost:8080/"
        }
      },
      "source": [
        "# chargement de la librairie nltk\n",
        "import nltk\n",
        "nltk.download('punkt')"
      ],
      "outputs": [
        {
          "output_type": "stream",
          "name": "stderr",
          "text": [
            "[nltk_data] Downloading package punkt to /root/nltk_data...\n",
            "[nltk_data]   Package punkt is already up-to-date!\n"
          ]
        },
        {
          "output_type": "execute_result",
          "data": {
            "text/plain": [
              "True"
            ]
          },
          "metadata": {},
          "execution_count": 19
        }
      ],
      "execution_count": 19
    },
    {
      "cell_type": "markdown",
      "id": "6b789426",
      "metadata": {
        "id": "6b789426"
      },
      "source": [
        "**RegexpTokenizer** : permet de diviser une chaîne de caractères en sous-chaînes en utilisant une expression régulière.\n",
        "\n",
        "La fonction **tokenizer_list** permet de diviser une séquence de texte en sous-séquences en utilisant le caractère '|' comme délimiteur, puis de segmenter chaque sous-séquence en mots et ponctuations."
      ]
    },
    {
      "cell_type": "code",
      "id": "d253eb383849586e",
      "metadata": {
        "ExecuteTime": {
          "end_time": "2024-06-04T21:14:39.858769Z",
          "start_time": "2024-06-04T21:14:39.855701Z"
        },
        "id": "d253eb383849586e"
      },
      "source": [
        "from nltk import RegexpTokenizer\n",
        "\n",
        "def tokenizer(text):\n",
        "  return RegexpTokenizer(r'''\\w'|\\w+|[^\\w\\s]''').tokenize(text)\n",
        "\n",
        "\n",
        "def tokenizer_list(text):\n",
        "  texts = text.split(\"|\")\n",
        "  result = []\n",
        "  for t in texts:\n",
        "    result.append( tokenizer(t) )\n",
        "\n",
        "  return result"
      ],
      "outputs": [],
      "execution_count": 22
    },
    {
      "cell_type": "code",
      "id": "585674df",
      "metadata": {
        "id": "585674df",
        "outputId": "d82250bc-ede0-4fe1-dc3c-703a7c9e4f53",
        "colab": {
          "base_uri": "https://localhost:8080/"
        }
      },
      "source": [
        "# Test\n",
        "text = \"Bonjour tout le monde!|il s'agit d'un test.\"\n",
        "tokenizer_list(text)"
      ],
      "outputs": [
        {
          "output_type": "execute_result",
          "data": {
            "text/plain": [
              "[['Bonjour', 'tout', 'le', 'monde', '!'],\n",
              " ['il', \"s'\", 'agit', \"d'\", 'un', 'test', '.']]"
            ]
          },
          "metadata": {},
          "execution_count": 23
        }
      ],
      "execution_count": 23
    },
    {
      "cell_type": "markdown",
      "id": "56dd9918",
      "metadata": {
        "id": "56dd9918"
      },
      "source": [
        "### Labilisation:"
      ]
    },
    {
      "cell_type": "markdown",
      "id": "a58b527e",
      "metadata": {
        "id": "a58b527e"
      },
      "source": [
        "L'objectif de cette partie est de transformer les labels en valeurs numériques et aligner les labels avec le texte tokenisé."
      ]
    },
    {
      "cell_type": "code",
      "id": "9a87b8a323b1967f",
      "metadata": {
        "ExecuteTime": {
          "end_time": "2024-06-04T21:15:21.397813Z",
          "start_time": "2024-06-04T21:15:21.393664Z"
        },
        "id": "9a87b8a323b1967f"
      },
      "source": [
        "# Fonction pour annoter le texte\n",
        "# permet de labiliser en mode séquentiel ou non\n",
        "def annotate(text, psr_lst, tag_lst, mode_seq=False):\n",
        "    # Initialiser la liste des annotations avec des 0\n",
        "    annotation = [0] * len(text)\n",
        "\n",
        "\n",
        "    # Définir les labels pour chaque tag\n",
        "    labels = (\n",
        "        {'O': 0, 'det': 1, 'appo': 3, 'ambiguë': 5} if mode_seq\n",
        "        else {'O': 0, 'det': 1, 'appo': 2, 'ambiguë': 3}\n",
        "    )\n",
        "\n",
        "    # Trouver la longueur du texte\n",
        "    text_len = len(text)\n",
        "    if len(psr_lst) != len(tag_lst):\n",
        "        raise ValueError(\"Les listes psr_lst et tag_lst doivent avoir la même taille\")\n",
        "\n",
        "    # Parcourir chaque psr dans psr_lst\n",
        "    for i, psr in enumerate(psr_lst):\n",
        "        psr_len = len(psr)  # Longueur de la sous-séquence psr\n",
        "\n",
        "        tag = tag_lst[i]  # Etiquette correspondante\n",
        "\n",
        "        # Parcourir le texte pour trouver des correspondances avec psr\n",
        "        for j in range(text_len - psr_len + 1):\n",
        "            if text[j:j + psr_len] == psr:\n",
        "                annotation[j] = labels[tag] # Labelliser le token correspondant\n",
        "                if mode_seq: # Si le mode séquentiel est activé, labelliser les tokens suivants\n",
        "                  for k in range(j + 1, j + psr_len):\n",
        "                    annotation[k] = labels[tag] + 1\n",
        "                break\n",
        "\n",
        "    return annotation"
      ],
      "outputs": [],
      "execution_count": 24
    },
    {
      "metadata": {
        "ExecuteTime": {
          "end_time": "2024-06-04T21:19:52.380740Z",
          "start_time": "2024-06-04T21:19:52.377023Z"
        },
        "id": "9181ee4389de4068",
        "outputId": "1ea564ba-b526-4065-8e6c-198b52a470c7",
        "colab": {
          "base_uri": "https://localhost:8080/"
        }
      },
      "cell_type": "code",
      "source": [
        "words = tokenizer(\"Vous passerez, nous passerons sans doute des jours et des nuits sur des sujets qui touchent le quotidien de nos concitoyens et qui auront chacun leur importance.\")\n",
        "psr = tokenizer_list(\"qui touchent le quotidien de nos concitoyens|qui auront chacun leur importance\")\n",
        "tag = 'appo|appo'.split('|')\n",
        "\n",
        "print(words, len(words))\n",
        "print(psr)\n",
        "print(tag)"
      ],
      "id": "9181ee4389de4068",
      "outputs": [
        {
          "output_type": "stream",
          "name": "stdout",
          "text": [
            "['Vous', 'passerez', ',', 'nous', 'passerons', 'sans', 'doute', 'des', 'jours', 'et', 'des', 'nuits', 'sur', 'des', 'sujets', 'qui', 'touchent', 'le', 'quotidien', 'de', 'nos', 'concitoyens', 'et', 'qui', 'auront', 'chacun', 'leur', 'importance', '.'] 29\n",
            "[['qui', 'touchent', 'le', 'quotidien', 'de', 'nos', 'concitoyens'], ['qui', 'auront', 'chacun', 'leur', 'importance']]\n",
            "['appo', 'appo']\n"
          ]
        }
      ],
      "execution_count": 25
    },
    {
      "cell_type": "code",
      "id": "69a625b4",
      "metadata": {
        "ExecuteTime": {
          "end_time": "2024-06-04T21:19:54.810082Z",
          "start_time": "2024-06-04T21:19:54.805888Z"
        },
        "id": "69a625b4",
        "outputId": "c9c7248b-6c17-477d-ba6e-5ff28a9a07c5",
        "colab": {
          "base_uri": "https://localhost:8080/"
        }
      },
      "source": [
        "# test de la fonction annotate\n",
        "\n",
        "labels = annotate(words, psr,tag )\n",
        "labels_seq = annotate(words, psr,tag, mode_seq=True)\n",
        "label_names = ['O', 'DET', 'APPO', 'AMBIGUE']\n",
        "label_names_seq = ['O', 'B-DET', 'I-DET', 'B-APPO', 'I-APPO', 'B-AMBIGUE','I-AMBIGUE']\n",
        "\n",
        "\n",
        "line1 = \"\"\n",
        "line2 = \"\"\n",
        "line3 = \"\"\n",
        "\n",
        "for word, label, label_seq in zip(words, labels, labels_seq):\n",
        "    full_label = label_names[label]\n",
        "    full_label_seq = label_names_seq[label_seq]\n",
        "\n",
        "    max_length = max(len(word), len(full_label), len(full_label_seq))\n",
        "    line1 += word + \" \" * (max_length - len(word) + 1)\n",
        "    line2 += full_label + \" \" * (max_length - len(full_label) + 1)\n",
        "    line3 += full_label_seq + \" \" * (max_length - len(full_label_seq) + 1)\n",
        "\n",
        "# Affichage aligné des tokens et de leurs tags\n",
        "print(line1)\n",
        "print(line2)\n",
        "print(line3)"
      ],
      "outputs": [
        {
          "output_type": "stream",
          "name": "stdout",
          "text": [
            "Vous passerez , nous passerons sans doute des jours et des nuits sur des sujets qui    touchent le     quotidien de     nos    concitoyens et qui    auront chacun leur   importance . \n",
            "O    O        O O    O         O    O     O   O     O  O   O     O   O   O      APPO   O        O      O         O      O      O           O  APPO   O      O      O      O          O \n",
            "O    O        O O    O         O    O     O   O     O  O   O     O   O   O      B-APPO I-APPO   I-APPO I-APPO    I-APPO I-APPO I-APPO      O  B-APPO I-APPO I-APPO I-APPO I-APPO     O \n"
          ]
        }
      ],
      "execution_count": 26
    },
    {
      "cell_type": "markdown",
      "source": [
        "### Traitement"
      ],
      "metadata": {
        "id": "xQD1xEQkxfx2"
      },
      "id": "xQD1xEQkxfx2"
    },
    {
      "cell_type": "markdown",
      "id": "636dd6ab",
      "metadata": {
        "id": "636dd6ab"
      },
      "source": [
        "Ainsi, nous allons remplacer les caractères spéciaux par leurs équivalents standards."
      ]
    },
    {
      "cell_type": "code",
      "id": "79414abf",
      "metadata": {
        "ExecuteTime": {
          "end_time": "2024-06-04T21:14:26.335553Z",
          "start_time": "2024-06-04T21:14:26.329432Z"
        },
        "id": "79414abf"
      },
      "source": [
        "# apply to the dataframe\n",
        "df = df.applymap(normalize_text)"
      ],
      "outputs": [],
      "execution_count": 30
    },
    {
      "cell_type": "markdown",
      "id": "a5a010b1",
      "metadata": {
        "id": "a5a010b1"
      },
      "source": [
        "Application de la tokenization sur les données"
      ]
    },
    {
      "cell_type": "code",
      "source": [
        "labels = {'O': 0, 'det': 1, 'appo': 2, 'ambiguë': 3}\n"
      ],
      "metadata": {
        "id": "Kv3KRvWz007s"
      },
      "id": "Kv3KRvWz007s",
      "execution_count": 31,
      "outputs": []
    },
    {
      "cell_type": "code",
      "id": "eb773011a6b223d6",
      "metadata": {
        "ExecuteTime": {
          "end_time": "2024-06-04T21:14:49.574220Z",
          "start_time": "2024-06-04T21:14:49.561273Z"
        },
        "id": "eb773011a6b223d6"
      },
      "source": [
        "# Application de la fonction tokenizer sur les colonnes Phrase et PSR\n",
        "df['tokens'] = df['texts'].apply(tokenizer)\n",
        "df['tokens_psr'] = df['PSR'].apply(tokenizer_list)\n",
        "df['PSR'] = df['PSR'].apply(lambda x : [t.strip() for t in x.split(\"|\")])\n",
        "df['annotation'] = df['annotation'].apply(lambda x : [t.strip() for t in x.split(\"|\")])\n",
        "df['labels'] = df['annotation'].apply(lambda x : labels[list(set(x))[0]] )"
      ],
      "outputs": [],
      "execution_count": 32
    },
    {
      "cell_type": "code",
      "source": [
        "df.head()"
      ],
      "metadata": {
        "id": "J-JBUiQF1BEk",
        "outputId": "64c0f44a-5a71-41d1-a77c-77348b89f2f6",
        "colab": {
          "base_uri": "https://localhost:8080/",
          "height": 206
        }
      },
      "id": "J-JBUiQF1BEk",
      "execution_count": 33,
      "outputs": [
        {
          "output_type": "execute_result",
          "data": {
            "text/plain": [
              "                                               texts  \\\n",
              "0  Survivante de la Shoah, elle a su puiser, dans...   \n",
              "1  la Constitution permet au Président de la Répu...   \n",
              "2      Les heures que nous vivons sont de celles-là.   \n",
              "3  Je veux aujourd'hui vous parler du mandat que ...   \n",
              "4  Pour d'autres, au nombre desquels je me range,...   \n",
              "\n",
              "                                                 PSR       annotation  \\\n",
              "0  [qui ont défiguré notre continent et avili l'h...       [det, det]   \n",
              "1    [qui, de cette possibilité, font une nécessité]            [det]   \n",
              "2                                  [que nous vivons]            [det]   \n",
              "3  [que le peuple nous a donné, que je veux chang...  [det, det, det]   \n",
              "4                             [desquels je me range]            [det]   \n",
              "\n",
              "                                              tokens  \\\n",
              "0  [Survivante, de, la, Shoah, ,, elle, a, su, pu...   \n",
              "1  [la, Constitution, permet, au, Président, de, ...   \n",
              "2  [Les, heures, que, nous, vivons, sont, de, cel...   \n",
              "3  [Je, veux, aujourd, ', hui, vous, parler, du, ...   \n",
              "4  [Pour, d', autres, ,, au, nombre, desquels, je...   \n",
              "\n",
              "                                          tokens_psr  labels  \n",
              "0  [[qui, ont, défiguré, notre, continent, et, av...       1  \n",
              "1  [[qui, ,, de, cette, possibilité, ,, font, une...       1  \n",
              "2                              [[que, nous, vivons]]       1  \n",
              "3  [[que, le, peuple, nous, a, donné], [que, je, ...       1  \n",
              "4                        [[desquels, je, me, range]]       1  "
            ],
            "text/html": [
              "\n",
              "  <div id=\"df-3900341d-3063-475f-b801-cb6ead6f5ce9\" class=\"colab-df-container\">\n",
              "    <div>\n",
              "<style scoped>\n",
              "    .dataframe tbody tr th:only-of-type {\n",
              "        vertical-align: middle;\n",
              "    }\n",
              "\n",
              "    .dataframe tbody tr th {\n",
              "        vertical-align: top;\n",
              "    }\n",
              "\n",
              "    .dataframe thead th {\n",
              "        text-align: right;\n",
              "    }\n",
              "</style>\n",
              "<table border=\"1\" class=\"dataframe\">\n",
              "  <thead>\n",
              "    <tr style=\"text-align: right;\">\n",
              "      <th></th>\n",
              "      <th>texts</th>\n",
              "      <th>PSR</th>\n",
              "      <th>annotation</th>\n",
              "      <th>tokens</th>\n",
              "      <th>tokens_psr</th>\n",
              "      <th>labels</th>\n",
              "    </tr>\n",
              "  </thead>\n",
              "  <tbody>\n",
              "    <tr>\n",
              "      <th>0</th>\n",
              "      <td>Survivante de la Shoah, elle a su puiser, dans...</td>\n",
              "      <td>[qui ont défiguré notre continent et avili l'h...</td>\n",
              "      <td>[det, det]</td>\n",
              "      <td>[Survivante, de, la, Shoah, ,, elle, a, su, pu...</td>\n",
              "      <td>[[qui, ont, défiguré, notre, continent, et, av...</td>\n",
              "      <td>1</td>\n",
              "    </tr>\n",
              "    <tr>\n",
              "      <th>1</th>\n",
              "      <td>la Constitution permet au Président de la Répu...</td>\n",
              "      <td>[qui, de cette possibilité, font une nécessité]</td>\n",
              "      <td>[det]</td>\n",
              "      <td>[la, Constitution, permet, au, Président, de, ...</td>\n",
              "      <td>[[qui, ,, de, cette, possibilité, ,, font, une...</td>\n",
              "      <td>1</td>\n",
              "    </tr>\n",
              "    <tr>\n",
              "      <th>2</th>\n",
              "      <td>Les heures que nous vivons sont de celles-là.</td>\n",
              "      <td>[que nous vivons]</td>\n",
              "      <td>[det]</td>\n",
              "      <td>[Les, heures, que, nous, vivons, sont, de, cel...</td>\n",
              "      <td>[[que, nous, vivons]]</td>\n",
              "      <td>1</td>\n",
              "    </tr>\n",
              "    <tr>\n",
              "      <th>3</th>\n",
              "      <td>Je veux aujourd'hui vous parler du mandat que ...</td>\n",
              "      <td>[que le peuple nous a donné, que je veux chang...</td>\n",
              "      <td>[det, det, det]</td>\n",
              "      <td>[Je, veux, aujourd, ', hui, vous, parler, du, ...</td>\n",
              "      <td>[[que, le, peuple, nous, a, donné], [que, je, ...</td>\n",
              "      <td>1</td>\n",
              "    </tr>\n",
              "    <tr>\n",
              "      <th>4</th>\n",
              "      <td>Pour d'autres, au nombre desquels je me range,...</td>\n",
              "      <td>[desquels je me range]</td>\n",
              "      <td>[det]</td>\n",
              "      <td>[Pour, d', autres, ,, au, nombre, desquels, je...</td>\n",
              "      <td>[[desquels, je, me, range]]</td>\n",
              "      <td>1</td>\n",
              "    </tr>\n",
              "  </tbody>\n",
              "</table>\n",
              "</div>\n",
              "    <div class=\"colab-df-buttons\">\n",
              "\n",
              "  <div class=\"colab-df-container\">\n",
              "    <button class=\"colab-df-convert\" onclick=\"convertToInteractive('df-3900341d-3063-475f-b801-cb6ead6f5ce9')\"\n",
              "            title=\"Convert this dataframe to an interactive table.\"\n",
              "            style=\"display:none;\">\n",
              "\n",
              "  <svg xmlns=\"http://www.w3.org/2000/svg\" height=\"24px\" viewBox=\"0 -960 960 960\">\n",
              "    <path d=\"M120-120v-720h720v720H120Zm60-500h600v-160H180v160Zm220 220h160v-160H400v160Zm0 220h160v-160H400v160ZM180-400h160v-160H180v160Zm440 0h160v-160H620v160ZM180-180h160v-160H180v160Zm440 0h160v-160H620v160Z\"/>\n",
              "  </svg>\n",
              "    </button>\n",
              "\n",
              "  <style>\n",
              "    .colab-df-container {\n",
              "      display:flex;\n",
              "      gap: 12px;\n",
              "    }\n",
              "\n",
              "    .colab-df-convert {\n",
              "      background-color: #E8F0FE;\n",
              "      border: none;\n",
              "      border-radius: 50%;\n",
              "      cursor: pointer;\n",
              "      display: none;\n",
              "      fill: #1967D2;\n",
              "      height: 32px;\n",
              "      padding: 0 0 0 0;\n",
              "      width: 32px;\n",
              "    }\n",
              "\n",
              "    .colab-df-convert:hover {\n",
              "      background-color: #E2EBFA;\n",
              "      box-shadow: 0px 1px 2px rgba(60, 64, 67, 0.3), 0px 1px 3px 1px rgba(60, 64, 67, 0.15);\n",
              "      fill: #174EA6;\n",
              "    }\n",
              "\n",
              "    .colab-df-buttons div {\n",
              "      margin-bottom: 4px;\n",
              "    }\n",
              "\n",
              "    [theme=dark] .colab-df-convert {\n",
              "      background-color: #3B4455;\n",
              "      fill: #D2E3FC;\n",
              "    }\n",
              "\n",
              "    [theme=dark] .colab-df-convert:hover {\n",
              "      background-color: #434B5C;\n",
              "      box-shadow: 0px 1px 3px 1px rgba(0, 0, 0, 0.15);\n",
              "      filter: drop-shadow(0px 1px 2px rgba(0, 0, 0, 0.3));\n",
              "      fill: #FFFFFF;\n",
              "    }\n",
              "  </style>\n",
              "\n",
              "    <script>\n",
              "      const buttonEl =\n",
              "        document.querySelector('#df-3900341d-3063-475f-b801-cb6ead6f5ce9 button.colab-df-convert');\n",
              "      buttonEl.style.display =\n",
              "        google.colab.kernel.accessAllowed ? 'block' : 'none';\n",
              "\n",
              "      async function convertToInteractive(key) {\n",
              "        const element = document.querySelector('#df-3900341d-3063-475f-b801-cb6ead6f5ce9');\n",
              "        const dataTable =\n",
              "          await google.colab.kernel.invokeFunction('convertToInteractive',\n",
              "                                                    [key], {});\n",
              "        if (!dataTable) return;\n",
              "\n",
              "        const docLinkHtml = 'Like what you see? Visit the ' +\n",
              "          '<a target=\"_blank\" href=https://colab.research.google.com/notebooks/data_table.ipynb>data table notebook</a>'\n",
              "          + ' to learn more about interactive tables.';\n",
              "        element.innerHTML = '';\n",
              "        dataTable['output_type'] = 'display_data';\n",
              "        await google.colab.output.renderOutput(dataTable, element);\n",
              "        const docLink = document.createElement('div');\n",
              "        docLink.innerHTML = docLinkHtml;\n",
              "        element.appendChild(docLink);\n",
              "      }\n",
              "    </script>\n",
              "  </div>\n",
              "\n",
              "\n",
              "<div id=\"df-e9831b05-2683-409d-8f85-3959c1b8a080\">\n",
              "  <button class=\"colab-df-quickchart\" onclick=\"quickchart('df-e9831b05-2683-409d-8f85-3959c1b8a080')\"\n",
              "            title=\"Suggest charts\"\n",
              "            style=\"display:none;\">\n",
              "\n",
              "<svg xmlns=\"http://www.w3.org/2000/svg\" height=\"24px\"viewBox=\"0 0 24 24\"\n",
              "     width=\"24px\">\n",
              "    <g>\n",
              "        <path d=\"M19 3H5c-1.1 0-2 .9-2 2v14c0 1.1.9 2 2 2h14c1.1 0 2-.9 2-2V5c0-1.1-.9-2-2-2zM9 17H7v-7h2v7zm4 0h-2V7h2v10zm4 0h-2v-4h2v4z\"/>\n",
              "    </g>\n",
              "</svg>\n",
              "  </button>\n",
              "\n",
              "<style>\n",
              "  .colab-df-quickchart {\n",
              "      --bg-color: #E8F0FE;\n",
              "      --fill-color: #1967D2;\n",
              "      --hover-bg-color: #E2EBFA;\n",
              "      --hover-fill-color: #174EA6;\n",
              "      --disabled-fill-color: #AAA;\n",
              "      --disabled-bg-color: #DDD;\n",
              "  }\n",
              "\n",
              "  [theme=dark] .colab-df-quickchart {\n",
              "      --bg-color: #3B4455;\n",
              "      --fill-color: #D2E3FC;\n",
              "      --hover-bg-color: #434B5C;\n",
              "      --hover-fill-color: #FFFFFF;\n",
              "      --disabled-bg-color: #3B4455;\n",
              "      --disabled-fill-color: #666;\n",
              "  }\n",
              "\n",
              "  .colab-df-quickchart {\n",
              "    background-color: var(--bg-color);\n",
              "    border: none;\n",
              "    border-radius: 50%;\n",
              "    cursor: pointer;\n",
              "    display: none;\n",
              "    fill: var(--fill-color);\n",
              "    height: 32px;\n",
              "    padding: 0;\n",
              "    width: 32px;\n",
              "  }\n",
              "\n",
              "  .colab-df-quickchart:hover {\n",
              "    background-color: var(--hover-bg-color);\n",
              "    box-shadow: 0 1px 2px rgba(60, 64, 67, 0.3), 0 1px 3px 1px rgba(60, 64, 67, 0.15);\n",
              "    fill: var(--button-hover-fill-color);\n",
              "  }\n",
              "\n",
              "  .colab-df-quickchart-complete:disabled,\n",
              "  .colab-df-quickchart-complete:disabled:hover {\n",
              "    background-color: var(--disabled-bg-color);\n",
              "    fill: var(--disabled-fill-color);\n",
              "    box-shadow: none;\n",
              "  }\n",
              "\n",
              "  .colab-df-spinner {\n",
              "    border: 2px solid var(--fill-color);\n",
              "    border-color: transparent;\n",
              "    border-bottom-color: var(--fill-color);\n",
              "    animation:\n",
              "      spin 1s steps(1) infinite;\n",
              "  }\n",
              "\n",
              "  @keyframes spin {\n",
              "    0% {\n",
              "      border-color: transparent;\n",
              "      border-bottom-color: var(--fill-color);\n",
              "      border-left-color: var(--fill-color);\n",
              "    }\n",
              "    20% {\n",
              "      border-color: transparent;\n",
              "      border-left-color: var(--fill-color);\n",
              "      border-top-color: var(--fill-color);\n",
              "    }\n",
              "    30% {\n",
              "      border-color: transparent;\n",
              "      border-left-color: var(--fill-color);\n",
              "      border-top-color: var(--fill-color);\n",
              "      border-right-color: var(--fill-color);\n",
              "    }\n",
              "    40% {\n",
              "      border-color: transparent;\n",
              "      border-right-color: var(--fill-color);\n",
              "      border-top-color: var(--fill-color);\n",
              "    }\n",
              "    60% {\n",
              "      border-color: transparent;\n",
              "      border-right-color: var(--fill-color);\n",
              "    }\n",
              "    80% {\n",
              "      border-color: transparent;\n",
              "      border-right-color: var(--fill-color);\n",
              "      border-bottom-color: var(--fill-color);\n",
              "    }\n",
              "    90% {\n",
              "      border-color: transparent;\n",
              "      border-bottom-color: var(--fill-color);\n",
              "    }\n",
              "  }\n",
              "</style>\n",
              "\n",
              "  <script>\n",
              "    async function quickchart(key) {\n",
              "      const quickchartButtonEl =\n",
              "        document.querySelector('#' + key + ' button');\n",
              "      quickchartButtonEl.disabled = true;  // To prevent multiple clicks.\n",
              "      quickchartButtonEl.classList.add('colab-df-spinner');\n",
              "      try {\n",
              "        const charts = await google.colab.kernel.invokeFunction(\n",
              "            'suggestCharts', [key], {});\n",
              "      } catch (error) {\n",
              "        console.error('Error during call to suggestCharts:', error);\n",
              "      }\n",
              "      quickchartButtonEl.classList.remove('colab-df-spinner');\n",
              "      quickchartButtonEl.classList.add('colab-df-quickchart-complete');\n",
              "    }\n",
              "    (() => {\n",
              "      let quickchartButtonEl =\n",
              "        document.querySelector('#df-e9831b05-2683-409d-8f85-3959c1b8a080 button');\n",
              "      quickchartButtonEl.style.display =\n",
              "        google.colab.kernel.accessAllowed ? 'block' : 'none';\n",
              "    })();\n",
              "  </script>\n",
              "</div>\n",
              "\n",
              "    </div>\n",
              "  </div>\n"
            ],
            "application/vnd.google.colaboratory.intrinsic+json": {
              "type": "dataframe",
              "variable_name": "df",
              "summary": "{\n  \"name\": \"df\",\n  \"rows\": 546,\n  \"fields\": [\n    {\n      \"column\": \"texts\",\n      \"properties\": {\n        \"dtype\": \"string\",\n        \"num_unique_values\": 526,\n        \"samples\": [\n          \"J'ajoute \\u00e0 ce mot-cl\\u00e9 de confiance une dimension d'\\u00e9mancipation, pour la m\\u00e9tropole, bien s\\u00fbr, mais aussi pour les outre-mer, qui l'attendent impatiemment.\",\n          \"Troisi\\u00e8mement, un conventionnement s\\u00e9lectif entra\\u00eenerait des effets de contournement, avec un regain de l'exercice hospitalier ou de l'exercice salari\\u00e9, ainsi que des d\\u00e9conventionnements qui feraient \\u00e9merger une m\\u00e9decine \\u00e0 deux vitesses.\",\n          \"nous savons tous que quelque chose de tr\\u00e8s profond nous r\\u00e9unit, nous anime et nous engage : oui, le simple amour de la patrie, que celle-ci s'incarne dans la solitude des collines de Haute-Provence ou des Ardennes\"\n        ],\n        \"semantic_type\": \"\",\n        \"description\": \"\"\n      }\n    },\n    {\n      \"column\": \"PSR\",\n      \"properties\": {\n        \"dtype\": \"object\",\n        \"semantic_type\": \"\",\n        \"description\": \"\"\n      }\n    },\n    {\n      \"column\": \"annotation\",\n      \"properties\": {\n        \"dtype\": \"object\",\n        \"semantic_type\": \"\",\n        \"description\": \"\"\n      }\n    },\n    {\n      \"column\": \"tokens\",\n      \"properties\": {\n        \"dtype\": \"object\",\n        \"semantic_type\": \"\",\n        \"description\": \"\"\n      }\n    },\n    {\n      \"column\": \"tokens_psr\",\n      \"properties\": {\n        \"dtype\": \"object\",\n        \"semantic_type\": \"\",\n        \"description\": \"\"\n      }\n    },\n    {\n      \"column\": \"labels\",\n      \"properties\": {\n        \"dtype\": \"number\",\n        \"std\": 0,\n        \"min\": 1,\n        \"max\": 3,\n        \"num_unique_values\": 3,\n        \"samples\": [\n          1,\n          2,\n          3\n        ],\n        \"semantic_type\": \"\",\n        \"description\": \"\"\n      }\n    }\n  ]\n}"
            }
          },
          "metadata": {},
          "execution_count": 33
        }
      ]
    },
    {
      "metadata": {
        "id": "9be76576143c3bfb"
      },
      "cell_type": "markdown",
      "source": [
        "#### vérification de la tokenization"
      ],
      "id": "9be76576143c3bfb"
    },
    {
      "metadata": {
        "ExecuteTime": {
          "end_time": "2024-06-04T21:14:56.281048Z",
          "start_time": "2024-06-04T21:14:56.277983Z"
        },
        "id": "c67bd7dc76500566"
      },
      "cell_type": "code",
      "source": [
        "# Fonction pour vérifier la taille des listes dans les colonnes 'PSR' et 'annotation'\n",
        "def check_list_sizes(row):\n",
        "    psr_len = len(row['PSR'])\n",
        "    annotation_len = len(row['annotation'])\n",
        "    return psr_len == annotation_len"
      ],
      "id": "c67bd7dc76500566",
      "outputs": [],
      "execution_count": 34
    },
    {
      "metadata": {
        "ExecuteTime": {
          "end_time": "2024-06-04T21:15:02.665304Z",
          "start_time": "2024-06-04T21:15:02.656422Z"
        },
        "id": "503f7e70a69d93e9"
      },
      "cell_type": "code",
      "source": [
        "# Appliquer la vérification à chaque ligne du DataFrame\n",
        "df['size_match'] = df.apply(check_list_sizes, axis=1)"
      ],
      "id": "503f7e70a69d93e9",
      "outputs": [],
      "execution_count": 35
    },
    {
      "metadata": {
        "id": "9e36b0cd9fb7b118"
      },
      "cell_type": "code",
      "source": [
        "# Supprimer des lignes où la taille des listes dans les colonnes 'PSR' et 'annotation' ne correspond pas\n",
        "df = df[df['size_match'] == True]"
      ],
      "id": "9e36b0cd9fb7b118",
      "outputs": [],
      "execution_count": 36
    },
    {
      "cell_type": "code",
      "source": [],
      "metadata": {
        "id": "6TsecH_fzxmr"
      },
      "id": "6TsecH_fzxmr",
      "execution_count": null,
      "outputs": []
    },
    {
      "cell_type": "markdown",
      "source": [
        "Appliquer la fonction annotate à chaque ligne du DataFrame pour créer la colonne psr_tags"
      ],
      "metadata": {
        "id": "oJhyZhfCzyfp"
      },
      "id": "oJhyZhfCzyfp"
    },
    {
      "cell_type": "code",
      "id": "c1f47abe592afcfd",
      "metadata": {
        "ExecuteTime": {
          "end_time": "2024-06-04T21:16:10.616555Z",
          "start_time": "2024-06-04T21:16:10.602823Z"
        },
        "id": "c1f47abe592afcfd"
      },
      "source": [
        "# Appliquer la fonction annotate à chaque ligne du DataFrame pour créer la colonne psr_tags\n",
        "df['psr_tags'] = df.apply(lambda row: annotate(row['tokens'], row['PSR'], row['annotation']), axis=1)"
      ],
      "outputs": [],
      "execution_count": 37
    },
    {
      "metadata": {
        "ExecuteTime": {
          "end_time": "2024-06-04T21:16:19.204563Z",
          "start_time": "2024-06-04T21:16:19.194569Z"
        },
        "id": "80dd8fbd0a033cb"
      },
      "cell_type": "code",
      "source": [
        "# Appliquer la fonction annotate à chaque ligne du DataFrame pour créer la colonne psr_tags\n",
        "df['psr_seq_tags'] = df.apply(lambda row: annotate(row['tokens'], row['PSR'], row['annotation'], mode_seq=True), axis=1)"
      ],
      "id": "80dd8fbd0a033cb",
      "outputs": [],
      "execution_count": 38
    },
    {
      "cell_type": "markdown",
      "source": [
        "Supprimer les colonnes"
      ],
      "metadata": {
        "id": "9OthC8O_0Aju"
      },
      "id": "9OthC8O_0Aju"
    },
    {
      "cell_type": "code",
      "id": "8372b616e5604e3d",
      "metadata": {
        "ExecuteTime": {
          "end_time": "2024-06-04T21:16:23.274359Z",
          "start_time": "2024-06-04T21:16:23.270533Z"
        },
        "id": "8372b616e5604e3d",
        "outputId": "f440ec0c-85e0-4bc3-9adf-07774061bf61",
        "colab": {
          "base_uri": "https://localhost:8080/"
        }
      },
      "source": [
        "# Supprimer les colonnes PSR et annotation\n",
        "\n",
        "columns_to_drop = [ c for c in df.columns if c not in ['texts','tokens','psr_tags', 'psr_seq_tags', 'labels']]\n",
        "\n",
        "\n",
        "print(columns_to_drop)\n",
        "\n",
        "\n",
        "df.drop(columns=columns_to_drop, inplace=True)\n",
        "\n",
        "\n",
        "\n",
        "# reinstialiser l'index\n",
        "df.reset_index(names='id' ,inplace=True)"
      ],
      "outputs": [
        {
          "output_type": "stream",
          "name": "stdout",
          "text": [
            "['PSR', 'annotation', 'tokens_psr', 'size_match']\n"
          ]
        }
      ],
      "execution_count": 39
    },
    {
      "cell_type": "code",
      "id": "50a620046601250d",
      "metadata": {
        "ExecuteTime": {
          "end_time": "2024-06-04T21:28:42.695312Z",
          "start_time": "2024-06-04T21:28:42.685048Z"
        },
        "id": "50a620046601250d",
        "outputId": "0d89423b-db8a-42b3-b3fa-b05dde1edeff",
        "colab": {
          "base_uri": "https://localhost:8080/",
          "height": 206
        }
      },
      "source": [
        "\n",
        "df.head()"
      ],
      "outputs": [
        {
          "output_type": "execute_result",
          "data": {
            "text/plain": [
              "   id                                              texts  \\\n",
              "0   0  Survivante de la Shoah, elle a su puiser, dans...   \n",
              "1   1  la Constitution permet au Président de la Répu...   \n",
              "2   2      Les heures que nous vivons sont de celles-là.   \n",
              "3   3  Je veux aujourd'hui vous parler du mandat que ...   \n",
              "4   4  Pour d'autres, au nombre desquels je me range,...   \n",
              "\n",
              "                                              tokens  labels  \\\n",
              "0  [Survivante, de, la, Shoah, ,, elle, a, su, pu...       1   \n",
              "1  [la, Constitution, permet, au, Président, de, ...       1   \n",
              "2  [Les, heures, que, nous, vivons, sont, de, cel...       1   \n",
              "3  [Je, veux, aujourd, ', hui, vous, parler, du, ...       1   \n",
              "4  [Pour, d', autres, ,, au, nombre, desquels, je...       1   \n",
              "\n",
              "                                            psr_tags  \\\n",
              "0  [0, 0, 0, 0, 0, 0, 0, 0, 0, 0, 0, 0, 0, 0, 0, ...   \n",
              "1  [0, 0, 0, 0, 0, 0, 0, 0, 0, 0, 0, 0, 0, 0, 0, ...   \n",
              "2                  [0, 0, 0, 0, 0, 0, 0, 0, 0, 0, 0]   \n",
              "3  [0, 0, 0, 0, 0, 0, 0, 0, 0, 0, 0, 0, 0, 0, 0, ...   \n",
              "4  [0, 0, 0, 0, 0, 0, 0, 0, 0, 0, 0, 0, 0, 0, 0, ...   \n",
              "\n",
              "                                        psr_seq_tags  \n",
              "0  [0, 0, 0, 0, 0, 0, 0, 0, 0, 0, 0, 0, 0, 0, 0, ...  \n",
              "1  [0, 0, 0, 0, 0, 0, 0, 0, 0, 0, 0, 0, 0, 0, 0, ...  \n",
              "2                  [0, 0, 0, 0, 0, 0, 0, 0, 0, 0, 0]  \n",
              "3  [0, 0, 0, 0, 0, 0, 0, 0, 0, 0, 0, 0, 0, 0, 0, ...  \n",
              "4  [0, 0, 0, 0, 0, 0, 0, 0, 0, 0, 0, 0, 0, 0, 0, ...  "
            ],
            "text/html": [
              "\n",
              "  <div id=\"df-05951245-9ae5-4e54-aecb-5e2ad6c57d1e\" class=\"colab-df-container\">\n",
              "    <div>\n",
              "<style scoped>\n",
              "    .dataframe tbody tr th:only-of-type {\n",
              "        vertical-align: middle;\n",
              "    }\n",
              "\n",
              "    .dataframe tbody tr th {\n",
              "        vertical-align: top;\n",
              "    }\n",
              "\n",
              "    .dataframe thead th {\n",
              "        text-align: right;\n",
              "    }\n",
              "</style>\n",
              "<table border=\"1\" class=\"dataframe\">\n",
              "  <thead>\n",
              "    <tr style=\"text-align: right;\">\n",
              "      <th></th>\n",
              "      <th>id</th>\n",
              "      <th>texts</th>\n",
              "      <th>tokens</th>\n",
              "      <th>labels</th>\n",
              "      <th>psr_tags</th>\n",
              "      <th>psr_seq_tags</th>\n",
              "    </tr>\n",
              "  </thead>\n",
              "  <tbody>\n",
              "    <tr>\n",
              "      <th>0</th>\n",
              "      <td>0</td>\n",
              "      <td>Survivante de la Shoah, elle a su puiser, dans...</td>\n",
              "      <td>[Survivante, de, la, Shoah, ,, elle, a, su, pu...</td>\n",
              "      <td>1</td>\n",
              "      <td>[0, 0, 0, 0, 0, 0, 0, 0, 0, 0, 0, 0, 0, 0, 0, ...</td>\n",
              "      <td>[0, 0, 0, 0, 0, 0, 0, 0, 0, 0, 0, 0, 0, 0, 0, ...</td>\n",
              "    </tr>\n",
              "    <tr>\n",
              "      <th>1</th>\n",
              "      <td>1</td>\n",
              "      <td>la Constitution permet au Président de la Répu...</td>\n",
              "      <td>[la, Constitution, permet, au, Président, de, ...</td>\n",
              "      <td>1</td>\n",
              "      <td>[0, 0, 0, 0, 0, 0, 0, 0, 0, 0, 0, 0, 0, 0, 0, ...</td>\n",
              "      <td>[0, 0, 0, 0, 0, 0, 0, 0, 0, 0, 0, 0, 0, 0, 0, ...</td>\n",
              "    </tr>\n",
              "    <tr>\n",
              "      <th>2</th>\n",
              "      <td>2</td>\n",
              "      <td>Les heures que nous vivons sont de celles-là.</td>\n",
              "      <td>[Les, heures, que, nous, vivons, sont, de, cel...</td>\n",
              "      <td>1</td>\n",
              "      <td>[0, 0, 0, 0, 0, 0, 0, 0, 0, 0, 0]</td>\n",
              "      <td>[0, 0, 0, 0, 0, 0, 0, 0, 0, 0, 0]</td>\n",
              "    </tr>\n",
              "    <tr>\n",
              "      <th>3</th>\n",
              "      <td>3</td>\n",
              "      <td>Je veux aujourd'hui vous parler du mandat que ...</td>\n",
              "      <td>[Je, veux, aujourd, ', hui, vous, parler, du, ...</td>\n",
              "      <td>1</td>\n",
              "      <td>[0, 0, 0, 0, 0, 0, 0, 0, 0, 0, 0, 0, 0, 0, 0, ...</td>\n",
              "      <td>[0, 0, 0, 0, 0, 0, 0, 0, 0, 0, 0, 0, 0, 0, 0, ...</td>\n",
              "    </tr>\n",
              "    <tr>\n",
              "      <th>4</th>\n",
              "      <td>4</td>\n",
              "      <td>Pour d'autres, au nombre desquels je me range,...</td>\n",
              "      <td>[Pour, d', autres, ,, au, nombre, desquels, je...</td>\n",
              "      <td>1</td>\n",
              "      <td>[0, 0, 0, 0, 0, 0, 0, 0, 0, 0, 0, 0, 0, 0, 0, ...</td>\n",
              "      <td>[0, 0, 0, 0, 0, 0, 0, 0, 0, 0, 0, 0, 0, 0, 0, ...</td>\n",
              "    </tr>\n",
              "  </tbody>\n",
              "</table>\n",
              "</div>\n",
              "    <div class=\"colab-df-buttons\">\n",
              "\n",
              "  <div class=\"colab-df-container\">\n",
              "    <button class=\"colab-df-convert\" onclick=\"convertToInteractive('df-05951245-9ae5-4e54-aecb-5e2ad6c57d1e')\"\n",
              "            title=\"Convert this dataframe to an interactive table.\"\n",
              "            style=\"display:none;\">\n",
              "\n",
              "  <svg xmlns=\"http://www.w3.org/2000/svg\" height=\"24px\" viewBox=\"0 -960 960 960\">\n",
              "    <path d=\"M120-120v-720h720v720H120Zm60-500h600v-160H180v160Zm220 220h160v-160H400v160Zm0 220h160v-160H400v160ZM180-400h160v-160H180v160Zm440 0h160v-160H620v160ZM180-180h160v-160H180v160Zm440 0h160v-160H620v160Z\"/>\n",
              "  </svg>\n",
              "    </button>\n",
              "\n",
              "  <style>\n",
              "    .colab-df-container {\n",
              "      display:flex;\n",
              "      gap: 12px;\n",
              "    }\n",
              "\n",
              "    .colab-df-convert {\n",
              "      background-color: #E8F0FE;\n",
              "      border: none;\n",
              "      border-radius: 50%;\n",
              "      cursor: pointer;\n",
              "      display: none;\n",
              "      fill: #1967D2;\n",
              "      height: 32px;\n",
              "      padding: 0 0 0 0;\n",
              "      width: 32px;\n",
              "    }\n",
              "\n",
              "    .colab-df-convert:hover {\n",
              "      background-color: #E2EBFA;\n",
              "      box-shadow: 0px 1px 2px rgba(60, 64, 67, 0.3), 0px 1px 3px 1px rgba(60, 64, 67, 0.15);\n",
              "      fill: #174EA6;\n",
              "    }\n",
              "\n",
              "    .colab-df-buttons div {\n",
              "      margin-bottom: 4px;\n",
              "    }\n",
              "\n",
              "    [theme=dark] .colab-df-convert {\n",
              "      background-color: #3B4455;\n",
              "      fill: #D2E3FC;\n",
              "    }\n",
              "\n",
              "    [theme=dark] .colab-df-convert:hover {\n",
              "      background-color: #434B5C;\n",
              "      box-shadow: 0px 1px 3px 1px rgba(0, 0, 0, 0.15);\n",
              "      filter: drop-shadow(0px 1px 2px rgba(0, 0, 0, 0.3));\n",
              "      fill: #FFFFFF;\n",
              "    }\n",
              "  </style>\n",
              "\n",
              "    <script>\n",
              "      const buttonEl =\n",
              "        document.querySelector('#df-05951245-9ae5-4e54-aecb-5e2ad6c57d1e button.colab-df-convert');\n",
              "      buttonEl.style.display =\n",
              "        google.colab.kernel.accessAllowed ? 'block' : 'none';\n",
              "\n",
              "      async function convertToInteractive(key) {\n",
              "        const element = document.querySelector('#df-05951245-9ae5-4e54-aecb-5e2ad6c57d1e');\n",
              "        const dataTable =\n",
              "          await google.colab.kernel.invokeFunction('convertToInteractive',\n",
              "                                                    [key], {});\n",
              "        if (!dataTable) return;\n",
              "\n",
              "        const docLinkHtml = 'Like what you see? Visit the ' +\n",
              "          '<a target=\"_blank\" href=https://colab.research.google.com/notebooks/data_table.ipynb>data table notebook</a>'\n",
              "          + ' to learn more about interactive tables.';\n",
              "        element.innerHTML = '';\n",
              "        dataTable['output_type'] = 'display_data';\n",
              "        await google.colab.output.renderOutput(dataTable, element);\n",
              "        const docLink = document.createElement('div');\n",
              "        docLink.innerHTML = docLinkHtml;\n",
              "        element.appendChild(docLink);\n",
              "      }\n",
              "    </script>\n",
              "  </div>\n",
              "\n",
              "\n",
              "<div id=\"df-8fb5d7ca-b44b-40d3-8d12-930888e29b15\">\n",
              "  <button class=\"colab-df-quickchart\" onclick=\"quickchart('df-8fb5d7ca-b44b-40d3-8d12-930888e29b15')\"\n",
              "            title=\"Suggest charts\"\n",
              "            style=\"display:none;\">\n",
              "\n",
              "<svg xmlns=\"http://www.w3.org/2000/svg\" height=\"24px\"viewBox=\"0 0 24 24\"\n",
              "     width=\"24px\">\n",
              "    <g>\n",
              "        <path d=\"M19 3H5c-1.1 0-2 .9-2 2v14c0 1.1.9 2 2 2h14c1.1 0 2-.9 2-2V5c0-1.1-.9-2-2-2zM9 17H7v-7h2v7zm4 0h-2V7h2v10zm4 0h-2v-4h2v4z\"/>\n",
              "    </g>\n",
              "</svg>\n",
              "  </button>\n",
              "\n",
              "<style>\n",
              "  .colab-df-quickchart {\n",
              "      --bg-color: #E8F0FE;\n",
              "      --fill-color: #1967D2;\n",
              "      --hover-bg-color: #E2EBFA;\n",
              "      --hover-fill-color: #174EA6;\n",
              "      --disabled-fill-color: #AAA;\n",
              "      --disabled-bg-color: #DDD;\n",
              "  }\n",
              "\n",
              "  [theme=dark] .colab-df-quickchart {\n",
              "      --bg-color: #3B4455;\n",
              "      --fill-color: #D2E3FC;\n",
              "      --hover-bg-color: #434B5C;\n",
              "      --hover-fill-color: #FFFFFF;\n",
              "      --disabled-bg-color: #3B4455;\n",
              "      --disabled-fill-color: #666;\n",
              "  }\n",
              "\n",
              "  .colab-df-quickchart {\n",
              "    background-color: var(--bg-color);\n",
              "    border: none;\n",
              "    border-radius: 50%;\n",
              "    cursor: pointer;\n",
              "    display: none;\n",
              "    fill: var(--fill-color);\n",
              "    height: 32px;\n",
              "    padding: 0;\n",
              "    width: 32px;\n",
              "  }\n",
              "\n",
              "  .colab-df-quickchart:hover {\n",
              "    background-color: var(--hover-bg-color);\n",
              "    box-shadow: 0 1px 2px rgba(60, 64, 67, 0.3), 0 1px 3px 1px rgba(60, 64, 67, 0.15);\n",
              "    fill: var(--button-hover-fill-color);\n",
              "  }\n",
              "\n",
              "  .colab-df-quickchart-complete:disabled,\n",
              "  .colab-df-quickchart-complete:disabled:hover {\n",
              "    background-color: var(--disabled-bg-color);\n",
              "    fill: var(--disabled-fill-color);\n",
              "    box-shadow: none;\n",
              "  }\n",
              "\n",
              "  .colab-df-spinner {\n",
              "    border: 2px solid var(--fill-color);\n",
              "    border-color: transparent;\n",
              "    border-bottom-color: var(--fill-color);\n",
              "    animation:\n",
              "      spin 1s steps(1) infinite;\n",
              "  }\n",
              "\n",
              "  @keyframes spin {\n",
              "    0% {\n",
              "      border-color: transparent;\n",
              "      border-bottom-color: var(--fill-color);\n",
              "      border-left-color: var(--fill-color);\n",
              "    }\n",
              "    20% {\n",
              "      border-color: transparent;\n",
              "      border-left-color: var(--fill-color);\n",
              "      border-top-color: var(--fill-color);\n",
              "    }\n",
              "    30% {\n",
              "      border-color: transparent;\n",
              "      border-left-color: var(--fill-color);\n",
              "      border-top-color: var(--fill-color);\n",
              "      border-right-color: var(--fill-color);\n",
              "    }\n",
              "    40% {\n",
              "      border-color: transparent;\n",
              "      border-right-color: var(--fill-color);\n",
              "      border-top-color: var(--fill-color);\n",
              "    }\n",
              "    60% {\n",
              "      border-color: transparent;\n",
              "      border-right-color: var(--fill-color);\n",
              "    }\n",
              "    80% {\n",
              "      border-color: transparent;\n",
              "      border-right-color: var(--fill-color);\n",
              "      border-bottom-color: var(--fill-color);\n",
              "    }\n",
              "    90% {\n",
              "      border-color: transparent;\n",
              "      border-bottom-color: var(--fill-color);\n",
              "    }\n",
              "  }\n",
              "</style>\n",
              "\n",
              "  <script>\n",
              "    async function quickchart(key) {\n",
              "      const quickchartButtonEl =\n",
              "        document.querySelector('#' + key + ' button');\n",
              "      quickchartButtonEl.disabled = true;  // To prevent multiple clicks.\n",
              "      quickchartButtonEl.classList.add('colab-df-spinner');\n",
              "      try {\n",
              "        const charts = await google.colab.kernel.invokeFunction(\n",
              "            'suggestCharts', [key], {});\n",
              "      } catch (error) {\n",
              "        console.error('Error during call to suggestCharts:', error);\n",
              "      }\n",
              "      quickchartButtonEl.classList.remove('colab-df-spinner');\n",
              "      quickchartButtonEl.classList.add('colab-df-quickchart-complete');\n",
              "    }\n",
              "    (() => {\n",
              "      let quickchartButtonEl =\n",
              "        document.querySelector('#df-8fb5d7ca-b44b-40d3-8d12-930888e29b15 button');\n",
              "      quickchartButtonEl.style.display =\n",
              "        google.colab.kernel.accessAllowed ? 'block' : 'none';\n",
              "    })();\n",
              "  </script>\n",
              "</div>\n",
              "\n",
              "    </div>\n",
              "  </div>\n"
            ],
            "application/vnd.google.colaboratory.intrinsic+json": {
              "type": "dataframe",
              "variable_name": "df",
              "summary": "{\n  \"name\": \"df\",\n  \"rows\": 546,\n  \"fields\": [\n    {\n      \"column\": \"id\",\n      \"properties\": {\n        \"dtype\": \"number\",\n        \"std\": 157,\n        \"min\": 0,\n        \"max\": 545,\n        \"num_unique_values\": 546,\n        \"samples\": [\n          316,\n          77,\n          360\n        ],\n        \"semantic_type\": \"\",\n        \"description\": \"\"\n      }\n    },\n    {\n      \"column\": \"texts\",\n      \"properties\": {\n        \"dtype\": \"string\",\n        \"num_unique_values\": 526,\n        \"samples\": [\n          \"J'ajoute \\u00e0 ce mot-cl\\u00e9 de confiance une dimension d'\\u00e9mancipation, pour la m\\u00e9tropole, bien s\\u00fbr, mais aussi pour les outre-mer, qui l'attendent impatiemment.\",\n          \"Troisi\\u00e8mement, un conventionnement s\\u00e9lectif entra\\u00eenerait des effets de contournement, avec un regain de l'exercice hospitalier ou de l'exercice salari\\u00e9, ainsi que des d\\u00e9conventionnements qui feraient \\u00e9merger une m\\u00e9decine \\u00e0 deux vitesses.\",\n          \"nous savons tous que quelque chose de tr\\u00e8s profond nous r\\u00e9unit, nous anime et nous engage : oui, le simple amour de la patrie, que celle-ci s'incarne dans la solitude des collines de Haute-Provence ou des Ardennes\"\n        ],\n        \"semantic_type\": \"\",\n        \"description\": \"\"\n      }\n    },\n    {\n      \"column\": \"tokens\",\n      \"properties\": {\n        \"dtype\": \"object\",\n        \"semantic_type\": \"\",\n        \"description\": \"\"\n      }\n    },\n    {\n      \"column\": \"labels\",\n      \"properties\": {\n        \"dtype\": \"number\",\n        \"std\": 0,\n        \"min\": 1,\n        \"max\": 3,\n        \"num_unique_values\": 3,\n        \"samples\": [\n          1,\n          2,\n          3\n        ],\n        \"semantic_type\": \"\",\n        \"description\": \"\"\n      }\n    },\n    {\n      \"column\": \"psr_tags\",\n      \"properties\": {\n        \"dtype\": \"object\",\n        \"semantic_type\": \"\",\n        \"description\": \"\"\n      }\n    },\n    {\n      \"column\": \"psr_seq_tags\",\n      \"properties\": {\n        \"dtype\": \"object\",\n        \"semantic_type\": \"\",\n        \"description\": \"\"\n      }\n    }\n  ]\n}"
            }
          },
          "metadata": {},
          "execution_count": 40
        }
      ],
      "execution_count": 40
    },
    {
      "cell_type": "markdown",
      "id": "bdf50c76b6467a7f",
      "metadata": {
        "id": "bdf50c76b6467a7f"
      },
      "source": [
        "## Création Dataset Hugging Face"
      ]
    },
    {
      "cell_type": "markdown",
      "id": "646eeca546f689ea",
      "metadata": {
        "id": "646eeca546f689ea"
      },
      "source": [
        "### Découpage du jeu de données en train, validation et test"
      ]
    },
    {
      "cell_type": "code",
      "id": "80a621a1d72dee0a",
      "metadata": {
        "ExecuteTime": {
          "end_time": "2024-06-04T21:29:01.285550Z",
          "start_time": "2024-06-04T21:29:01.279295Z"
        },
        "id": "80a621a1d72dee0a"
      },
      "source": [
        "#split the dataset into train , validation and test\n",
        "from sklearn.model_selection import train_test_split\n",
        "\n",
        "train_df, test_df = train_test_split(df, test_size=0.1, random_state=42)\n",
        "\n",
        "train_df, val_df = train_test_split(train_df, test_size=0.2, random_state=42)"
      ],
      "outputs": [],
      "execution_count": 41
    },
    {
      "cell_type": "code",
      "id": "2a9adacf02c4cc42",
      "metadata": {
        "ExecuteTime": {
          "end_time": "2024-06-04T21:29:04.954058Z",
          "start_time": "2024-06-04T21:29:04.951626Z"
        },
        "id": "2a9adacf02c4cc42"
      },
      "source": [
        "# Supprimer les colonnes d'index auto-générées si elles existent\n",
        "train_df.reset_index(drop=True, inplace=True)\n",
        "val_df.reset_index(drop=True,inplace=True)\n",
        "test_df.reset_index(drop=True, inplace=True)"
      ],
      "outputs": [],
      "execution_count": 42
    },
    {
      "cell_type": "code",
      "id": "e5350a165c9c5e77",
      "metadata": {
        "ExecuteTime": {
          "end_time": "2024-06-04T21:29:07.958650Z",
          "start_time": "2024-06-04T21:29:07.947757Z"
        },
        "id": "e5350a165c9c5e77",
        "outputId": "01ada565-ac7c-49a0-e53e-7c9554db82b2",
        "colab": {
          "base_uri": "https://localhost:8080/",
          "height": 206
        }
      },
      "source": [
        "train_df.head()"
      ],
      "outputs": [
        {
          "output_type": "execute_result",
          "data": {
            "text/plain": [
              "    id                                              texts  \\\n",
              "0   16  je demanderai au Premier ministre d'assigner à...   \n",
              "1  263  Nos institutions sont en effet solides. La Vᵉ ...   \n",
              "2  217  Nous devons faire en sorte que nos discussions...   \n",
              "3  435  Le groupe UDI, Agir et indépendants plaide dep...   \n",
              "4   63  Sieyès et Mirabeau ne désertèrent pas si promp...   \n",
              "\n",
              "                                              tokens  labels  \\\n",
              "0  [je, demanderai, au, Premier, ministre, d', as...       2   \n",
              "1  [Nos, institutions, sont, en, effet, solides, ...       1   \n",
              "2  [Nous, devons, faire, en, sorte, que, nos, dis...       2   \n",
              "3  [Le, groupe, UDI, ,, Agir, et, indépendants, p...       2   \n",
              "4  [Sieyès, et, Mirabeau, ne, désertèrent, pas, s...       1   \n",
              "\n",
              "                                            psr_tags  \\\n",
              "0  [0, 0, 0, 0, 0, 0, 0, 0, 0, 0, 0, 0, 0, 0, 0, ...   \n",
              "1  [0, 0, 0, 0, 0, 0, 0, 0, 0, 0, 0, 0, 0, 0, 0, ...   \n",
              "2  [0, 0, 0, 0, 0, 0, 0, 0, 0, 0, 0, 0, 0, 0, 0, ...   \n",
              "3  [0, 0, 0, 0, 0, 0, 0, 0, 0, 0, 0, 0, 0, 0, 0, ...   \n",
              "4  [0, 0, 0, 0, 0, 0, 0, 0, 0, 0, 0, 0, 0, 0, 0, ...   \n",
              "\n",
              "                                        psr_seq_tags  \n",
              "0  [0, 0, 0, 0, 0, 0, 0, 0, 0, 0, 0, 0, 0, 0, 0, ...  \n",
              "1  [0, 0, 0, 0, 0, 0, 0, 0, 0, 0, 0, 0, 0, 0, 0, ...  \n",
              "2  [0, 0, 0, 0, 0, 0, 0, 0, 0, 0, 0, 0, 0, 0, 0, ...  \n",
              "3  [0, 0, 0, 0, 0, 0, 0, 0, 0, 0, 0, 0, 0, 0, 0, ...  \n",
              "4  [0, 0, 0, 0, 0, 0, 0, 0, 0, 0, 0, 0, 0, 0, 0, ...  "
            ],
            "text/html": [
              "\n",
              "  <div id=\"df-b0f642fa-5f8e-44b9-81e1-5fa0347b720a\" class=\"colab-df-container\">\n",
              "    <div>\n",
              "<style scoped>\n",
              "    .dataframe tbody tr th:only-of-type {\n",
              "        vertical-align: middle;\n",
              "    }\n",
              "\n",
              "    .dataframe tbody tr th {\n",
              "        vertical-align: top;\n",
              "    }\n",
              "\n",
              "    .dataframe thead th {\n",
              "        text-align: right;\n",
              "    }\n",
              "</style>\n",
              "<table border=\"1\" class=\"dataframe\">\n",
              "  <thead>\n",
              "    <tr style=\"text-align: right;\">\n",
              "      <th></th>\n",
              "      <th>id</th>\n",
              "      <th>texts</th>\n",
              "      <th>tokens</th>\n",
              "      <th>labels</th>\n",
              "      <th>psr_tags</th>\n",
              "      <th>psr_seq_tags</th>\n",
              "    </tr>\n",
              "  </thead>\n",
              "  <tbody>\n",
              "    <tr>\n",
              "      <th>0</th>\n",
              "      <td>16</td>\n",
              "      <td>je demanderai au Premier ministre d'assigner à...</td>\n",
              "      <td>[je, demanderai, au, Premier, ministre, d', as...</td>\n",
              "      <td>2</td>\n",
              "      <td>[0, 0, 0, 0, 0, 0, 0, 0, 0, 0, 0, 0, 0, 0, 0, ...</td>\n",
              "      <td>[0, 0, 0, 0, 0, 0, 0, 0, 0, 0, 0, 0, 0, 0, 0, ...</td>\n",
              "    </tr>\n",
              "    <tr>\n",
              "      <th>1</th>\n",
              "      <td>263</td>\n",
              "      <td>Nos institutions sont en effet solides. La Vᵉ ...</td>\n",
              "      <td>[Nos, institutions, sont, en, effet, solides, ...</td>\n",
              "      <td>1</td>\n",
              "      <td>[0, 0, 0, 0, 0, 0, 0, 0, 0, 0, 0, 0, 0, 0, 0, ...</td>\n",
              "      <td>[0, 0, 0, 0, 0, 0, 0, 0, 0, 0, 0, 0, 0, 0, 0, ...</td>\n",
              "    </tr>\n",
              "    <tr>\n",
              "      <th>2</th>\n",
              "      <td>217</td>\n",
              "      <td>Nous devons faire en sorte que nos discussions...</td>\n",
              "      <td>[Nous, devons, faire, en, sorte, que, nos, dis...</td>\n",
              "      <td>2</td>\n",
              "      <td>[0, 0, 0, 0, 0, 0, 0, 0, 0, 0, 0, 0, 0, 0, 0, ...</td>\n",
              "      <td>[0, 0, 0, 0, 0, 0, 0, 0, 0, 0, 0, 0, 0, 0, 0, ...</td>\n",
              "    </tr>\n",
              "    <tr>\n",
              "      <th>3</th>\n",
              "      <td>435</td>\n",
              "      <td>Le groupe UDI, Agir et indépendants plaide dep...</td>\n",
              "      <td>[Le, groupe, UDI, ,, Agir, et, indépendants, p...</td>\n",
              "      <td>2</td>\n",
              "      <td>[0, 0, 0, 0, 0, 0, 0, 0, 0, 0, 0, 0, 0, 0, 0, ...</td>\n",
              "      <td>[0, 0, 0, 0, 0, 0, 0, 0, 0, 0, 0, 0, 0, 0, 0, ...</td>\n",
              "    </tr>\n",
              "    <tr>\n",
              "      <th>4</th>\n",
              "      <td>63</td>\n",
              "      <td>Sieyès et Mirabeau ne désertèrent pas si promp...</td>\n",
              "      <td>[Sieyès, et, Mirabeau, ne, désertèrent, pas, s...</td>\n",
              "      <td>1</td>\n",
              "      <td>[0, 0, 0, 0, 0, 0, 0, 0, 0, 0, 0, 0, 0, 0, 0, ...</td>\n",
              "      <td>[0, 0, 0, 0, 0, 0, 0, 0, 0, 0, 0, 0, 0, 0, 0, ...</td>\n",
              "    </tr>\n",
              "  </tbody>\n",
              "</table>\n",
              "</div>\n",
              "    <div class=\"colab-df-buttons\">\n",
              "\n",
              "  <div class=\"colab-df-container\">\n",
              "    <button class=\"colab-df-convert\" onclick=\"convertToInteractive('df-b0f642fa-5f8e-44b9-81e1-5fa0347b720a')\"\n",
              "            title=\"Convert this dataframe to an interactive table.\"\n",
              "            style=\"display:none;\">\n",
              "\n",
              "  <svg xmlns=\"http://www.w3.org/2000/svg\" height=\"24px\" viewBox=\"0 -960 960 960\">\n",
              "    <path d=\"M120-120v-720h720v720H120Zm60-500h600v-160H180v160Zm220 220h160v-160H400v160Zm0 220h160v-160H400v160ZM180-400h160v-160H180v160Zm440 0h160v-160H620v160ZM180-180h160v-160H180v160Zm440 0h160v-160H620v160Z\"/>\n",
              "  </svg>\n",
              "    </button>\n",
              "\n",
              "  <style>\n",
              "    .colab-df-container {\n",
              "      display:flex;\n",
              "      gap: 12px;\n",
              "    }\n",
              "\n",
              "    .colab-df-convert {\n",
              "      background-color: #E8F0FE;\n",
              "      border: none;\n",
              "      border-radius: 50%;\n",
              "      cursor: pointer;\n",
              "      display: none;\n",
              "      fill: #1967D2;\n",
              "      height: 32px;\n",
              "      padding: 0 0 0 0;\n",
              "      width: 32px;\n",
              "    }\n",
              "\n",
              "    .colab-df-convert:hover {\n",
              "      background-color: #E2EBFA;\n",
              "      box-shadow: 0px 1px 2px rgba(60, 64, 67, 0.3), 0px 1px 3px 1px rgba(60, 64, 67, 0.15);\n",
              "      fill: #174EA6;\n",
              "    }\n",
              "\n",
              "    .colab-df-buttons div {\n",
              "      margin-bottom: 4px;\n",
              "    }\n",
              "\n",
              "    [theme=dark] .colab-df-convert {\n",
              "      background-color: #3B4455;\n",
              "      fill: #D2E3FC;\n",
              "    }\n",
              "\n",
              "    [theme=dark] .colab-df-convert:hover {\n",
              "      background-color: #434B5C;\n",
              "      box-shadow: 0px 1px 3px 1px rgba(0, 0, 0, 0.15);\n",
              "      filter: drop-shadow(0px 1px 2px rgba(0, 0, 0, 0.3));\n",
              "      fill: #FFFFFF;\n",
              "    }\n",
              "  </style>\n",
              "\n",
              "    <script>\n",
              "      const buttonEl =\n",
              "        document.querySelector('#df-b0f642fa-5f8e-44b9-81e1-5fa0347b720a button.colab-df-convert');\n",
              "      buttonEl.style.display =\n",
              "        google.colab.kernel.accessAllowed ? 'block' : 'none';\n",
              "\n",
              "      async function convertToInteractive(key) {\n",
              "        const element = document.querySelector('#df-b0f642fa-5f8e-44b9-81e1-5fa0347b720a');\n",
              "        const dataTable =\n",
              "          await google.colab.kernel.invokeFunction('convertToInteractive',\n",
              "                                                    [key], {});\n",
              "        if (!dataTable) return;\n",
              "\n",
              "        const docLinkHtml = 'Like what you see? Visit the ' +\n",
              "          '<a target=\"_blank\" href=https://colab.research.google.com/notebooks/data_table.ipynb>data table notebook</a>'\n",
              "          + ' to learn more about interactive tables.';\n",
              "        element.innerHTML = '';\n",
              "        dataTable['output_type'] = 'display_data';\n",
              "        await google.colab.output.renderOutput(dataTable, element);\n",
              "        const docLink = document.createElement('div');\n",
              "        docLink.innerHTML = docLinkHtml;\n",
              "        element.appendChild(docLink);\n",
              "      }\n",
              "    </script>\n",
              "  </div>\n",
              "\n",
              "\n",
              "<div id=\"df-6e6e89d9-c7ef-4768-bdbf-0d2479eb61db\">\n",
              "  <button class=\"colab-df-quickchart\" onclick=\"quickchart('df-6e6e89d9-c7ef-4768-bdbf-0d2479eb61db')\"\n",
              "            title=\"Suggest charts\"\n",
              "            style=\"display:none;\">\n",
              "\n",
              "<svg xmlns=\"http://www.w3.org/2000/svg\" height=\"24px\"viewBox=\"0 0 24 24\"\n",
              "     width=\"24px\">\n",
              "    <g>\n",
              "        <path d=\"M19 3H5c-1.1 0-2 .9-2 2v14c0 1.1.9 2 2 2h14c1.1 0 2-.9 2-2V5c0-1.1-.9-2-2-2zM9 17H7v-7h2v7zm4 0h-2V7h2v10zm4 0h-2v-4h2v4z\"/>\n",
              "    </g>\n",
              "</svg>\n",
              "  </button>\n",
              "\n",
              "<style>\n",
              "  .colab-df-quickchart {\n",
              "      --bg-color: #E8F0FE;\n",
              "      --fill-color: #1967D2;\n",
              "      --hover-bg-color: #E2EBFA;\n",
              "      --hover-fill-color: #174EA6;\n",
              "      --disabled-fill-color: #AAA;\n",
              "      --disabled-bg-color: #DDD;\n",
              "  }\n",
              "\n",
              "  [theme=dark] .colab-df-quickchart {\n",
              "      --bg-color: #3B4455;\n",
              "      --fill-color: #D2E3FC;\n",
              "      --hover-bg-color: #434B5C;\n",
              "      --hover-fill-color: #FFFFFF;\n",
              "      --disabled-bg-color: #3B4455;\n",
              "      --disabled-fill-color: #666;\n",
              "  }\n",
              "\n",
              "  .colab-df-quickchart {\n",
              "    background-color: var(--bg-color);\n",
              "    border: none;\n",
              "    border-radius: 50%;\n",
              "    cursor: pointer;\n",
              "    display: none;\n",
              "    fill: var(--fill-color);\n",
              "    height: 32px;\n",
              "    padding: 0;\n",
              "    width: 32px;\n",
              "  }\n",
              "\n",
              "  .colab-df-quickchart:hover {\n",
              "    background-color: var(--hover-bg-color);\n",
              "    box-shadow: 0 1px 2px rgba(60, 64, 67, 0.3), 0 1px 3px 1px rgba(60, 64, 67, 0.15);\n",
              "    fill: var(--button-hover-fill-color);\n",
              "  }\n",
              "\n",
              "  .colab-df-quickchart-complete:disabled,\n",
              "  .colab-df-quickchart-complete:disabled:hover {\n",
              "    background-color: var(--disabled-bg-color);\n",
              "    fill: var(--disabled-fill-color);\n",
              "    box-shadow: none;\n",
              "  }\n",
              "\n",
              "  .colab-df-spinner {\n",
              "    border: 2px solid var(--fill-color);\n",
              "    border-color: transparent;\n",
              "    border-bottom-color: var(--fill-color);\n",
              "    animation:\n",
              "      spin 1s steps(1) infinite;\n",
              "  }\n",
              "\n",
              "  @keyframes spin {\n",
              "    0% {\n",
              "      border-color: transparent;\n",
              "      border-bottom-color: var(--fill-color);\n",
              "      border-left-color: var(--fill-color);\n",
              "    }\n",
              "    20% {\n",
              "      border-color: transparent;\n",
              "      border-left-color: var(--fill-color);\n",
              "      border-top-color: var(--fill-color);\n",
              "    }\n",
              "    30% {\n",
              "      border-color: transparent;\n",
              "      border-left-color: var(--fill-color);\n",
              "      border-top-color: var(--fill-color);\n",
              "      border-right-color: var(--fill-color);\n",
              "    }\n",
              "    40% {\n",
              "      border-color: transparent;\n",
              "      border-right-color: var(--fill-color);\n",
              "      border-top-color: var(--fill-color);\n",
              "    }\n",
              "    60% {\n",
              "      border-color: transparent;\n",
              "      border-right-color: var(--fill-color);\n",
              "    }\n",
              "    80% {\n",
              "      border-color: transparent;\n",
              "      border-right-color: var(--fill-color);\n",
              "      border-bottom-color: var(--fill-color);\n",
              "    }\n",
              "    90% {\n",
              "      border-color: transparent;\n",
              "      border-bottom-color: var(--fill-color);\n",
              "    }\n",
              "  }\n",
              "</style>\n",
              "\n",
              "  <script>\n",
              "    async function quickchart(key) {\n",
              "      const quickchartButtonEl =\n",
              "        document.querySelector('#' + key + ' button');\n",
              "      quickchartButtonEl.disabled = true;  // To prevent multiple clicks.\n",
              "      quickchartButtonEl.classList.add('colab-df-spinner');\n",
              "      try {\n",
              "        const charts = await google.colab.kernel.invokeFunction(\n",
              "            'suggestCharts', [key], {});\n",
              "      } catch (error) {\n",
              "        console.error('Error during call to suggestCharts:', error);\n",
              "      }\n",
              "      quickchartButtonEl.classList.remove('colab-df-spinner');\n",
              "      quickchartButtonEl.classList.add('colab-df-quickchart-complete');\n",
              "    }\n",
              "    (() => {\n",
              "      let quickchartButtonEl =\n",
              "        document.querySelector('#df-6e6e89d9-c7ef-4768-bdbf-0d2479eb61db button');\n",
              "      quickchartButtonEl.style.display =\n",
              "        google.colab.kernel.accessAllowed ? 'block' : 'none';\n",
              "    })();\n",
              "  </script>\n",
              "</div>\n",
              "\n",
              "    </div>\n",
              "  </div>\n"
            ],
            "application/vnd.google.colaboratory.intrinsic+json": {
              "type": "dataframe",
              "variable_name": "train_df",
              "summary": "{\n  \"name\": \"train_df\",\n  \"rows\": 392,\n  \"fields\": [\n    {\n      \"column\": \"id\",\n      \"properties\": {\n        \"dtype\": \"number\",\n        \"std\": 152,\n        \"min\": 3,\n        \"max\": 545,\n        \"num_unique_values\": 392,\n        \"samples\": [\n          61,\n          180,\n          446\n        ],\n        \"semantic_type\": \"\",\n        \"description\": \"\"\n      }\n    },\n    {\n      \"column\": \"texts\",\n      \"properties\": {\n        \"dtype\": \"string\",\n        \"num_unique_values\": 383,\n        \"samples\": [\n          \"Les infirmiers concern\\u00e9s, dont le parcours professionnel est au minimum de huit ann\\u00e9es, ne sont pas valoris\\u00e9s par une telle r\\u00e9mun\\u00e9ration, qui semble trop faible.\",\n          \"En \\u00e9lisant le Pr\\u00e9sident de la R\\u00e9publique, au deuxi\\u00e8me tour de l'\\u00e9lection pr\\u00e9sidentielle, ils ont eu l'audace du renouvellement et le courage de l'esp\\u00e9rance, cette esp\\u00e9rance d'une France qui, retrouvant sa place en Europe et dans le concert des nations, leur apporte protection et prosp\\u00e9rit\\u00e9.\",\n          \"si les aliments que nous mangeons, l'air que nous respirons, l'eau que nous buvons nous sont impos\\u00e9s, et pour le pire, par les seules forces d'une comp\\u00e9tition internationale devenue anarchique.\"\n        ],\n        \"semantic_type\": \"\",\n        \"description\": \"\"\n      }\n    },\n    {\n      \"column\": \"tokens\",\n      \"properties\": {\n        \"dtype\": \"object\",\n        \"semantic_type\": \"\",\n        \"description\": \"\"\n      }\n    },\n    {\n      \"column\": \"labels\",\n      \"properties\": {\n        \"dtype\": \"number\",\n        \"std\": 0,\n        \"min\": 1,\n        \"max\": 3,\n        \"num_unique_values\": 3,\n        \"samples\": [\n          2,\n          1,\n          3\n        ],\n        \"semantic_type\": \"\",\n        \"description\": \"\"\n      }\n    },\n    {\n      \"column\": \"psr_tags\",\n      \"properties\": {\n        \"dtype\": \"object\",\n        \"semantic_type\": \"\",\n        \"description\": \"\"\n      }\n    },\n    {\n      \"column\": \"psr_seq_tags\",\n      \"properties\": {\n        \"dtype\": \"object\",\n        \"semantic_type\": \"\",\n        \"description\": \"\"\n      }\n    }\n  ]\n}"
            }
          },
          "metadata": {},
          "execution_count": 43
        }
      ],
      "execution_count": 43
    },
    {
      "cell_type": "markdown",
      "id": "941cd33ac11d6213",
      "metadata": {
        "id": "941cd33ac11d6213"
      },
      "source": [
        "### Préparation des datasets"
      ]
    },
    {
      "cell_type": "code",
      "id": "b08245479985b8be",
      "metadata": {
        "ExecuteTime": {
          "end_time": "2024-06-04T21:18:50.388055Z",
          "start_time": "2024-06-04T21:18:49.876731Z"
        },
        "id": "b08245479985b8be"
      },
      "source": [
        "from datasets import Dataset, Features, Sequence, Value, ClassLabel"
      ],
      "outputs": [],
      "execution_count": 44
    },
    {
      "cell_type": "code",
      "id": "ba261857dbbdab25",
      "metadata": {
        "ExecuteTime": {
          "end_time": "2024-06-04T21:29:17.266774Z",
          "start_time": "2024-06-04T21:29:17.262679Z"
        },
        "id": "ba261857dbbdab25"
      },
      "source": [
        "# Définir les Features pour chaque colonne du DataFrame\n",
        "features = Features({\n",
        "    'id': Value(dtype='int32', id=None),\n",
        "    'texts': Value(dtype='string', id=None),\n",
        "    'tokens': Sequence(feature=Value(dtype='string', id=None), length=-1, id=None),\n",
        "    'labels': ClassLabel(names=['O', 'DET', 'APPO', 'AMBIGUE'], id=None),\n",
        "    'psr_tags': Sequence(feature=ClassLabel(names=['O', 'DET', 'APPO', 'AMBIGUE'], id=None), length=-1, id=None),\n",
        "    'psr_seq_tags': Sequence(feature=ClassLabel(names=['O', 'B-DET', 'I-DET', 'B-APPO', 'I-APPO', 'B-AMBIGUE','I-AMBIGUE'], id=None), length=-1, id=None)\n",
        "})"
      ],
      "outputs": [],
      "execution_count": 45
    },
    {
      "cell_type": "code",
      "id": "73313b1981a5a16d",
      "metadata": {
        "ExecuteTime": {
          "end_time": "2024-06-04T21:29:23.386576Z",
          "start_time": "2024-06-04T21:29:23.358687Z"
        },
        "id": "73313b1981a5a16d"
      },
      "source": [
        "# Convertir le DataFrame en Dataset Hugging Face avec les Features spécifiés\n",
        "train_ds = Dataset.from_pandas(train_df, features=features)\n",
        "val_ds = Dataset.from_pandas(val_df, features=features)\n",
        "test_ds = Dataset.from_pandas(test_df, features=features)"
      ],
      "outputs": [],
      "execution_count": 46
    },
    {
      "cell_type": "code",
      "id": "e154dfa173c5d156",
      "metadata": {
        "ExecuteTime": {
          "end_time": "2024-06-04T21:29:24.411383Z",
          "start_time": "2024-06-04T21:29:24.408207Z"
        },
        "id": "e154dfa173c5d156",
        "outputId": "bac9ea78-5195-4bb7-9bc2-88baf48fbe46",
        "colab": {
          "base_uri": "https://localhost:8080/"
        }
      },
      "source": [
        "train_ds"
      ],
      "outputs": [
        {
          "output_type": "execute_result",
          "data": {
            "text/plain": [
              "Dataset({\n",
              "    features: ['id', 'texts', 'tokens', 'labels', 'psr_tags', 'psr_seq_tags'],\n",
              "    num_rows: 392\n",
              "})"
            ]
          },
          "metadata": {},
          "execution_count": 47
        }
      ],
      "execution_count": 47
    },
    {
      "cell_type": "code",
      "id": "387b7d2b7c6d8f1e",
      "metadata": {
        "ExecuteTime": {
          "end_time": "2024-06-04T21:29:32.024215Z",
          "start_time": "2024-06-04T21:29:32.021516Z"
        },
        "id": "387b7d2b7c6d8f1e"
      },
      "source": [
        "from datasets import DatasetDict\n",
        "\n",
        "# Recréation du DatasetDict\n",
        "dataset = DatasetDict({\n",
        "    'train': train_ds,\n",
        "    'validation': val_ds,\n",
        "    'test': test_ds\n",
        "})"
      ],
      "outputs": [],
      "execution_count": 48
    },
    {
      "cell_type": "code",
      "id": "acd319d12f6f7522",
      "metadata": {
        "ExecuteTime": {
          "end_time": "2024-06-04T21:29:34.924879Z",
          "start_time": "2024-06-04T21:29:34.921461Z"
        },
        "id": "acd319d12f6f7522",
        "outputId": "2f975d69-b4fa-4477-a2c7-7ad776b0e25c",
        "colab": {
          "base_uri": "https://localhost:8080/"
        }
      },
      "source": [
        "dataset"
      ],
      "outputs": [
        {
          "output_type": "execute_result",
          "data": {
            "text/plain": [
              "DatasetDict({\n",
              "    train: Dataset({\n",
              "        features: ['id', 'texts', 'tokens', 'labels', 'psr_tags', 'psr_seq_tags'],\n",
              "        num_rows: 392\n",
              "    })\n",
              "    validation: Dataset({\n",
              "        features: ['id', 'texts', 'tokens', 'labels', 'psr_tags', 'psr_seq_tags'],\n",
              "        num_rows: 99\n",
              "    })\n",
              "    test: Dataset({\n",
              "        features: ['id', 'texts', 'tokens', 'labels', 'psr_tags', 'psr_seq_tags'],\n",
              "        num_rows: 55\n",
              "    })\n",
              "})"
            ]
          },
          "metadata": {},
          "execution_count": 49
        }
      ],
      "execution_count": 49
    },
    {
      "cell_type": "markdown",
      "id": "f8979eba",
      "metadata": {
        "id": "f8979eba"
      },
      "source": [
        "### Sauvegarde des datasets et publication sur Hugging Face"
      ]
    },
    {
      "cell_type": "code",
      "id": "0f36fad1",
      "metadata": {
        "ExecuteTime": {
          "end_time": "2024-06-04T21:29:48.760946Z",
          "start_time": "2024-06-04T21:29:48.758618Z"
        },
        "id": "0f36fad1"
      },
      "source": [
        "dataset_name = 'relatives_psr'"
      ],
      "outputs": [],
      "execution_count": null
    },
    {
      "cell_type": "code",
      "id": "92604fafee1ab637",
      "metadata": {
        "ExecuteTime": {
          "end_time": "2024-06-04T21:20:48.280782Z",
          "start_time": "2024-06-04T21:20:48.249203Z"
        },
        "id": "92604fafee1ab637",
        "outputId": "b8229d32-3970-475e-94aa-c13891afc9bc",
        "colab": {
          "referenced_widgets": [
            "8c5b6bf9a3044b3d8b8ccb187fad3787"
          ]
        }
      },
      "source": [
        "from huggingface_hub import notebook_login\n",
        "\n",
        "notebook_login()"
      ],
      "outputs": [
        {
          "data": {
            "text/plain": [
              "VBox(children=(HTML(value='<center> <img\\nsrc=https://huggingface.co/front/assets/huggingface_logo-noborder.sv…"
            ],
            "application/vnd.jupyter.widget-view+json": {
              "version_major": 2,
              "version_minor": 0,
              "model_id": "8c5b6bf9a3044b3d8b8ccb187fad3787"
            }
          },
          "metadata": {},
          "output_type": "display_data"
        }
      ],
      "execution_count": null
    },
    {
      "cell_type": "code",
      "id": "9c86299eef964535",
      "metadata": {
        "ExecuteTime": {
          "end_time": "2024-06-04T21:29:56.750413Z",
          "start_time": "2024-06-04T21:29:53.139541Z"
        },
        "id": "9c86299eef964535",
        "outputId": "a7895d94-aca7-467e-aaa5-7ec1bcfd9228",
        "colab": {
          "referenced_widgets": [
            "0d00727be7d446aaacd118ee11ec049f",
            "92a2d4cfd46a47e49024b499965ec6c9",
            "b48864efacaa46f8b857fc21da363e39",
            "5dee6c12ddbe4afdadfd3d4d3ef4f083",
            "ad5dfc2092aa4e9186014368632b5169",
            "dfc6346834c64617814ef1a28298d407",
            "937761f9db2f468f924ebfd460e9fb92"
          ]
        }
      },
      "source": [
        "# Enregistrer le DatasetDict dans le hub Hugging Face\n",
        "dataset.push_to_hub(dataset_name)"
      ],
      "outputs": [
        {
          "data": {
            "text/plain": [
              "Uploading the dataset shards:   0%|          | 0/1 [00:00<?, ?it/s]"
            ],
            "application/vnd.jupyter.widget-view+json": {
              "version_major": 2,
              "version_minor": 0,
              "model_id": "0d00727be7d446aaacd118ee11ec049f"
            }
          },
          "metadata": {},
          "output_type": "display_data"
        },
        {
          "data": {
            "text/plain": [
              "Creating parquet from Arrow format:   0%|          | 0/1 [00:00<?, ?ba/s]"
            ],
            "application/vnd.jupyter.widget-view+json": {
              "version_major": 2,
              "version_minor": 0,
              "model_id": "92a2d4cfd46a47e49024b499965ec6c9"
            }
          },
          "metadata": {},
          "output_type": "display_data"
        },
        {
          "data": {
            "text/plain": [
              "Uploading the dataset shards:   0%|          | 0/1 [00:00<?, ?it/s]"
            ],
            "application/vnd.jupyter.widget-view+json": {
              "version_major": 2,
              "version_minor": 0,
              "model_id": "b48864efacaa46f8b857fc21da363e39"
            }
          },
          "metadata": {},
          "output_type": "display_data"
        },
        {
          "data": {
            "text/plain": [
              "Creating parquet from Arrow format:   0%|          | 0/1 [00:00<?, ?ba/s]"
            ],
            "application/vnd.jupyter.widget-view+json": {
              "version_major": 2,
              "version_minor": 0,
              "model_id": "5dee6c12ddbe4afdadfd3d4d3ef4f083"
            }
          },
          "metadata": {},
          "output_type": "display_data"
        },
        {
          "data": {
            "text/plain": [
              "Uploading the dataset shards:   0%|          | 0/1 [00:00<?, ?it/s]"
            ],
            "application/vnd.jupyter.widget-view+json": {
              "version_major": 2,
              "version_minor": 0,
              "model_id": "ad5dfc2092aa4e9186014368632b5169"
            }
          },
          "metadata": {},
          "output_type": "display_data"
        },
        {
          "data": {
            "text/plain": [
              "Creating parquet from Arrow format:   0%|          | 0/1 [00:00<?, ?ba/s]"
            ],
            "application/vnd.jupyter.widget-view+json": {
              "version_major": 2,
              "version_minor": 0,
              "model_id": "dfc6346834c64617814ef1a28298d407"
            }
          },
          "metadata": {},
          "output_type": "display_data"
        },
        {
          "data": {
            "text/plain": [
              "README.md:   0%|          | 0.00/5.32k [00:00<?, ?B/s]"
            ],
            "application/vnd.jupyter.widget-view+json": {
              "version_major": 2,
              "version_minor": 0,
              "model_id": "937761f9db2f468f924ebfd460e9fb92"
            }
          },
          "metadata": {},
          "output_type": "display_data"
        },
        {
          "data": {
            "text/plain": [
              "CommitInfo(commit_url='https://huggingface.co/datasets/djamina/relatives_psr/commit/1f7c7701776a5850f65f8e7ff685d1824d6a3188', commit_message='Upload dataset', commit_description='', oid='1f7c7701776a5850f65f8e7ff685d1824d6a3188', pr_url=None, pr_revision=None, pr_num=None)"
            ]
          },
          "execution_count": 42,
          "metadata": {},
          "output_type": "execute_result"
        }
      ],
      "execution_count": null
    },
    {
      "metadata": {
        "id": "bd940db3a92364ce"
      },
      "cell_type": "code",
      "source": [],
      "id": "bd940db3a92364ce",
      "outputs": [],
      "execution_count": null
    }
  ],
  "metadata": {
    "kernelspec": {
      "display_name": "Python 3",
      "language": "python",
      "name": "python3"
    },
    "language_info": {
      "codemirror_mode": {
        "name": "ipython",
        "version": 3
      },
      "file_extension": ".py",
      "mimetype": "text/x-python",
      "name": "python",
      "nbconvert_exporter": "python",
      "pygments_lexer": "ipython3",
      "version": "3.10.13"
    },
    "colab": {
      "provenance": [],
      "include_colab_link": true
    }
  },
  "nbformat": 4,
  "nbformat_minor": 5
}