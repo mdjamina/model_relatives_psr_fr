{
 "cells": [
  {
   "cell_type": "code",
   "execution_count": 1,
   "id": "0de6b075",
   "metadata": {
    "ExecuteTime": {
     "end_time": "2024-05-25T14:21:09.830779Z",
     "start_time": "2024-05-25T14:21:09.095570Z"
    }
   },
   "outputs": [
    {
     "name": "stderr",
     "output_type": "stream",
     "text": [
      "[nltk_data] Downloading package punkt to /home/amina/nltk_data...\n",
      "[nltk_data]   Unzipping tokenizers/punkt.zip.\n"
     ]
    },
    {
     "data": {
      "text/plain": [
       "True"
      ]
     },
     "execution_count": 1,
     "metadata": {},
     "output_type": "execute_result"
    }
   ],
   "source": [
    "import nltk\n",
    "nltk.download('punkt')"
   ]
  },
  {
   "cell_type": "code",
   "execution_count": 2,
   "id": "initial_id",
   "metadata": {
    "ExecuteTime": {
     "end_time": "2024-05-25T14:21:25.669024Z",
     "start_time": "2024-05-25T14:21:25.399868Z"
    },
    "collapsed": true
   },
   "outputs": [],
   "source": [
    "import pandas as pd"
   ]
  },
  {
   "cell_type": "code",
   "execution_count": 4,
   "id": "9a87b8a323b1967f",
   "metadata": {
    "ExecuteTime": {
     "end_time": "2024-05-25T14:22:06.622518Z",
     "start_time": "2024-05-25T14:22:06.617774Z"
    }
   },
   "outputs": [],
   "source": [
    "def annotate(text, psr, tag):\n",
    "    # Initialize the annotation list with 0s\n",
    "    annotation = [0] * len(text)\n",
    "\n",
    "    # Define the labels\n",
    "    labels = {'O': 0, 'det': 1, 'appo': 2, 'ambiguë': 3}\n",
    "\n",
    "    # Find the start index of the subsequence psr in text\n",
    "    psr_len = len(psr)\n",
    "    text_len = len(text)\n",
    "\n",
    "    for i in range(text_len - psr_len + 1):\n",
    "        if text[i:i + psr_len] == psr:\n",
    "            annotation[i] = labels[tag]\n",
    "            break\n",
    "\n",
    "    return annotation"
   ]
  },
  {
   "cell_type": "code",
   "execution_count": 6,
   "id": "d253eb383849586e",
   "metadata": {
    "ExecuteTime": {
     "end_time": "2024-05-25T14:23:33.795721Z",
     "start_time": "2024-05-25T14:23:33.791508Z"
    }
   },
   "outputs": [],
   "source": [
    "from nltk import RegexpTokenizer\n",
    "\n",
    "def tokenizer(text):\n",
    "  return RegexpTokenizer(r'''\\w'|\\w+|[^\\w\\s]''').tokenize(text)\n",
    "\n"
   ]
  },
  {
   "metadata": {},
   "cell_type": "code",
   "outputs": [],
   "execution_count": null,
   "source": [
    "import re\n",
    "\n",
    "def replace_characters(match: re.Match) -> str:\n",
    "    char = match.group(0)\n",
    "    replacements = {'’': \"'\",'´': \"'\",'`': \"'\",'‘': \"'\",'«': '\"','»': '\"','“': '\"','”': '\"','–': '-','—': '-','…': ' ',u'\\xa0': ' ',}\n",
    "    return replacements[char]\n",
    "\n",
    "def normalize_text(text: str) -> str:\n",
    "    pattern = r'[’´`‘«»“”–—…]'\n",
    "    return re.sub(pattern, replace_characters, text).strip()"
   ],
   "id": "4ec21628b06316f6"
  },
  {
   "cell_type": "code",
   "execution_count": 7,
   "id": "ce9f4468267ac500",
   "metadata": {
    "ExecuteTime": {
     "end_time": "2024-05-25T14:23:53.156397Z",
     "start_time": "2024-05-25T14:23:52.024598Z"
    }
   },
   "outputs": [],
   "source": [
    "file_path = '../data/relatives.xlsx'\n",
    "sheet_name = 'Feuille 1_2'\n",
    "df = pd.read_excel(file_path, sheet_name=sheet_name)"
   ]
  },
  {
   "cell_type": "code",
   "execution_count": 10,
   "id": "af2ea5e38a5e899",
   "metadata": {
    "ExecuteTime": {
     "end_time": "2024-05-25T14:25:07.425131Z",
     "start_time": "2024-05-25T14:25:07.420748Z"
    }
   },
   "outputs": [],
   "source": [
    "df = df.map(normalize_text)"
   ]
  },
  {
   "cell_type": "code",
   "execution_count": 11,
   "id": "eb773011a6b223d6",
   "metadata": {
    "ExecuteTime": {
     "end_time": "2024-05-25T14:25:26.035501Z",
     "start_time": "2024-05-25T14:25:26.019987Z"
    }
   },
   "outputs": [],
   "source": [
    "# Application de la fonction tokenizer sur les colonnes Phrase et PSR\n",
    "df['Phrase'] = df['Phrase'].apply(tokenizer)\n",
    "df['PSR'] = df['PSR'].apply(tokenizer)"
   ]
  },
  {
   "cell_type": "code",
   "execution_count": null,
   "id": "b1a1218e",
   "metadata": {},
   "outputs": [],
   "source": [
    "df['Phrase', 'PSR'] = df['Phrase', 'PSR'].map(tokenizer)"
   ]
  },
  {
   "cell_type": "code",
   "execution_count": 13,
   "id": "c1f47abe592afcfd",
   "metadata": {
    "ExecuteTime": {
     "end_time": "2024-05-25T14:25:52.256363Z",
     "start_time": "2024-05-25T14:25:52.247099Z"
    }
   },
   "outputs": [],
   "source": [
    "# Appliquer la fonction annotate à chaque ligne du DataFrame pour créer la colonne psr_tags\n",
    "df['psr_tags'] = df.apply(lambda row: annotate(row['Phrase'], row['PSR'], row['Annotation']), axis=1)"
   ]
  },
  {
   "cell_type": "code",
   "execution_count": 14,
   "id": "8372b616e5604e3d",
   "metadata": {
    "ExecuteTime": {
     "end_time": "2024-05-25T14:26:03.949962Z",
     "start_time": "2024-05-25T14:26:03.945208Z"
    }
   },
   "outputs": [],
   "source": [
    "df.drop(columns=['PSR','Annotation'], inplace=True)\n",
    "# Renommer la colonne Phrase en tokens\n",
    "df.rename(columns={'Phrase': 'tokens'}, inplace=True)"
   ]
  },
  {
   "cell_type": "code",
   "execution_count": 15,
   "id": "50a620046601250d",
   "metadata": {
    "ExecuteTime": {
     "end_time": "2024-05-25T14:26:08.125367Z",
     "start_time": "2024-05-25T14:26:08.117505Z"
    }
   },
   "outputs": [
    {
     "data": {
      "text/html": [
       "<div>\n",
       "<style scoped>\n",
       "    .dataframe tbody tr th:only-of-type {\n",
       "        vertical-align: middle;\n",
       "    }\n",
       "\n",
       "    .dataframe tbody tr th {\n",
       "        vertical-align: top;\n",
       "    }\n",
       "\n",
       "    .dataframe thead th {\n",
       "        text-align: right;\n",
       "    }\n",
       "</style>\n",
       "<table border=\"1\" class=\"dataframe\">\n",
       "  <thead>\n",
       "    <tr style=\"text-align: right;\">\n",
       "      <th></th>\n",
       "      <th>tokens</th>\n",
       "      <th>psr_tags</th>\n",
       "    </tr>\n",
       "  </thead>\n",
       "  <tbody>\n",
       "    <tr>\n",
       "      <th>0</th>\n",
       "      <td>[Simone, Veil, occupe, désormais, une, place, ...</td>\n",
       "      <td>[0, 0, 0, 0, 0, 0, 0, 0, 0, 0, 0, 0, 0, 0, 0, ...</td>\n",
       "    </tr>\n",
       "    <tr>\n",
       "      <th>1</th>\n",
       "      <td>[une, force, qui, a, fait, d', elle, une, actr...</td>\n",
       "      <td>[0, 0, 1, 0, 0, 0, 0, 0, 0, 0, 0, 0, 0, 0, 0, ...</td>\n",
       "    </tr>\n",
       "    <tr>\n",
       "      <th>2</th>\n",
       "      <td>[Les, heures, que, nous, vivons, sont, de, cel...</td>\n",
       "      <td>[0, 0, 1, 0, 0, 0, 0, 0, 0, 0, 0]</td>\n",
       "    </tr>\n",
       "    <tr>\n",
       "      <th>3</th>\n",
       "      <td>[Je, veux, aujourd, ', hui, vous, parler, du, ...</td>\n",
       "      <td>[0, 0, 0, 0, 0, 0, 0, 0, 0, 1, 0, 0, 0, 0, 0]</td>\n",
       "    </tr>\n",
       "    <tr>\n",
       "      <th>4</th>\n",
       "      <td>[des, institutions, que, je, veux, changer]</td>\n",
       "      <td>[0, 0, 1, 0, 0, 0]</td>\n",
       "    </tr>\n",
       "  </tbody>\n",
       "</table>\n",
       "</div>"
      ],
      "text/plain": [
       "                                              tokens  \\\n",
       "0  [Simone, Veil, occupe, désormais, une, place, ...   \n",
       "1  [une, force, qui, a, fait, d', elle, une, actr...   \n",
       "2  [Les, heures, que, nous, vivons, sont, de, cel...   \n",
       "3  [Je, veux, aujourd, ', hui, vous, parler, du, ...   \n",
       "4        [des, institutions, que, je, veux, changer]   \n",
       "\n",
       "                                            psr_tags  \n",
       "0  [0, 0, 0, 0, 0, 0, 0, 0, 0, 0, 0, 0, 0, 0, 0, ...  \n",
       "1  [0, 0, 1, 0, 0, 0, 0, 0, 0, 0, 0, 0, 0, 0, 0, ...  \n",
       "2                  [0, 0, 1, 0, 0, 0, 0, 0, 0, 0, 0]  \n",
       "3      [0, 0, 0, 0, 0, 0, 0, 0, 0, 1, 0, 0, 0, 0, 0]  \n",
       "4                                 [0, 0, 1, 0, 0, 0]  "
      ]
     },
     "execution_count": 15,
     "metadata": {},
     "output_type": "execute_result"
    }
   ],
   "source": [
    "df.head()"
   ]
  },
  {
   "cell_type": "code",
   "execution_count": 16,
   "id": "80a621a1d72dee0a",
   "metadata": {
    "ExecuteTime": {
     "end_time": "2024-05-25T14:28:29.600377Z",
     "start_time": "2024-05-25T14:28:29.066414Z"
    }
   },
   "outputs": [],
   "source": [
    "#split the dataset into train , validation and test\n",
    "from sklearn.model_selection import train_test_split\n",
    "\n",
    "train_df, test_df = train_test_split(df, test_size=0.2, random_state=42)\n",
    "train_df, val_df = train_test_split(train_df, test_size=0.2, random_state=42)"
   ]
  },
  {
   "cell_type": "code",
   "execution_count": 25,
   "id": "2a9adacf02c4cc42",
   "metadata": {
    "ExecuteTime": {
     "end_time": "2024-05-25T14:36:08.308892Z",
     "start_time": "2024-05-25T14:36:08.306365Z"
    }
   },
   "outputs": [],
   "source": [
    "# Supprimer les colonnes d'index auto-générées si elles existent\n",
    "train_df.reset_index(drop=True, inplace=True)\n",
    "val_df.reset_index(drop=True, inplace=True)\n",
    "test_df.reset_index(drop=True, inplace=True)"
   ]
  },
  {
   "cell_type": "code",
   "execution_count": 22,
   "id": "e5350a165c9c5e77",
   "metadata": {
    "ExecuteTime": {
     "end_time": "2024-05-25T14:33:02.570991Z",
     "start_time": "2024-05-25T14:33:02.560047Z"
    }
   },
   "outputs": [
    {
     "data": {
      "text/html": [
       "<div>\n",
       "<style scoped>\n",
       "    .dataframe tbody tr th:only-of-type {\n",
       "        vertical-align: middle;\n",
       "    }\n",
       "\n",
       "    .dataframe tbody tr th {\n",
       "        vertical-align: top;\n",
       "    }\n",
       "\n",
       "    .dataframe thead th {\n",
       "        text-align: right;\n",
       "    }\n",
       "</style>\n",
       "<table border=\"1\" class=\"dataframe\">\n",
       "  <thead>\n",
       "    <tr style=\"text-align: right;\">\n",
       "      <th></th>\n",
       "      <th>tokens</th>\n",
       "      <th>psr_tags</th>\n",
       "    </tr>\n",
       "  </thead>\n",
       "  <tbody>\n",
       "    <tr>\n",
       "      <th>197</th>\n",
       "      <td>[Mes, chers, collègues, ,, scellons, donc, auj...</td>\n",
       "      <td>[0, 0, 0, 0, 0, 0, 0, 0, 0, 0, 0, 0, 0, 0, 0, ...</td>\n",
       "    </tr>\n",
       "    <tr>\n",
       "      <th>330</th>\n",
       "      <td>[La, loi, du, 26, janvier, 2016, de, modernisa...</td>\n",
       "      <td>[0, 0, 0, 0, 0, 0, 0, 0, 0, 0, 0, 0, 0, 0, 0, ...</td>\n",
       "    </tr>\n",
       "    <tr>\n",
       "      <th>321</th>\n",
       "      <td>[Nous, avons, par, ailleurs, pris, différentes...</td>\n",
       "      <td>[0, 0, 0, 0, 0, 0, 0, 0, 0, 0, 0, 0, 0, 0, 0, ...</td>\n",
       "    </tr>\n",
       "    <tr>\n",
       "      <th>430</th>\n",
       "      <td>[Ces, travaux, débutent, aujourd, ', hui, sous...</td>\n",
       "      <td>[0, 0, 0, 0, 0, 0, 0, 0, 0, 0, 0, 0, 0, 0, 0, ...</td>\n",
       "    </tr>\n",
       "    <tr>\n",
       "      <th>173</th>\n",
       "      <td>[Ceux, qui, profitent, du, rouleau, compresseu...</td>\n",
       "      <td>[0, 1, 0, 0, 0, 0, 0, 0, 0, 0, 0, 0, 0, 0, 0]</td>\n",
       "    </tr>\n",
       "  </tbody>\n",
       "</table>\n",
       "</div>"
      ],
      "text/plain": [
       "                                                tokens  \\\n",
       "197  [Mes, chers, collègues, ,, scellons, donc, auj...   \n",
       "330  [La, loi, du, 26, janvier, 2016, de, modernisa...   \n",
       "321  [Nous, avons, par, ailleurs, pris, différentes...   \n",
       "430  [Ces, travaux, débutent, aujourd, ', hui, sous...   \n",
       "173  [Ceux, qui, profitent, du, rouleau, compresseu...   \n",
       "\n",
       "                                              psr_tags  \n",
       "197  [0, 0, 0, 0, 0, 0, 0, 0, 0, 0, 0, 0, 0, 0, 0, ...  \n",
       "330  [0, 0, 0, 0, 0, 0, 0, 0, 0, 0, 0, 0, 0, 0, 0, ...  \n",
       "321  [0, 0, 0, 0, 0, 0, 0, 0, 0, 0, 0, 0, 0, 0, 0, ...  \n",
       "430  [0, 0, 0, 0, 0, 0, 0, 0, 0, 0, 0, 0, 0, 0, 0, ...  \n",
       "173      [0, 1, 0, 0, 0, 0, 0, 0, 0, 0, 0, 0, 0, 0, 0]  "
      ]
     },
     "execution_count": 22,
     "metadata": {},
     "output_type": "execute_result"
    }
   ],
   "source": [
    "train_df.head()"
   ]
  },
  {
   "cell_type": "code",
   "execution_count": 19,
   "id": "b08245479985b8be",
   "metadata": {
    "ExecuteTime": {
     "end_time": "2024-05-25T14:30:09.587775Z",
     "start_time": "2024-05-25T14:30:09.010496Z"
    }
   },
   "outputs": [],
   "source": [
    "from datasets import Dataset, Features, Sequence, Value, ClassLabel"
   ]
  },
  {
   "cell_type": "code",
   "execution_count": 20,
   "id": "ba261857dbbdab25",
   "metadata": {
    "ExecuteTime": {
     "end_time": "2024-05-25T14:30:29.123335Z",
     "start_time": "2024-05-25T14:30:29.120455Z"
    }
   },
   "outputs": [],
   "source": [
    "# Définir les Features pour chaque colonne du DataFrame\n",
    "features = Features({\n",
    "    'tokens': Sequence(feature=Value(dtype='string', id=None), length=-1, id=None),\n",
    "    'psr_tags': Sequence(feature=ClassLabel(names=['O', 'DET', 'APPO', 'AMBIGUE'], id=None), length=-1, id=None)\n",
    "})"
   ]
  },
  {
   "cell_type": "code",
   "execution_count": 26,
   "id": "73313b1981a5a16d",
   "metadata": {
    "ExecuteTime": {
     "end_time": "2024-05-25T14:36:21.124634Z",
     "start_time": "2024-05-25T14:36:21.100770Z"
    }
   },
   "outputs": [],
   "source": [
    "# Convertir le DataFrame en Dataset Hugging Face avec les Features spécifiés\n",
    "train_ds = Dataset.from_pandas(train_df, features=features)\n",
    "val_ds = Dataset.from_pandas(val_df, features=features)\n",
    "test_ds = Dataset.from_pandas(test_df, features=features)"
   ]
  },
  {
   "cell_type": "code",
   "execution_count": 27,
   "id": "387b7d2b7c6d8f1e",
   "metadata": {
    "ExecuteTime": {
     "end_time": "2024-05-25T14:37:17.611532Z",
     "start_time": "2024-05-25T14:37:17.608772Z"
    }
   },
   "outputs": [],
   "source": [
    "from datasets import DatasetDict\n",
    "\n",
    "# Recréation du DatasetDict\n",
    "dataset = DatasetDict({\n",
    "    'train': train_ds,\n",
    "    'validation': val_ds,\n",
    "    'test': test_ds\n",
    "})"
   ]
  },
  {
   "cell_type": "code",
   "execution_count": 28,
   "id": "acd319d12f6f7522",
   "metadata": {
    "ExecuteTime": {
     "end_time": "2024-05-25T14:37:23.376983Z",
     "start_time": "2024-05-25T14:37:23.373856Z"
    }
   },
   "outputs": [
    {
     "data": {
      "text/plain": [
       "DatasetDict({\n",
       "    train: Dataset({\n",
       "        features: ['tokens', 'psr_tags'],\n",
       "        num_rows: 281\n",
       "    })\n",
       "    validation: Dataset({\n",
       "        features: ['tokens', 'psr_tags'],\n",
       "        num_rows: 71\n",
       "    })\n",
       "    test: Dataset({\n",
       "        features: ['tokens', 'psr_tags'],\n",
       "        num_rows: 88\n",
       "    })\n",
       "})"
      ]
     },
     "execution_count": 28,
     "metadata": {},
     "output_type": "execute_result"
    }
   ],
   "source": [
    "dataset"
   ]
  },
  {
   "cell_type": "code",
   "execution_count": 30,
   "id": "92604fafee1ab637",
   "metadata": {
    "ExecuteTime": {
     "end_time": "2024-05-25T14:39:34.723209Z",
     "start_time": "2024-05-25T14:39:34.713423Z"
    }
   },
   "outputs": [
    {
     "data": {
      "application/vnd.jupyter.widget-view+json": {
       "model_id": "e30ece4f51184c8ea9530504e4a0a8b0",
       "version_major": 2,
       "version_minor": 0
      },
      "text/plain": [
       "VBox(children=(HTML(value='<center> <img\\nsrc=https://huggingface.co/front/assets/huggingface_logo-noborder.sv…"
      ]
     },
     "metadata": {},
     "output_type": "display_data"
    }
   ],
   "source": [
    "from huggingface_hub import notebook_login\n",
    "\n",
    "notebook_login()"
   ]
  },
  {
   "cell_type": "code",
   "execution_count": 32,
   "id": "9c86299eef964535",
   "metadata": {
    "ExecuteTime": {
     "end_time": "2024-05-25T14:42:18.961715Z",
     "start_time": "2024-05-25T14:42:15.325445Z"
    }
   },
   "outputs": [
    {
     "data": {
      "application/vnd.jupyter.widget-view+json": {
       "model_id": "4d27b0209a6f4c72aee40ac474c64367",
       "version_major": 2,
       "version_minor": 0
      },
      "text/plain": [
       "Uploading the dataset shards:   0%|          | 0/1 [00:00<?, ?it/s]"
      ]
     },
     "metadata": {},
     "output_type": "display_data"
    },
    {
     "data": {
      "application/vnd.jupyter.widget-view+json": {
       "model_id": "76def1c394944d069497cc4d0221c732",
       "version_major": 2,
       "version_minor": 0
      },
      "text/plain": [
       "Creating parquet from Arrow format:   0%|          | 0/1 [00:00<?, ?ba/s]"
      ]
     },
     "metadata": {},
     "output_type": "display_data"
    },
    {
     "data": {
      "application/vnd.jupyter.widget-view+json": {
       "model_id": "ef78bab6179e4359bd513335353a4e57",
       "version_major": 2,
       "version_minor": 0
      },
      "text/plain": [
       "Uploading the dataset shards:   0%|          | 0/1 [00:00<?, ?it/s]"
      ]
     },
     "metadata": {},
     "output_type": "display_data"
    },
    {
     "data": {
      "application/vnd.jupyter.widget-view+json": {
       "model_id": "6b1cd77979b142af82892ce5df647d01",
       "version_major": 2,
       "version_minor": 0
      },
      "text/plain": [
       "Creating parquet from Arrow format:   0%|          | 0/1 [00:00<?, ?ba/s]"
      ]
     },
     "metadata": {},
     "output_type": "display_data"
    },
    {
     "data": {
      "application/vnd.jupyter.widget-view+json": {
       "model_id": "d394afd0987b4ff4b15e9e41a7ea3f75",
       "version_major": 2,
       "version_minor": 0
      },
      "text/plain": [
       "Uploading the dataset shards:   0%|          | 0/1 [00:00<?, ?it/s]"
      ]
     },
     "metadata": {},
     "output_type": "display_data"
    },
    {
     "data": {
      "application/vnd.jupyter.widget-view+json": {
       "model_id": "870c9c2733294776ab477f33ed43b515",
       "version_major": 2,
       "version_minor": 0
      },
      "text/plain": [
       "Creating parquet from Arrow format:   0%|          | 0/1 [00:00<?, ?ba/s]"
      ]
     },
     "metadata": {},
     "output_type": "display_data"
    },
    {
     "data": {
      "text/plain": [
       "CommitInfo(commit_url='https://huggingface.co/datasets/djamina/relatives_psr_fr/commit/debf020a6cd5995a93aa765318bc492648cebd37', commit_message='Upload dataset', commit_description='', oid='debf020a6cd5995a93aa765318bc492648cebd37', pr_url=None, pr_revision=None, pr_num=None)"
      ]
     },
     "execution_count": 32,
     "metadata": {},
     "output_type": "execute_result"
    }
   ],
   "source": [
    "# Enregistrer le DatasetDict dans le hub Hugging Face\n",
    "dataset.push_to_hub('relatives_psr_fr')"
   ]
  },
  {
   "cell_type": "code",
   "execution_count": null,
   "id": "5b31addb1b0c2a85",
   "metadata": {},
   "outputs": [],
   "source": []
  }
 ],
 "metadata": {
  "kernelspec": {
   "display_name": "Python 3",
   "language": "python",
   "name": "python3"
  },
  "language_info": {
   "codemirror_mode": {
    "name": "ipython",
    "version": 2
   },
   "file_extension": ".py",
   "mimetype": "text/x-python",
   "name": "python",
   "nbconvert_exporter": "python",
   "pygments_lexer": "ipython2",
   "version": "3.10.12"
  }
 },
 "nbformat": 4,
 "nbformat_minor": 5
}
