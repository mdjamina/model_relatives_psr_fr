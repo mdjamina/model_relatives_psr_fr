{
 "cells": [
  {
   "cell_type": "markdown",
   "metadata": {
    "colab_type": "text",
    "id": "view-in-github"
   },
   "source": [
    "<a href=\"https://colab.research.google.com/github/PROJET-TUTEURE-M2/model_relatives_psr_fr/blob/main/src/load_dataset.ipynb\" target=\"_parent\"><img src=\"https://colab.research.google.com/assets/colab-badge.svg\" alt=\"Open In Colab\"/></a>"
   ]
  },
  {
   "cell_type": "markdown",
   "id": "bcb8ebe5",
   "metadata": {},
   "source": [
    "# Préparation des données"
   ]
  },
  {
   "cell_type": "markdown",
   "id": "22712cfd",
   "metadata": {},
   "source": [
    "## Chargement des données"
   ]
  },
  {
   "cell_type": "code",
   "execution_count": 1,
   "id": "ce9f4468267ac500",
   "metadata": {
    "ExecuteTime": {
     "end_time": "2024-05-26T14:13:05.634111Z",
     "start_time": "2024-05-26T14:13:04.584210Z"
    }
   },
   "outputs": [],
   "source": [
    "import pandas as pd\n",
    "file_path = '../data/relatives.xlsx'\n",
    "sheet_name = 'data'\n",
    "df = pd.read_excel(file_path, sheet_name=sheet_name)"
   ]
  },
  {
   "cell_type": "code",
   "execution_count": 2,
   "id": "1807b35d",
   "metadata": {},
   "outputs": [
    {
     "data": {
      "text/html": [
       "<div>\n",
       "<style scoped>\n",
       "    .dataframe tbody tr th:only-of-type {\n",
       "        vertical-align: middle;\n",
       "    }\n",
       "\n",
       "    .dataframe tbody tr th {\n",
       "        vertical-align: top;\n",
       "    }\n",
       "\n",
       "    .dataframe thead th {\n",
       "        text-align: right;\n",
       "    }\n",
       "</style>\n",
       "<table border=\"1\" class=\"dataframe\">\n",
       "  <thead>\n",
       "    <tr style=\"text-align: right;\">\n",
       "      <th></th>\n",
       "      <th>texts</th>\n",
       "      <th>PSR</th>\n",
       "      <th>annotation</th>\n",
       "    </tr>\n",
       "  </thead>\n",
       "  <tbody>\n",
       "    <tr>\n",
       "      <th>0</th>\n",
       "      <td>Simone Veil occupe désormais une place particu...</td>\n",
       "      <td>qui ont défiguré notre continent et avili l’hu...</td>\n",
       "      <td>det</td>\n",
       "    </tr>\n",
       "    <tr>\n",
       "      <th>1</th>\n",
       "      <td>une force qui a fait d’elle une actrice déterm...</td>\n",
       "      <td>qui a fait d’elle une actrice déterminante de ...</td>\n",
       "      <td>det</td>\n",
       "    </tr>\n",
       "    <tr>\n",
       "      <th>2</th>\n",
       "      <td>Les heures que nous vivons sont de celles-là.</td>\n",
       "      <td>que nous vivons</td>\n",
       "      <td>det</td>\n",
       "    </tr>\n",
       "    <tr>\n",
       "      <th>3</th>\n",
       "      <td>Je veux aujourd’hui vous parler du mandat que ...</td>\n",
       "      <td>que le peuple nous a donné</td>\n",
       "      <td>det</td>\n",
       "    </tr>\n",
       "    <tr>\n",
       "      <th>4</th>\n",
       "      <td>des institutions que je veux changer</td>\n",
       "      <td>que je veux changer</td>\n",
       "      <td>det</td>\n",
       "    </tr>\n",
       "  </tbody>\n",
       "</table>\n",
       "</div>"
      ],
      "text/plain": [
       "                                               texts  \\\n",
       "0  Simone Veil occupe désormais une place particu...   \n",
       "1  une force qui a fait d’elle une actrice déterm...   \n",
       "2      Les heures que nous vivons sont de celles-là.   \n",
       "3  Je veux aujourd’hui vous parler du mandat que ...   \n",
       "4               des institutions que je veux changer   \n",
       "\n",
       "                                                 PSR annotation  \n",
       "0  qui ont défiguré notre continent et avili l’hu...        det  \n",
       "1  qui a fait d’elle une actrice déterminante de ...        det  \n",
       "2                                    que nous vivons        det  \n",
       "3                         que le peuple nous a donné        det  \n",
       "4                                que je veux changer        det  "
      ]
     },
     "execution_count": 2,
     "metadata": {},
     "output_type": "execute_result"
    }
   ],
   "source": [
    "df.head()"
   ]
  },
  {
   "cell_type": "code",
   "execution_count": 8,
   "id": "5c3e021c",
   "metadata": {},
   "outputs": [
    {
     "data": {
      "text/html": [
       "<div>\n",
       "<style scoped>\n",
       "    .dataframe tbody tr th:only-of-type {\n",
       "        vertical-align: middle;\n",
       "    }\n",
       "\n",
       "    .dataframe tbody tr th {\n",
       "        vertical-align: top;\n",
       "    }\n",
       "\n",
       "    .dataframe thead th {\n",
       "        text-align: right;\n",
       "    }\n",
       "</style>\n",
       "<table border=\"1\" class=\"dataframe\">\n",
       "  <thead>\n",
       "    <tr style=\"text-align: right;\">\n",
       "      <th></th>\n",
       "      <th>texts</th>\n",
       "      <th>PSR</th>\n",
       "      <th>annotation</th>\n",
       "    </tr>\n",
       "  </thead>\n",
       "  <tbody>\n",
       "    <tr>\n",
       "      <th>count</th>\n",
       "      <td>440</td>\n",
       "      <td>440</td>\n",
       "      <td>440</td>\n",
       "    </tr>\n",
       "    <tr>\n",
       "      <th>unique</th>\n",
       "      <td>373</td>\n",
       "      <td>432</td>\n",
       "      <td>3</td>\n",
       "    </tr>\n",
       "    <tr>\n",
       "      <th>top</th>\n",
       "      <td>dans un monde où tout va si vite et où les exi...</td>\n",
       "      <td>que nous sommes</td>\n",
       "      <td>det</td>\n",
       "    </tr>\n",
       "    <tr>\n",
       "      <th>freq</th>\n",
       "      <td>4</td>\n",
       "      <td>2</td>\n",
       "      <td>239</td>\n",
       "    </tr>\n",
       "  </tbody>\n",
       "</table>\n",
       "</div>"
      ],
      "text/plain": [
       "                                                    texts              PSR  \\\n",
       "count                                                 440              440   \n",
       "unique                                                373              432   \n",
       "top     dans un monde où tout va si vite et où les exi...  que nous sommes   \n",
       "freq                                                    4                2   \n",
       "\n",
       "       annotation  \n",
       "count         440  \n",
       "unique          3  \n",
       "top           det  \n",
       "freq          239  "
      ]
     },
     "execution_count": 8,
     "metadata": {},
     "output_type": "execute_result"
    }
   ],
   "source": [
    "df.describe()"
   ]
  },
  {
   "cell_type": "markdown",
   "id": "ce21fb9847a650d7",
   "metadata": {},
   "source": [
    "## Prétraitement des données :\n",
    "\n"
   ]
  },
  {
   "cell_type": "markdown",
   "id": "390b9125",
   "metadata": {},
   "source": [
    "### Normalisation:\n",
    "\n",
    "cette partie permet de nettoyer et uniformiser des textes en remplaçant des caractères spéciaux par leurs équivalents standards."
   ]
  },
  {
   "cell_type": "code",
   "execution_count": 3,
   "id": "4ec21628b06316f6",
   "metadata": {
    "ExecuteTime": {
     "end_time": "2024-05-26T09:38:57.970007Z",
     "start_time": "2024-05-26T09:38:57.963661Z"
    }
   },
   "outputs": [],
   "source": [
    "import re\n",
    "\n",
    "def replace_characters(match: re.Match) -> str:\n",
    "    char = match.group(0)\n",
    "    replacements = {'’': \"'\",'´': \"'\",'`': \"'\",'‘': \"'\",'«': '\"','»': '\"','“': '\"','”': '\"','–': '-','—': '-','…': ' ',u'\\xa0': ' ',}\n",
    "    return replacements[char]\n",
    "\n",
    "def normalize_text(text: str) -> str:\n",
    "    pattern = r'[’´`‘«»“”–—…]'\n",
    "    return re.sub(pattern, replace_characters, text).strip()"
   ]
  },
  {
   "cell_type": "code",
   "execution_count": 4,
   "id": "f59f5333",
   "metadata": {},
   "outputs": [
    {
     "name": "stdout",
     "output_type": "stream",
     "text": [
      "un text avec des caractères spéciaux ''''\"\"\"\"--\n"
     ]
    }
   ],
   "source": [
    "# test\n",
    "text = \"un text avec des caractères spéciaux ’´`‘«»“”–—…\"\n",
    "print(normalize_text(text))"
   ]
  },
  {
   "cell_type": "code",
   "execution_count": 5,
   "id": "79414abf",
   "metadata": {},
   "outputs": [],
   "source": [
    "# apply to the dataframe\n",
    "df = df.map(normalize_text)"
   ]
  },
  {
   "cell_type": "markdown",
   "id": "951f0f3e",
   "metadata": {},
   "source": [
    "### Tokenization:"
   ]
  },
  {
   "cell_type": "code",
   "execution_count": 6,
   "id": "8604dba8",
   "metadata": {},
   "outputs": [
    {
     "name": "stderr",
     "output_type": "stream",
     "text": [
      "[nltk_data] Downloading package punkt to /home/codespace/nltk_data...\n",
      "[nltk_data]   Package punkt is already up-to-date!\n"
     ]
    },
    {
     "data": {
      "text/plain": [
       "True"
      ]
     },
     "execution_count": 6,
     "metadata": {},
     "output_type": "execute_result"
    }
   ],
   "source": [
    "import nltk\n",
    "nltk.download('punkt')"
   ]
  },
  {
   "cell_type": "markdown",
   "id": "6b789426",
   "metadata": {},
   "source": [
    "**RegexpTokenizer** : permet de diviser une chaîne de caractères en sous-chaînes en utilisant une expression régulière."
   ]
  },
  {
   "cell_type": "code",
   "execution_count": 7,
   "id": "d253eb383849586e",
   "metadata": {
    "ExecuteTime": {
     "end_time": "2024-05-26T09:38:54.422699Z",
     "start_time": "2024-05-26T09:38:54.419038Z"
    }
   },
   "outputs": [],
   "source": [
    "from nltk import RegexpTokenizer\n",
    "\n",
    "def tokenizer(text):\n",
    "  return RegexpTokenizer(r'''\\w'|\\w+|[^\\w\\s]''').tokenize(text)"
   ]
  },
  {
   "cell_type": "code",
   "execution_count": 8,
   "id": "585674df",
   "metadata": {},
   "outputs": [
    {
     "data": {
      "text/plain": [
       "['Bonjour',\n",
       " 'tout',\n",
       " 'le',\n",
       " 'monde',\n",
       " '!',\n",
       " 'il',\n",
       " \"s'\",\n",
       " 'agit',\n",
       " \"d'\",\n",
       " 'un',\n",
       " 'test',\n",
       " '.']"
      ]
     },
     "execution_count": 8,
     "metadata": {},
     "output_type": "execute_result"
    }
   ],
   "source": [
    "# Test\n",
    "text = \"Bonjour tout le monde ! il s'agit d'un test.\"\n",
    "tokenizer(text)"
   ]
  },
  {
   "cell_type": "code",
   "execution_count": 9,
   "id": "eb773011a6b223d6",
   "metadata": {
    "ExecuteTime": {
     "end_time": "2024-05-26T14:13:25.152482Z",
     "start_time": "2024-05-26T14:13:25.138613Z"
    }
   },
   "outputs": [],
   "source": [
    "# Application de la fonction tokenizer sur les colonnes Phrase et PSR\n",
    "df['texts'] = df['texts'].apply(tokenizer)\n",
    "df['PSR'] = df['PSR'].apply(tokenizer)"
   ]
  },
  {
   "cell_type": "code",
   "execution_count": 10,
   "id": "f0e76e52",
   "metadata": {},
   "outputs": [
    {
     "data": {
      "text/html": [
       "<div>\n",
       "<style scoped>\n",
       "    .dataframe tbody tr th:only-of-type {\n",
       "        vertical-align: middle;\n",
       "    }\n",
       "\n",
       "    .dataframe tbody tr th {\n",
       "        vertical-align: top;\n",
       "    }\n",
       "\n",
       "    .dataframe thead th {\n",
       "        text-align: right;\n",
       "    }\n",
       "</style>\n",
       "<table border=\"1\" class=\"dataframe\">\n",
       "  <thead>\n",
       "    <tr style=\"text-align: right;\">\n",
       "      <th></th>\n",
       "      <th>texts</th>\n",
       "      <th>PSR</th>\n",
       "      <th>annotation</th>\n",
       "    </tr>\n",
       "  </thead>\n",
       "  <tbody>\n",
       "    <tr>\n",
       "      <th>0</th>\n",
       "      <td>[Simone, Veil, occupe, désormais, une, place, ...</td>\n",
       "      <td>[qui, ont, défiguré, notre, continent, et, avi...</td>\n",
       "      <td>det</td>\n",
       "    </tr>\n",
       "    <tr>\n",
       "      <th>1</th>\n",
       "      <td>[une, force, qui, a, fait, d', elle, une, actr...</td>\n",
       "      <td>[qui, a, fait, d', elle, une, actrice, détermi...</td>\n",
       "      <td>det</td>\n",
       "    </tr>\n",
       "    <tr>\n",
       "      <th>2</th>\n",
       "      <td>[Les, heures, que, nous, vivons, sont, de, cel...</td>\n",
       "      <td>[que, nous, vivons]</td>\n",
       "      <td>det</td>\n",
       "    </tr>\n",
       "    <tr>\n",
       "      <th>3</th>\n",
       "      <td>[Je, veux, aujourd, ', hui, vous, parler, du, ...</td>\n",
       "      <td>[que, le, peuple, nous, a, donné]</td>\n",
       "      <td>det</td>\n",
       "    </tr>\n",
       "    <tr>\n",
       "      <th>4</th>\n",
       "      <td>[des, institutions, que, je, veux, changer]</td>\n",
       "      <td>[que, je, veux, changer]</td>\n",
       "      <td>det</td>\n",
       "    </tr>\n",
       "  </tbody>\n",
       "</table>\n",
       "</div>"
      ],
      "text/plain": [
       "                                               texts  \\\n",
       "0  [Simone, Veil, occupe, désormais, une, place, ...   \n",
       "1  [une, force, qui, a, fait, d', elle, une, actr...   \n",
       "2  [Les, heures, que, nous, vivons, sont, de, cel...   \n",
       "3  [Je, veux, aujourd, ', hui, vous, parler, du, ...   \n",
       "4        [des, institutions, que, je, veux, changer]   \n",
       "\n",
       "                                                 PSR annotation  \n",
       "0  [qui, ont, défiguré, notre, continent, et, avi...        det  \n",
       "1  [qui, a, fait, d', elle, une, actrice, détermi...        det  \n",
       "2                                [que, nous, vivons]        det  \n",
       "3                  [que, le, peuple, nous, a, donné]        det  \n",
       "4                           [que, je, veux, changer]        det  "
      ]
     },
     "execution_count": 10,
     "metadata": {},
     "output_type": "execute_result"
    }
   ],
   "source": [
    "df.head()"
   ]
  },
  {
   "cell_type": "markdown",
   "id": "56dd9918",
   "metadata": {},
   "source": [
    "### Labilisation:"
   ]
  },
  {
   "cell_type": "markdown",
   "id": "a58b527e",
   "metadata": {},
   "source": [
    "L'objectif de cette partie est de transformer les labels en valeurs numériques et aligner les labels avec le texte tokenisé."
   ]
  },
  {
   "cell_type": "code",
   "execution_count": 11,
   "id": "9a87b8a323b1967f",
   "metadata": {
    "ExecuteTime": {
     "end_time": "2024-05-26T09:39:56.122459Z",
     "start_time": "2024-05-26T09:39:56.119272Z"
    }
   },
   "outputs": [],
   "source": [
    "def annotate(text, psr, tag):\n",
    "    # Initialize the annotation list with 0s\n",
    "    annotation = [0] * len(text)\n",
    "\n",
    "    # Define the labels\n",
    "    labels = {'O': 0, 'det': 1, 'appo': 2, 'ambiguë': 3}\n",
    "\n",
    "    # Find the start index of the subsequence psr in text\n",
    "    psr_len = len(psr)\n",
    "    text_len = len(text)\n",
    "\n",
    "    for i in range(text_len - psr_len + 1):\n",
    "        if text[i:i + psr_len] == psr:\n",
    "            annotation[i] = labels[tag]\n",
    "            break\n",
    "\n",
    "    return annotation"
   ]
  },
  {
   "cell_type": "code",
   "execution_count": 14,
   "id": "69a625b4",
   "metadata": {},
   "outputs": [
    {
     "name": "stdout",
     "output_type": "stream",
     "text": [
      "cette frénésie , qui  a touché tous les camps depuis tant de mois et parfois tant d' années , est indigne de nous et des principes de la République . \n",
      "O     O        O APPO O O      O    O   O     O      O    O  O    O  O       O    O  O      O O   O       O  O    O  O   O         O  O  O          O \n"
     ]
    }
   ],
   "source": [
    "# test de la fonction annotate\n",
    "\n",
    "psr = tokenizer(\"qui a touché tous les camps depuis tant de mois et parfois tant d'années\")\n",
    "tag = 'appo'\n",
    "\n",
    "words = tokenizer(\"cette frénésie, qui a touché tous les camps depuis tant de mois et parfois tant d'années, est indigne de nous et des principes de la République.\")\n",
    "labels = annotate(words, psr,tag)\n",
    "\n",
    "label_names = ['O', 'DET', 'APPO', 'AMBIGUE']\n",
    "\n",
    "\n",
    "line1 = \"\"\n",
    "line2 = \"\"\n",
    "for word, label in zip(words, labels):\n",
    "    full_label = label_names[label]\n",
    "    max_length = max(len(word), len(full_label))\n",
    "    line1 += word + \" \" * (max_length - len(word) + 1)\n",
    "    line2 += full_label + \" \" * (max_length - len(full_label) + 1)\n",
    "\n",
    "# Affichage aligné des tokens et de leurs tags\n",
    "print(line1)\n",
    "print(line2)"
   ]
  },
  {
   "cell_type": "code",
   "execution_count": 15,
   "id": "c1f47abe592afcfd",
   "metadata": {
    "ExecuteTime": {
     "end_time": "2024-05-26T14:13:31.763715Z",
     "start_time": "2024-05-26T14:13:31.754334Z"
    }
   },
   "outputs": [],
   "source": [
    "# Appliquer la fonction annotate à chaque ligne du DataFrame pour créer la colonne psr_tags\n",
    "df['psr_tags'] = df.apply(lambda row: annotate(row['texts'], row['PSR'], row['annotation']), axis=1)"
   ]
  },
  {
   "cell_type": "code",
   "execution_count": 17,
   "id": "8372b616e5604e3d",
   "metadata": {
    "ExecuteTime": {
     "end_time": "2024-05-26T14:13:44.349651Z",
     "start_time": "2024-05-26T14:13:44.345821Z"
    }
   },
   "outputs": [],
   "source": [
    "# Supprimer les colonnes PSR et annotation\n",
    "df.drop(columns=['PSR','annotation'], inplace=True)\n",
    "\n",
    "# Renommer la colonne Phrase en tokens\n",
    "df.rename(columns={'texts': 'tokens'}, inplace=True)\n",
    "\n",
    "# reinstialiser l'index\n",
    "df.reset_index(names='id' ,inplace=True)\n"
   ]
  },
  {
   "cell_type": "code",
   "execution_count": 18,
   "id": "50a620046601250d",
   "metadata": {
    "ExecuteTime": {
     "end_time": "2024-05-26T14:13:46.852532Z",
     "start_time": "2024-05-26T14:13:46.845004Z"
    }
   },
   "outputs": [
    {
     "data": {
      "text/html": [
       "<div>\n",
       "<style scoped>\n",
       "    .dataframe tbody tr th:only-of-type {\n",
       "        vertical-align: middle;\n",
       "    }\n",
       "\n",
       "    .dataframe tbody tr th {\n",
       "        vertical-align: top;\n",
       "    }\n",
       "\n",
       "    .dataframe thead th {\n",
       "        text-align: right;\n",
       "    }\n",
       "</style>\n",
       "<table border=\"1\" class=\"dataframe\">\n",
       "  <thead>\n",
       "    <tr style=\"text-align: right;\">\n",
       "      <th></th>\n",
       "      <th>id</th>\n",
       "      <th>tokens</th>\n",
       "      <th>psr_tags</th>\n",
       "    </tr>\n",
       "  </thead>\n",
       "  <tbody>\n",
       "    <tr>\n",
       "      <th>0</th>\n",
       "      <td>0</td>\n",
       "      <td>[Simone, Veil, occupe, désormais, une, place, ...</td>\n",
       "      <td>[0, 0, 0, 0, 0, 0, 0, 0, 0, 0, 0, 0, 0, 0, 0, ...</td>\n",
       "    </tr>\n",
       "    <tr>\n",
       "      <th>1</th>\n",
       "      <td>1</td>\n",
       "      <td>[une, force, qui, a, fait, d', elle, une, actr...</td>\n",
       "      <td>[0, 0, 1, 0, 0, 0, 0, 0, 0, 0, 0, 0, 0, 0, 0, ...</td>\n",
       "    </tr>\n",
       "    <tr>\n",
       "      <th>2</th>\n",
       "      <td>2</td>\n",
       "      <td>[Les, heures, que, nous, vivons, sont, de, cel...</td>\n",
       "      <td>[0, 0, 1, 0, 0, 0, 0, 0, 0, 0, 0]</td>\n",
       "    </tr>\n",
       "    <tr>\n",
       "      <th>3</th>\n",
       "      <td>3</td>\n",
       "      <td>[Je, veux, aujourd, ', hui, vous, parler, du, ...</td>\n",
       "      <td>[0, 0, 0, 0, 0, 0, 0, 0, 0, 1, 0, 0, 0, 0, 0]</td>\n",
       "    </tr>\n",
       "    <tr>\n",
       "      <th>4</th>\n",
       "      <td>4</td>\n",
       "      <td>[des, institutions, que, je, veux, changer]</td>\n",
       "      <td>[0, 0, 1, 0, 0, 0]</td>\n",
       "    </tr>\n",
       "  </tbody>\n",
       "</table>\n",
       "</div>"
      ],
      "text/plain": [
       "   id                                             tokens  \\\n",
       "0   0  [Simone, Veil, occupe, désormais, une, place, ...   \n",
       "1   1  [une, force, qui, a, fait, d', elle, une, actr...   \n",
       "2   2  [Les, heures, que, nous, vivons, sont, de, cel...   \n",
       "3   3  [Je, veux, aujourd, ', hui, vous, parler, du, ...   \n",
       "4   4        [des, institutions, que, je, veux, changer]   \n",
       "\n",
       "                                            psr_tags  \n",
       "0  [0, 0, 0, 0, 0, 0, 0, 0, 0, 0, 0, 0, 0, 0, 0, ...  \n",
       "1  [0, 0, 1, 0, 0, 0, 0, 0, 0, 0, 0, 0, 0, 0, 0, ...  \n",
       "2                  [0, 0, 1, 0, 0, 0, 0, 0, 0, 0, 0]  \n",
       "3      [0, 0, 0, 0, 0, 0, 0, 0, 0, 1, 0, 0, 0, 0, 0]  \n",
       "4                                 [0, 0, 1, 0, 0, 0]  "
      ]
     },
     "execution_count": 18,
     "metadata": {},
     "output_type": "execute_result"
    }
   ],
   "source": [
    "\n",
    "df.head()"
   ]
  },
  {
   "cell_type": "markdown",
   "id": "bdf50c76b6467a7f",
   "metadata": {},
   "source": [
    "## Création Dataset Hugging Face"
   ]
  },
  {
   "cell_type": "markdown",
   "id": "646eeca546f689ea",
   "metadata": {},
   "source": [
    "### Découpage du jeu de données en train, validation et test"
   ]
  },
  {
   "cell_type": "code",
   "execution_count": 19,
   "id": "80a621a1d72dee0a",
   "metadata": {
    "ExecuteTime": {
     "end_time": "2024-05-26T14:13:55.836556Z",
     "start_time": "2024-05-26T14:13:55.831140Z"
    }
   },
   "outputs": [],
   "source": [
    "#split the dataset into train , validation and test\n",
    "from sklearn.model_selection import train_test_split\n",
    "\n",
    "train_df, test_df = train_test_split(df, test_size=0.2, random_state=42)\n",
    "\n",
    "train_df, val_df = train_test_split(train_df, test_size=0.2, random_state=42)"
   ]
  },
  {
   "cell_type": "code",
   "execution_count": 20,
   "id": "2a9adacf02c4cc42",
   "metadata": {
    "ExecuteTime": {
     "end_time": "2024-05-26T14:16:06.711190Z",
     "start_time": "2024-05-26T14:16:06.708544Z"
    }
   },
   "outputs": [],
   "source": [
    "# Supprimer les colonnes d'index auto-générées si elles existent\n",
    "train_df.reset_index(drop=True, inplace=True)\n",
    "val_df.reset_index(drop=True,inplace=True)\n",
    "test_df.reset_index(drop=True, inplace=True)"
   ]
  },
  {
   "cell_type": "code",
   "execution_count": 21,
   "id": "e5350a165c9c5e77",
   "metadata": {
    "ExecuteTime": {
     "end_time": "2024-05-26T14:16:08.372844Z",
     "start_time": "2024-05-26T14:16:08.359135Z"
    }
   },
   "outputs": [
    {
     "data": {
      "text/html": [
       "<div>\n",
       "<style scoped>\n",
       "    .dataframe tbody tr th:only-of-type {\n",
       "        vertical-align: middle;\n",
       "    }\n",
       "\n",
       "    .dataframe tbody tr th {\n",
       "        vertical-align: top;\n",
       "    }\n",
       "\n",
       "    .dataframe thead th {\n",
       "        text-align: right;\n",
       "    }\n",
       "</style>\n",
       "<table border=\"1\" class=\"dataframe\">\n",
       "  <thead>\n",
       "    <tr style=\"text-align: right;\">\n",
       "      <th></th>\n",
       "      <th>id</th>\n",
       "      <th>tokens</th>\n",
       "      <th>psr_tags</th>\n",
       "    </tr>\n",
       "  </thead>\n",
       "  <tbody>\n",
       "    <tr>\n",
       "      <th>0</th>\n",
       "      <td>197</td>\n",
       "      <td>[Mes, chers, collègues, ,, scellons, donc, auj...</td>\n",
       "      <td>[0, 0, 0, 0, 0, 0, 0, 0, 0, 0, 0, 0, 0, 0, 0, ...</td>\n",
       "    </tr>\n",
       "    <tr>\n",
       "      <th>1</th>\n",
       "      <td>330</td>\n",
       "      <td>[La, loi, du, 26, janvier, 2016, de, modernisa...</td>\n",
       "      <td>[0, 0, 0, 0, 0, 0, 0, 0, 0, 0, 0, 0, 0, 0, 0, ...</td>\n",
       "    </tr>\n",
       "    <tr>\n",
       "      <th>2</th>\n",
       "      <td>321</td>\n",
       "      <td>[Nous, avons, par, ailleurs, pris, différentes...</td>\n",
       "      <td>[0, 0, 0, 0, 0, 0, 0, 0, 0, 0, 0, 0, 0, 0, 0, ...</td>\n",
       "    </tr>\n",
       "    <tr>\n",
       "      <th>3</th>\n",
       "      <td>430</td>\n",
       "      <td>[Ces, travaux, débutent, aujourd, ', hui, sous...</td>\n",
       "      <td>[0, 0, 0, 0, 0, 0, 0, 0, 0, 0, 0, 0, 0, 0, 0, ...</td>\n",
       "    </tr>\n",
       "    <tr>\n",
       "      <th>4</th>\n",
       "      <td>173</td>\n",
       "      <td>[Ceux, qui, profitent, du, rouleau, compresseu...</td>\n",
       "      <td>[0, 1, 0, 0, 0, 0, 0, 0, 0, 0, 0, 0, 0, 0, 0]</td>\n",
       "    </tr>\n",
       "  </tbody>\n",
       "</table>\n",
       "</div>"
      ],
      "text/plain": [
       "    id                                             tokens  \\\n",
       "0  197  [Mes, chers, collègues, ,, scellons, donc, auj...   \n",
       "1  330  [La, loi, du, 26, janvier, 2016, de, modernisa...   \n",
       "2  321  [Nous, avons, par, ailleurs, pris, différentes...   \n",
       "3  430  [Ces, travaux, débutent, aujourd, ', hui, sous...   \n",
       "4  173  [Ceux, qui, profitent, du, rouleau, compresseu...   \n",
       "\n",
       "                                            psr_tags  \n",
       "0  [0, 0, 0, 0, 0, 0, 0, 0, 0, 0, 0, 0, 0, 0, 0, ...  \n",
       "1  [0, 0, 0, 0, 0, 0, 0, 0, 0, 0, 0, 0, 0, 0, 0, ...  \n",
       "2  [0, 0, 0, 0, 0, 0, 0, 0, 0, 0, 0, 0, 0, 0, 0, ...  \n",
       "3  [0, 0, 0, 0, 0, 0, 0, 0, 0, 0, 0, 0, 0, 0, 0, ...  \n",
       "4      [0, 1, 0, 0, 0, 0, 0, 0, 0, 0, 0, 0, 0, 0, 0]  "
      ]
     },
     "execution_count": 21,
     "metadata": {},
     "output_type": "execute_result"
    }
   ],
   "source": [
    "train_df.head()"
   ]
  },
  {
   "cell_type": "markdown",
   "id": "941cd33ac11d6213",
   "metadata": {},
   "source": [
    "### Préparation des datasets"
   ]
  },
  {
   "cell_type": "code",
   "execution_count": 24,
   "id": "b08245479985b8be",
   "metadata": {
    "ExecuteTime": {
     "end_time": "2024-05-26T14:14:55.319060Z",
     "start_time": "2024-05-26T14:14:55.314951Z"
    }
   },
   "outputs": [],
   "source": [
    "from datasets import Dataset, Features, Sequence, Value, ClassLabel"
   ]
  },
  {
   "cell_type": "code",
   "execution_count": 25,
   "id": "ba261857dbbdab25",
   "metadata": {
    "ExecuteTime": {
     "end_time": "2024-05-26T14:16:23.420725Z",
     "start_time": "2024-05-26T14:16:23.416449Z"
    }
   },
   "outputs": [],
   "source": [
    "# Définir les Features pour chaque colonne du DataFrame\n",
    "features = Features({\n",
    "    'id': Value(dtype='int32', id=None),\n",
    "    'tokens': Sequence(feature=Value(dtype='string', id=None), length=-1, id=None),\n",
    "    'psr_tags': Sequence(feature=ClassLabel(names=['O', 'DET', 'APPO', 'AMBIGUE'], id=None), length=-1, id=None)\n",
    "})"
   ]
  },
  {
   "cell_type": "code",
   "execution_count": 26,
   "id": "73313b1981a5a16d",
   "metadata": {
    "ExecuteTime": {
     "end_time": "2024-05-26T14:16:27.132941Z",
     "start_time": "2024-05-26T14:16:27.107335Z"
    }
   },
   "outputs": [],
   "source": [
    "# Convertir le DataFrame en Dataset Hugging Face avec les Features spécifiés\n",
    "train_ds = Dataset.from_pandas(train_df, features=features)\n",
    "val_ds = Dataset.from_pandas(val_df, features=features)\n",
    "test_ds = Dataset.from_pandas(test_df, features=features)"
   ]
  },
  {
   "cell_type": "code",
   "execution_count": 27,
   "id": "e154dfa173c5d156",
   "metadata": {
    "ExecuteTime": {
     "end_time": "2024-05-26T14:16:34.885553Z",
     "start_time": "2024-05-26T14:16:34.880609Z"
    }
   },
   "outputs": [
    {
     "data": {
      "text/plain": [
       "Dataset({\n",
       "    features: ['id', 'tokens', 'psr_tags'],\n",
       "    num_rows: 281\n",
       "})"
      ]
     },
     "execution_count": 27,
     "metadata": {},
     "output_type": "execute_result"
    }
   ],
   "source": [
    "train_ds"
   ]
  },
  {
   "cell_type": "code",
   "execution_count": 28,
   "id": "387b7d2b7c6d8f1e",
   "metadata": {
    "ExecuteTime": {
     "end_time": "2024-05-26T14:16:43.927564Z",
     "start_time": "2024-05-26T14:16:43.924471Z"
    }
   },
   "outputs": [],
   "source": [
    "from datasets import DatasetDict\n",
    "\n",
    "# Recréation du DatasetDict\n",
    "dataset = DatasetDict({\n",
    "    'train': train_ds,\n",
    "    'validation': val_ds,\n",
    "    'test': test_ds\n",
    "})"
   ]
  },
  {
   "cell_type": "code",
   "execution_count": 29,
   "id": "acd319d12f6f7522",
   "metadata": {
    "ExecuteTime": {
     "end_time": "2024-05-26T14:16:54.314822Z",
     "start_time": "2024-05-26T14:16:54.311917Z"
    }
   },
   "outputs": [
    {
     "data": {
      "text/plain": [
       "DatasetDict({\n",
       "    train: Dataset({\n",
       "        features: ['id', 'tokens', 'psr_tags'],\n",
       "        num_rows: 281\n",
       "    })\n",
       "    validation: Dataset({\n",
       "        features: ['id', 'tokens', 'psr_tags'],\n",
       "        num_rows: 71\n",
       "    })\n",
       "    test: Dataset({\n",
       "        features: ['id', 'tokens', 'psr_tags'],\n",
       "        num_rows: 88\n",
       "    })\n",
       "})"
      ]
     },
     "execution_count": 29,
     "metadata": {},
     "output_type": "execute_result"
    }
   ],
   "source": [
    "dataset"
   ]
  },
  {
   "cell_type": "markdown",
   "id": "f8979eba",
   "metadata": {},
   "source": [
    "### Sauvegarde des datasets et publication sur Hugging Face"
   ]
  },
  {
   "cell_type": "code",
   "execution_count": null,
   "id": "0f36fad1",
   "metadata": {},
   "outputs": [],
   "source": [
    "dataset_name = 'relatives_psr_fr'"
   ]
  },
  {
   "cell_type": "code",
   "execution_count": null,
   "id": "92604fafee1ab637",
   "metadata": {},
   "outputs": [],
   "source": [
    "from huggingface_hub import notebook_login\n",
    "\n",
    "notebook_login()"
   ]
  },
  {
   "cell_type": "code",
   "execution_count": null,
   "id": "9c86299eef964535",
   "metadata": {},
   "outputs": [],
   "source": [
    "# Enregistrer le DatasetDict dans le hub Hugging Face\n",
    "dataset.push_to_hub(dataset_name)"
   ]
  }
 ],
 "metadata": {
  "kernelspec": {
   "display_name": "Python 3",
   "language": "python",
   "name": "python3"
  },
  "language_info": {
   "codemirror_mode": {
    "name": "ipython",
    "version": 3
   },
   "file_extension": ".py",
   "mimetype": "text/x-python",
   "name": "python",
   "nbconvert_exporter": "python",
   "pygments_lexer": "ipython3",
   "version": "3.10.13"
  }
 },
 "nbformat": 4,
 "nbformat_minor": 5
}
