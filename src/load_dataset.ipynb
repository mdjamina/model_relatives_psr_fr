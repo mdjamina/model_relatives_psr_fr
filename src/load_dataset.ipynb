{
 "cells": [
 {
      "cell_type": "markdown",
      "metadata": {
        "id": "view-in-github",
        "colab_type": "text"
      },
      "source": [
        "<a href=\"https://colab.research.google.com/github/PROJET-TUTEURE-M2/model_relatives_psr_fr/blob/main/src/load_dataset.ipynb\" target=\"_parent\"><img src=\"https://colab.research.google.com/assets/colab-badge.svg\" alt=\"Open In Colab\"/></a>"
      ]
   },
  {
   "metadata": {},
   "cell_type": "markdown",
   "source": "",
   "id": "4b1ede25c868090b"
  },
  {
   "cell_type": "code",
   "id": "0de6b075",
   "metadata": {
    "ExecuteTime": {
     "end_time": "2024-05-26T09:38:47.137640Z",
     "start_time": "2024-05-26T09:38:46.248634Z"
    }
   },
   "source": [
    "import nltk\n",
    "nltk.download('punkt')"
   ],
   "outputs": [
    {
     "name": "stderr",
     "output_type": "stream",
     "text": [
      "[nltk_data] Downloading package punkt to /home/amina/nltk_data...\n",
      "[nltk_data]   Package punkt is already up-to-date!\n"
     ]
    },
    {
     "data": {
      "text/plain": [
       "True"
      ]
     },
     "execution_count": 1,
     "metadata": {},
     "output_type": "execute_result"
    }
   ],
   "execution_count": 1
  },
  {
   "cell_type": "code",
   "id": "initial_id",
   "metadata": {
    "collapsed": true,
    "ExecuteTime": {
     "end_time": "2024-05-26T09:38:51.127426Z",
     "start_time": "2024-05-26T09:38:50.804565Z"
    }
   },
   "source": [
    "import pandas as pd"
   ],
   "outputs": [],
   "execution_count": 2
  },
  {
   "metadata": {},
   "cell_type": "markdown",
   "source": "# Charger le jeu de données",
   "id": "ce21fb9847a650d7"
  },
  {
   "cell_type": "code",
   "id": "d253eb383849586e",
   "metadata": {
    "ExecuteTime": {
     "end_time": "2024-05-26T09:38:54.422699Z",
     "start_time": "2024-05-26T09:38:54.419038Z"
    }
   },
   "source": [
    "from nltk import RegexpTokenizer\n",
    "\n",
    "def tokenizer(text):\n",
    "  return RegexpTokenizer(r'''\\w'|\\w+|[^\\w\\s]''').tokenize(text)\n"
   ],
   "outputs": [],
   "execution_count": 3
  },
  {
   "metadata": {
    "ExecuteTime": {
     "end_time": "2024-05-26T09:38:57.970007Z",
     "start_time": "2024-05-26T09:38:57.963661Z"
    }
   },
   "cell_type": "code",
   "source": [
    "import re\n",
    "\n",
    "def replace_characters(match: re.Match) -> str:\n",
    "    char = match.group(0)\n",
    "    replacements = {'’': \"'\",'´': \"'\",'`': \"'\",'‘': \"'\",'«': '\"','»': '\"','“': '\"','”': '\"','–': '-','—': '-','…': ' ',u'\\xa0': ' ',}\n",
    "    return replacements[char]\n",
    "\n",
    "def normalize_text(text: str) -> str:\n",
    "    pattern = r'[’´`‘«»“”–—…]'\n",
    "    return re.sub(pattern, replace_characters, text).strip()"
   ],
   "id": "4ec21628b06316f6",
   "outputs": [],
   "execution_count": 4
  },
  {
   "metadata": {},
   "cell_type": "markdown",
   "source": "",
   "id": "abf2864f48abbc33"
  },
  {
   "metadata": {
    "ExecuteTime": {
     "end_time": "2024-05-26T09:39:56.122459Z",
     "start_time": "2024-05-26T09:39:56.119272Z"
    }
   },
   "cell_type": "code",
   "source": [
    "def annotate(text, psr, tag):\n",
    "    # Initialize the annotation list with 0s\n",
    "    annotation = [0] * len(text)\n",
    "\n",
    "    # Define the labels\n",
    "    labels = {'O': 0, 'det': 1, 'appo': 2, 'ambiguë': 3}\n",
    "\n",
    "    # Find the start index of the subsequence psr in text\n",
    "    psr_len = len(psr)\n",
    "    text_len = len(text)\n",
    "\n",
    "    for i in range(text_len - psr_len + 1):\n",
    "        if text[i:i + psr_len] == psr:\n",
    "            annotation[i] = labels[tag]\n",
    "            break\n",
    "\n",
    "    return annotation"
   ],
   "id": "9a87b8a323b1967f",
   "outputs": [],
   "execution_count": 5
  },
  {
   "metadata": {
    "ExecuteTime": {
     "end_time": "2024-05-26T09:40:01.261577Z",
     "start_time": "2024-05-26T09:40:01.257534Z"
    }
   },
   "cell_type": "code",
   "source": [
    "text = \"cette frénésie, qui a touché tous les camps depuis tant de mois et parfois tant d'années, est indigne de nous et des principes de la République.\"\n",
    "psr = \"qui a touché tous les camps depuis tant de mois et parfois tant d'années\"\n",
    "tag = 'appo'\n",
    "annotate(tokenizer(text), tokenizer(psr),tag)"
   ],
   "id": "9d8b1463b2b8d78d",
   "outputs": [
    {
     "data": {
      "text/plain": [
       "[0,\n",
       " 0,\n",
       " 0,\n",
       " 2,\n",
       " 0,\n",
       " 0,\n",
       " 0,\n",
       " 0,\n",
       " 0,\n",
       " 0,\n",
       " 0,\n",
       " 0,\n",
       " 0,\n",
       " 0,\n",
       " 0,\n",
       " 0,\n",
       " 0,\n",
       " 0,\n",
       " 0,\n",
       " 0,\n",
       " 0,\n",
       " 0,\n",
       " 0,\n",
       " 0,\n",
       " 0,\n",
       " 0,\n",
       " 0,\n",
       " 0,\n",
       " 0,\n",
       " 0]"
      ]
     },
     "execution_count": 6,
     "metadata": {},
     "output_type": "execute_result"
    }
   ],
   "execution_count": 6
  },
  {
   "metadata": {
    "ExecuteTime": {
     "end_time": "2024-05-26T09:37:51.069433Z",
     "start_time": "2024-05-26T09:37:51.067302Z"
    }
   },
   "cell_type": "code",
   "source": "",
   "id": "9fa7d79525758061",
   "outputs": [],
   "execution_count": 14
  },
  {
   "cell_type": "code",
   "id": "ce9f4468267ac500",
   "metadata": {
    "ExecuteTime": {
     "end_time": "2024-05-26T14:13:05.634111Z",
     "start_time": "2024-05-26T14:13:04.584210Z"
    }
   },
   "source": [
    "file_path = '../data/relatives.xlsx'\n",
    "sheet_name = 'data'\n",
    "df = pd.read_excel(file_path, sheet_name=sheet_name)"
   ],
   "outputs": [],
   "execution_count": 32
  },
  {
   "metadata": {
    "ExecuteTime": {
     "end_time": "2024-05-26T09:40:19.387706Z",
     "start_time": "2024-05-26T09:40:19.380098Z"
    }
   },
   "cell_type": "code",
   "source": "df.head()",
   "id": "da1e662ea6cef495",
   "outputs": [
    {
     "data": {
      "text/plain": [
       "                                               texts  \\\n",
       "0  Simone Veil occupe désormais une place particu...   \n",
       "1  une force qui a fait d’elle une actrice déterm...   \n",
       "2      Les heures que nous vivons sont de celles-là.   \n",
       "3  Je veux aujourd’hui vous parler du mandat que ...   \n",
       "4               des institutions que je veux changer   \n",
       "\n",
       "                                                 PSR annotation  \n",
       "0  qui ont défiguré notre continent et avili l’hu...        det  \n",
       "1  qui a fait d’elle une actrice déterminante de ...        det  \n",
       "2                                    que nous vivons        det  \n",
       "3                         que le peuple nous a donné        det  \n",
       "4                                que je veux changer        det  "
      ],
      "text/html": [
       "<div>\n",
       "<style scoped>\n",
       "    .dataframe tbody tr th:only-of-type {\n",
       "        vertical-align: middle;\n",
       "    }\n",
       "\n",
       "    .dataframe tbody tr th {\n",
       "        vertical-align: top;\n",
       "    }\n",
       "\n",
       "    .dataframe thead th {\n",
       "        text-align: right;\n",
       "    }\n",
       "</style>\n",
       "<table border=\"1\" class=\"dataframe\">\n",
       "  <thead>\n",
       "    <tr style=\"text-align: right;\">\n",
       "      <th></th>\n",
       "      <th>texts</th>\n",
       "      <th>PSR</th>\n",
       "      <th>annotation</th>\n",
       "    </tr>\n",
       "  </thead>\n",
       "  <tbody>\n",
       "    <tr>\n",
       "      <th>0</th>\n",
       "      <td>Simone Veil occupe désormais une place particu...</td>\n",
       "      <td>qui ont défiguré notre continent et avili l’hu...</td>\n",
       "      <td>det</td>\n",
       "    </tr>\n",
       "    <tr>\n",
       "      <th>1</th>\n",
       "      <td>une force qui a fait d’elle une actrice déterm...</td>\n",
       "      <td>qui a fait d’elle une actrice déterminante de ...</td>\n",
       "      <td>det</td>\n",
       "    </tr>\n",
       "    <tr>\n",
       "      <th>2</th>\n",
       "      <td>Les heures que nous vivons sont de celles-là.</td>\n",
       "      <td>que nous vivons</td>\n",
       "      <td>det</td>\n",
       "    </tr>\n",
       "    <tr>\n",
       "      <th>3</th>\n",
       "      <td>Je veux aujourd’hui vous parler du mandat que ...</td>\n",
       "      <td>que le peuple nous a donné</td>\n",
       "      <td>det</td>\n",
       "    </tr>\n",
       "    <tr>\n",
       "      <th>4</th>\n",
       "      <td>des institutions que je veux changer</td>\n",
       "      <td>que je veux changer</td>\n",
       "      <td>det</td>\n",
       "    </tr>\n",
       "  </tbody>\n",
       "</table>\n",
       "</div>"
      ]
     },
     "execution_count": 8,
     "metadata": {},
     "output_type": "execute_result"
    }
   ],
   "execution_count": 8
  },
  {
   "cell_type": "code",
   "id": "af2ea5e38a5e899",
   "metadata": {
    "ExecuteTime": {
     "end_time": "2024-05-26T14:13:12.071137Z",
     "start_time": "2024-05-26T14:13:12.065780Z"
    }
   },
   "source": [
    "df = df.map(normalize_text)"
   ],
   "outputs": [],
   "execution_count": 33
  },
  {
   "metadata": {
    "ExecuteTime": {
     "end_time": "2024-05-26T14:13:14.438593Z",
     "start_time": "2024-05-26T14:13:14.431956Z"
    }
   },
   "cell_type": "code",
   "source": "df.head()",
   "id": "fb6825007e1add89",
   "outputs": [
    {
     "data": {
      "text/plain": [
       "                                               texts  \\\n",
       "0  Simone Veil occupe désormais une place particu...   \n",
       "1  une force qui a fait d'elle une actrice déterm...   \n",
       "2      Les heures que nous vivons sont de celles-là.   \n",
       "3  Je veux aujourd'hui vous parler du mandat que ...   \n",
       "4               des institutions que je veux changer   \n",
       "\n",
       "                                                 PSR annotation  \n",
       "0  qui ont défiguré notre continent et avili l'hu...        det  \n",
       "1  qui a fait d'elle une actrice déterminante de ...        det  \n",
       "2                                    que nous vivons        det  \n",
       "3                         que le peuple nous a donné        det  \n",
       "4                                que je veux changer        det  "
      ],
      "text/html": [
       "<div>\n",
       "<style scoped>\n",
       "    .dataframe tbody tr th:only-of-type {\n",
       "        vertical-align: middle;\n",
       "    }\n",
       "\n",
       "    .dataframe tbody tr th {\n",
       "        vertical-align: top;\n",
       "    }\n",
       "\n",
       "    .dataframe thead th {\n",
       "        text-align: right;\n",
       "    }\n",
       "</style>\n",
       "<table border=\"1\" class=\"dataframe\">\n",
       "  <thead>\n",
       "    <tr style=\"text-align: right;\">\n",
       "      <th></th>\n",
       "      <th>texts</th>\n",
       "      <th>PSR</th>\n",
       "      <th>annotation</th>\n",
       "    </tr>\n",
       "  </thead>\n",
       "  <tbody>\n",
       "    <tr>\n",
       "      <th>0</th>\n",
       "      <td>Simone Veil occupe désormais une place particu...</td>\n",
       "      <td>qui ont défiguré notre continent et avili l'hu...</td>\n",
       "      <td>det</td>\n",
       "    </tr>\n",
       "    <tr>\n",
       "      <th>1</th>\n",
       "      <td>une force qui a fait d'elle une actrice déterm...</td>\n",
       "      <td>qui a fait d'elle une actrice déterminante de ...</td>\n",
       "      <td>det</td>\n",
       "    </tr>\n",
       "    <tr>\n",
       "      <th>2</th>\n",
       "      <td>Les heures que nous vivons sont de celles-là.</td>\n",
       "      <td>que nous vivons</td>\n",
       "      <td>det</td>\n",
       "    </tr>\n",
       "    <tr>\n",
       "      <th>3</th>\n",
       "      <td>Je veux aujourd'hui vous parler du mandat que ...</td>\n",
       "      <td>que le peuple nous a donné</td>\n",
       "      <td>det</td>\n",
       "    </tr>\n",
       "    <tr>\n",
       "      <th>4</th>\n",
       "      <td>des institutions que je veux changer</td>\n",
       "      <td>que je veux changer</td>\n",
       "      <td>det</td>\n",
       "    </tr>\n",
       "  </tbody>\n",
       "</table>\n",
       "</div>"
      ]
     },
     "execution_count": 34,
     "metadata": {},
     "output_type": "execute_result"
    }
   ],
   "execution_count": 34
  },
  {
   "cell_type": "code",
   "id": "eb773011a6b223d6",
   "metadata": {
    "ExecuteTime": {
     "end_time": "2024-05-26T14:13:25.152482Z",
     "start_time": "2024-05-26T14:13:25.138613Z"
    }
   },
   "source": [
    "# Application de la fonction tokenizer sur les colonnes Phrase et PSR\n",
    "df['texts'] = df['texts'].apply(tokenizer)\n",
    "df['PSR'] = df['PSR'].apply(tokenizer)"
   ],
   "outputs": [],
   "execution_count": 35
  },
  {
   "metadata": {
    "ExecuteTime": {
     "end_time": "2024-05-26T14:13:27.048781Z",
     "start_time": "2024-05-26T14:13:27.041021Z"
    }
   },
   "cell_type": "code",
   "source": "df.head()",
   "id": "badb510a1329920f",
   "outputs": [
    {
     "data": {
      "text/plain": [
       "                                               texts  \\\n",
       "0  [Simone, Veil, occupe, désormais, une, place, ...   \n",
       "1  [une, force, qui, a, fait, d', elle, une, actr...   \n",
       "2  [Les, heures, que, nous, vivons, sont, de, cel...   \n",
       "3  [Je, veux, aujourd, ', hui, vous, parler, du, ...   \n",
       "4        [des, institutions, que, je, veux, changer]   \n",
       "\n",
       "                                                 PSR annotation  \n",
       "0  [qui, ont, défiguré, notre, continent, et, avi...        det  \n",
       "1  [qui, a, fait, d', elle, une, actrice, détermi...        det  \n",
       "2                                [que, nous, vivons]        det  \n",
       "3                  [que, le, peuple, nous, a, donné]        det  \n",
       "4                           [que, je, veux, changer]        det  "
      ],
      "text/html": [
       "<div>\n",
       "<style scoped>\n",
       "    .dataframe tbody tr th:only-of-type {\n",
       "        vertical-align: middle;\n",
       "    }\n",
       "\n",
       "    .dataframe tbody tr th {\n",
       "        vertical-align: top;\n",
       "    }\n",
       "\n",
       "    .dataframe thead th {\n",
       "        text-align: right;\n",
       "    }\n",
       "</style>\n",
       "<table border=\"1\" class=\"dataframe\">\n",
       "  <thead>\n",
       "    <tr style=\"text-align: right;\">\n",
       "      <th></th>\n",
       "      <th>texts</th>\n",
       "      <th>PSR</th>\n",
       "      <th>annotation</th>\n",
       "    </tr>\n",
       "  </thead>\n",
       "  <tbody>\n",
       "    <tr>\n",
       "      <th>0</th>\n",
       "      <td>[Simone, Veil, occupe, désormais, une, place, ...</td>\n",
       "      <td>[qui, ont, défiguré, notre, continent, et, avi...</td>\n",
       "      <td>det</td>\n",
       "    </tr>\n",
       "    <tr>\n",
       "      <th>1</th>\n",
       "      <td>[une, force, qui, a, fait, d', elle, une, actr...</td>\n",
       "      <td>[qui, a, fait, d', elle, une, actrice, détermi...</td>\n",
       "      <td>det</td>\n",
       "    </tr>\n",
       "    <tr>\n",
       "      <th>2</th>\n",
       "      <td>[Les, heures, que, nous, vivons, sont, de, cel...</td>\n",
       "      <td>[que, nous, vivons]</td>\n",
       "      <td>det</td>\n",
       "    </tr>\n",
       "    <tr>\n",
       "      <th>3</th>\n",
       "      <td>[Je, veux, aujourd, ', hui, vous, parler, du, ...</td>\n",
       "      <td>[que, le, peuple, nous, a, donné]</td>\n",
       "      <td>det</td>\n",
       "    </tr>\n",
       "    <tr>\n",
       "      <th>4</th>\n",
       "      <td>[des, institutions, que, je, veux, changer]</td>\n",
       "      <td>[que, je, veux, changer]</td>\n",
       "      <td>det</td>\n",
       "    </tr>\n",
       "  </tbody>\n",
       "</table>\n",
       "</div>"
      ]
     },
     "execution_count": 36,
     "metadata": {},
     "output_type": "execute_result"
    }
   ],
   "execution_count": 36
  },
  {
   "cell_type": "code",
   "id": "c1f47abe592afcfd",
   "metadata": {
    "ExecuteTime": {
     "end_time": "2024-05-26T14:13:31.763715Z",
     "start_time": "2024-05-26T14:13:31.754334Z"
    }
   },
   "source": [
    "# Appliquer la fonction annotate à chaque ligne du DataFrame pour créer la colonne psr_tags\n",
    "df['psr_tags'] = df.apply(lambda row: annotate(row['texts'], row['PSR'], row['annotation']), axis=1)"
   ],
   "outputs": [],
   "execution_count": 37
  },
  {
   "metadata": {
    "ExecuteTime": {
     "end_time": "2024-05-26T14:13:33.413365Z",
     "start_time": "2024-05-26T14:13:33.402918Z"
    }
   },
   "cell_type": "code",
   "source": "df.head()",
   "id": "49702e0ddaedb276",
   "outputs": [
    {
     "data": {
      "text/plain": [
       "                                               texts  \\\n",
       "0  [Simone, Veil, occupe, désormais, une, place, ...   \n",
       "1  [une, force, qui, a, fait, d', elle, une, actr...   \n",
       "2  [Les, heures, que, nous, vivons, sont, de, cel...   \n",
       "3  [Je, veux, aujourd, ', hui, vous, parler, du, ...   \n",
       "4        [des, institutions, que, je, veux, changer]   \n",
       "\n",
       "                                                 PSR annotation  \\\n",
       "0  [qui, ont, défiguré, notre, continent, et, avi...        det   \n",
       "1  [qui, a, fait, d', elle, une, actrice, détermi...        det   \n",
       "2                                [que, nous, vivons]        det   \n",
       "3                  [que, le, peuple, nous, a, donné]        det   \n",
       "4                           [que, je, veux, changer]        det   \n",
       "\n",
       "                                            psr_tags  \n",
       "0  [0, 0, 0, 0, 0, 0, 0, 0, 0, 0, 0, 0, 0, 0, 0, ...  \n",
       "1  [0, 0, 1, 0, 0, 0, 0, 0, 0, 0, 0, 0, 0, 0, 0, ...  \n",
       "2                  [0, 0, 1, 0, 0, 0, 0, 0, 0, 0, 0]  \n",
       "3      [0, 0, 0, 0, 0, 0, 0, 0, 0, 1, 0, 0, 0, 0, 0]  \n",
       "4                                 [0, 0, 1, 0, 0, 0]  "
      ],
      "text/html": [
       "<div>\n",
       "<style scoped>\n",
       "    .dataframe tbody tr th:only-of-type {\n",
       "        vertical-align: middle;\n",
       "    }\n",
       "\n",
       "    .dataframe tbody tr th {\n",
       "        vertical-align: top;\n",
       "    }\n",
       "\n",
       "    .dataframe thead th {\n",
       "        text-align: right;\n",
       "    }\n",
       "</style>\n",
       "<table border=\"1\" class=\"dataframe\">\n",
       "  <thead>\n",
       "    <tr style=\"text-align: right;\">\n",
       "      <th></th>\n",
       "      <th>texts</th>\n",
       "      <th>PSR</th>\n",
       "      <th>annotation</th>\n",
       "      <th>psr_tags</th>\n",
       "    </tr>\n",
       "  </thead>\n",
       "  <tbody>\n",
       "    <tr>\n",
       "      <th>0</th>\n",
       "      <td>[Simone, Veil, occupe, désormais, une, place, ...</td>\n",
       "      <td>[qui, ont, défiguré, notre, continent, et, avi...</td>\n",
       "      <td>det</td>\n",
       "      <td>[0, 0, 0, 0, 0, 0, 0, 0, 0, 0, 0, 0, 0, 0, 0, ...</td>\n",
       "    </tr>\n",
       "    <tr>\n",
       "      <th>1</th>\n",
       "      <td>[une, force, qui, a, fait, d', elle, une, actr...</td>\n",
       "      <td>[qui, a, fait, d', elle, une, actrice, détermi...</td>\n",
       "      <td>det</td>\n",
       "      <td>[0, 0, 1, 0, 0, 0, 0, 0, 0, 0, 0, 0, 0, 0, 0, ...</td>\n",
       "    </tr>\n",
       "    <tr>\n",
       "      <th>2</th>\n",
       "      <td>[Les, heures, que, nous, vivons, sont, de, cel...</td>\n",
       "      <td>[que, nous, vivons]</td>\n",
       "      <td>det</td>\n",
       "      <td>[0, 0, 1, 0, 0, 0, 0, 0, 0, 0, 0]</td>\n",
       "    </tr>\n",
       "    <tr>\n",
       "      <th>3</th>\n",
       "      <td>[Je, veux, aujourd, ', hui, vous, parler, du, ...</td>\n",
       "      <td>[que, le, peuple, nous, a, donné]</td>\n",
       "      <td>det</td>\n",
       "      <td>[0, 0, 0, 0, 0, 0, 0, 0, 0, 1, 0, 0, 0, 0, 0]</td>\n",
       "    </tr>\n",
       "    <tr>\n",
       "      <th>4</th>\n",
       "      <td>[des, institutions, que, je, veux, changer]</td>\n",
       "      <td>[que, je, veux, changer]</td>\n",
       "      <td>det</td>\n",
       "      <td>[0, 0, 1, 0, 0, 0]</td>\n",
       "    </tr>\n",
       "  </tbody>\n",
       "</table>\n",
       "</div>"
      ]
     },
     "execution_count": 38,
     "metadata": {},
     "output_type": "execute_result"
    }
   ],
   "execution_count": 38
  },
  {
   "cell_type": "code",
   "id": "8372b616e5604e3d",
   "metadata": {
    "ExecuteTime": {
     "end_time": "2024-05-26T14:13:44.349651Z",
     "start_time": "2024-05-26T14:13:44.345821Z"
    }
   },
   "source": [
    "df.drop(columns=['PSR','annotation'], inplace=True)\n",
    "# Renommer la colonne Phrase en tokens\n",
    "df.rename(columns={'texts': 'tokens'}, inplace=True)\n",
    "df.reset_index(names='id' ,inplace=True)\n"
   ],
   "outputs": [],
   "execution_count": 39
  },
  {
   "cell_type": "code",
   "id": "50a620046601250d",
   "metadata": {
    "ExecuteTime": {
     "end_time": "2024-05-26T14:13:46.852532Z",
     "start_time": "2024-05-26T14:13:46.845004Z"
    }
   },
   "source": [
    "\n",
    "df.head()"
   ],
   "outputs": [
    {
     "data": {
      "text/plain": [
       "   id                                             tokens  \\\n",
       "0   0  [Simone, Veil, occupe, désormais, une, place, ...   \n",
       "1   1  [une, force, qui, a, fait, d', elle, une, actr...   \n",
       "2   2  [Les, heures, que, nous, vivons, sont, de, cel...   \n",
       "3   3  [Je, veux, aujourd, ', hui, vous, parler, du, ...   \n",
       "4   4        [des, institutions, que, je, veux, changer]   \n",
       "\n",
       "                                            psr_tags  \n",
       "0  [0, 0, 0, 0, 0, 0, 0, 0, 0, 0, 0, 0, 0, 0, 0, ...  \n",
       "1  [0, 0, 1, 0, 0, 0, 0, 0, 0, 0, 0, 0, 0, 0, 0, ...  \n",
       "2                  [0, 0, 1, 0, 0, 0, 0, 0, 0, 0, 0]  \n",
       "3      [0, 0, 0, 0, 0, 0, 0, 0, 0, 1, 0, 0, 0, 0, 0]  \n",
       "4                                 [0, 0, 1, 0, 0, 0]  "
      ],
      "text/html": [
       "<div>\n",
       "<style scoped>\n",
       "    .dataframe tbody tr th:only-of-type {\n",
       "        vertical-align: middle;\n",
       "    }\n",
       "\n",
       "    .dataframe tbody tr th {\n",
       "        vertical-align: top;\n",
       "    }\n",
       "\n",
       "    .dataframe thead th {\n",
       "        text-align: right;\n",
       "    }\n",
       "</style>\n",
       "<table border=\"1\" class=\"dataframe\">\n",
       "  <thead>\n",
       "    <tr style=\"text-align: right;\">\n",
       "      <th></th>\n",
       "      <th>id</th>\n",
       "      <th>tokens</th>\n",
       "      <th>psr_tags</th>\n",
       "    </tr>\n",
       "  </thead>\n",
       "  <tbody>\n",
       "    <tr>\n",
       "      <th>0</th>\n",
       "      <td>0</td>\n",
       "      <td>[Simone, Veil, occupe, désormais, une, place, ...</td>\n",
       "      <td>[0, 0, 0, 0, 0, 0, 0, 0, 0, 0, 0, 0, 0, 0, 0, ...</td>\n",
       "    </tr>\n",
       "    <tr>\n",
       "      <th>1</th>\n",
       "      <td>1</td>\n",
       "      <td>[une, force, qui, a, fait, d', elle, une, actr...</td>\n",
       "      <td>[0, 0, 1, 0, 0, 0, 0, 0, 0, 0, 0, 0, 0, 0, 0, ...</td>\n",
       "    </tr>\n",
       "    <tr>\n",
       "      <th>2</th>\n",
       "      <td>2</td>\n",
       "      <td>[Les, heures, que, nous, vivons, sont, de, cel...</td>\n",
       "      <td>[0, 0, 1, 0, 0, 0, 0, 0, 0, 0, 0]</td>\n",
       "    </tr>\n",
       "    <tr>\n",
       "      <th>3</th>\n",
       "      <td>3</td>\n",
       "      <td>[Je, veux, aujourd, ', hui, vous, parler, du, ...</td>\n",
       "      <td>[0, 0, 0, 0, 0, 0, 0, 0, 0, 1, 0, 0, 0, 0, 0]</td>\n",
       "    </tr>\n",
       "    <tr>\n",
       "      <th>4</th>\n",
       "      <td>4</td>\n",
       "      <td>[des, institutions, que, je, veux, changer]</td>\n",
       "      <td>[0, 0, 1, 0, 0, 0]</td>\n",
       "    </tr>\n",
       "  </tbody>\n",
       "</table>\n",
       "</div>"
      ]
     },
     "execution_count": 40,
     "metadata": {},
     "output_type": "execute_result"
    }
   ],
   "execution_count": 40
  },
  {
   "metadata": {},
   "cell_type": "markdown",
   "source": "# Créer un Dataset Hugging Face",
   "id": "bdf50c76b6467a7f"
  },
  {
   "metadata": {},
   "cell_type": "markdown",
   "source": "## découpage du jeu de données en train, validation et test",
   "id": "646eeca546f689ea"
  },
  {
   "cell_type": "code",
   "id": "80a621a1d72dee0a",
   "metadata": {
    "ExecuteTime": {
     "end_time": "2024-05-26T14:13:55.836556Z",
     "start_time": "2024-05-26T14:13:55.831140Z"
    }
   },
   "source": [
    "#split the dataset into train , validation and test\n",
    "from sklearn.model_selection import train_test_split\n",
    "\n",
    "train_df, test_df = train_test_split(df, test_size=0.2, random_state=42)\n",
    "\n",
    "train_df, val_df = train_test_split(train_df, test_size=0.2, random_state=42)"
   ],
   "outputs": [],
   "execution_count": 41
  },
  {
   "cell_type": "code",
   "id": "2a9adacf02c4cc42",
   "metadata": {
    "ExecuteTime": {
     "end_time": "2024-05-26T14:16:06.711190Z",
     "start_time": "2024-05-26T14:16:06.708544Z"
    }
   },
   "source": [
    "# Supprimer les colonnes d'index auto-générées si elles existent\n",
    "train_df.reset_index(drop=True, inplace=True)\n",
    "val_df.reset_index(drop=True,inplace=True)\n",
    "test_df.reset_index(drop=True, inplace=True)"
   ],
   "outputs": [],
   "execution_count": 46
  },
  {
   "cell_type": "code",
   "id": "e5350a165c9c5e77",
   "metadata": {
    "ExecuteTime": {
     "end_time": "2024-05-26T14:16:08.372844Z",
     "start_time": "2024-05-26T14:16:08.359135Z"
    }
   },
   "source": [
    "train_df.head()"
   ],
   "outputs": [
    {
     "data": {
      "text/plain": [
       "    id                                             tokens  \\\n",
       "0  197  [Mes, chers, collègues, ,, scellons, donc, auj...   \n",
       "1  330  [La, loi, du, 26, janvier, 2016, de, modernisa...   \n",
       "2  321  [Nous, avons, par, ailleurs, pris, différentes...   \n",
       "3  430  [Ces, travaux, débutent, aujourd, ', hui, sous...   \n",
       "4  173  [Ceux, qui, profitent, du, rouleau, compresseu...   \n",
       "\n",
       "                                            psr_tags  \n",
       "0  [0, 0, 0, 0, 0, 0, 0, 0, 0, 0, 0, 0, 0, 0, 0, ...  \n",
       "1  [0, 0, 0, 0, 0, 0, 0, 0, 0, 0, 0, 0, 0, 0, 0, ...  \n",
       "2  [0, 0, 0, 0, 0, 0, 0, 0, 0, 0, 0, 0, 0, 0, 0, ...  \n",
       "3  [0, 0, 0, 0, 0, 0, 0, 0, 0, 0, 0, 0, 0, 0, 0, ...  \n",
       "4      [0, 1, 0, 0, 0, 0, 0, 0, 0, 0, 0, 0, 0, 0, 0]  "
      ],
      "text/html": [
       "<div>\n",
       "<style scoped>\n",
       "    .dataframe tbody tr th:only-of-type {\n",
       "        vertical-align: middle;\n",
       "    }\n",
       "\n",
       "    .dataframe tbody tr th {\n",
       "        vertical-align: top;\n",
       "    }\n",
       "\n",
       "    .dataframe thead th {\n",
       "        text-align: right;\n",
       "    }\n",
       "</style>\n",
       "<table border=\"1\" class=\"dataframe\">\n",
       "  <thead>\n",
       "    <tr style=\"text-align: right;\">\n",
       "      <th></th>\n",
       "      <th>id</th>\n",
       "      <th>tokens</th>\n",
       "      <th>psr_tags</th>\n",
       "    </tr>\n",
       "  </thead>\n",
       "  <tbody>\n",
       "    <tr>\n",
       "      <th>0</th>\n",
       "      <td>197</td>\n",
       "      <td>[Mes, chers, collègues, ,, scellons, donc, auj...</td>\n",
       "      <td>[0, 0, 0, 0, 0, 0, 0, 0, 0, 0, 0, 0, 0, 0, 0, ...</td>\n",
       "    </tr>\n",
       "    <tr>\n",
       "      <th>1</th>\n",
       "      <td>330</td>\n",
       "      <td>[La, loi, du, 26, janvier, 2016, de, modernisa...</td>\n",
       "      <td>[0, 0, 0, 0, 0, 0, 0, 0, 0, 0, 0, 0, 0, 0, 0, ...</td>\n",
       "    </tr>\n",
       "    <tr>\n",
       "      <th>2</th>\n",
       "      <td>321</td>\n",
       "      <td>[Nous, avons, par, ailleurs, pris, différentes...</td>\n",
       "      <td>[0, 0, 0, 0, 0, 0, 0, 0, 0, 0, 0, 0, 0, 0, 0, ...</td>\n",
       "    </tr>\n",
       "    <tr>\n",
       "      <th>3</th>\n",
       "      <td>430</td>\n",
       "      <td>[Ces, travaux, débutent, aujourd, ', hui, sous...</td>\n",
       "      <td>[0, 0, 0, 0, 0, 0, 0, 0, 0, 0, 0, 0, 0, 0, 0, ...</td>\n",
       "    </tr>\n",
       "    <tr>\n",
       "      <th>4</th>\n",
       "      <td>173</td>\n",
       "      <td>[Ceux, qui, profitent, du, rouleau, compresseu...</td>\n",
       "      <td>[0, 1, 0, 0, 0, 0, 0, 0, 0, 0, 0, 0, 0, 0, 0]</td>\n",
       "    </tr>\n",
       "  </tbody>\n",
       "</table>\n",
       "</div>"
      ]
     },
     "execution_count": 47,
     "metadata": {},
     "output_type": "execute_result"
    }
   ],
   "execution_count": 47
  },
  {
   "metadata": {},
   "cell_type": "markdown",
   "source": "## Création d'un Dataset Hugging Face",
   "id": "941cd33ac11d6213"
  },
  {
   "cell_type": "code",
   "id": "b08245479985b8be",
   "metadata": {
    "ExecuteTime": {
     "end_time": "2024-05-26T14:14:55.319060Z",
     "start_time": "2024-05-26T14:14:55.314951Z"
    }
   },
   "source": [
    "from datasets import Dataset, Features, Sequence, Value, ClassLabel"
   ],
   "outputs": [],
   "execution_count": 43
  },
  {
   "cell_type": "code",
   "id": "ba261857dbbdab25",
   "metadata": {
    "ExecuteTime": {
     "end_time": "2024-05-26T14:16:23.420725Z",
     "start_time": "2024-05-26T14:16:23.416449Z"
    }
   },
   "source": [
    "# Définir les Features pour chaque colonne du DataFrame\n",
    "features = Features({\n",
    "    'id': Value(dtype='int32', id=None),\n",
    "    'tokens': Sequence(feature=Value(dtype='string', id=None), length=-1, id=None),\n",
    "    'psr_tags': Sequence(feature=ClassLabel(names=['O', 'DET', 'APPO', 'AMBIGUE'], id=None), length=-1, id=None)\n",
    "})"
   ],
   "outputs": [],
   "execution_count": 48
  },
  {
   "cell_type": "code",
   "id": "73313b1981a5a16d",
   "metadata": {
    "ExecuteTime": {
     "end_time": "2024-05-26T14:16:27.132941Z",
     "start_time": "2024-05-26T14:16:27.107335Z"
    }
   },
   "source": [
    "# Convertir le DataFrame en Dataset Hugging Face avec les Features spécifiés\n",
    "train_ds = Dataset.from_pandas(train_df, features=features)\n",
    "val_ds = Dataset.from_pandas(val_df, features=features)\n",
    "test_ds = Dataset.from_pandas(test_df, features=features)"
   ],
   "outputs": [],
   "execution_count": 49
  },
  {
   "metadata": {
    "ExecuteTime": {
     "end_time": "2024-05-26T14:16:34.885553Z",
     "start_time": "2024-05-26T14:16:34.880609Z"
    }
   },
   "cell_type": "code",
   "source": "train_ds",
   "id": "e154dfa173c5d156",
   "outputs": [
    {
     "data": {
      "text/plain": [
       "Dataset({\n",
       "    features: ['id', 'tokens', 'psr_tags'],\n",
       "    num_rows: 281\n",
       "})"
      ]
     },
     "execution_count": 50,
     "metadata": {},
     "output_type": "execute_result"
    }
   ],
   "execution_count": 50
  },
  {
   "cell_type": "code",
   "id": "387b7d2b7c6d8f1e",
   "metadata": {
    "ExecuteTime": {
     "end_time": "2024-05-26T14:16:43.927564Z",
     "start_time": "2024-05-26T14:16:43.924471Z"
    }
   },
   "source": [
    "from datasets import DatasetDict\n",
    "\n",
    "# Recréation du DatasetDict\n",
    "dataset = DatasetDict({\n",
    "    'train': train_ds,\n",
    "    'validation': val_ds,\n",
    "    'test': test_ds\n",
    "})"
   ],
   "outputs": [],
   "execution_count": 51
  },
  {
   "cell_type": "code",
   "id": "acd319d12f6f7522",
   "metadata": {
    "ExecuteTime": {
     "end_time": "2024-05-26T14:16:54.314822Z",
     "start_time": "2024-05-26T14:16:54.311917Z"
    }
   },
   "source": [
    "dataset"
   ],
   "outputs": [
    {
     "data": {
      "text/plain": [
       "DatasetDict({\n",
       "    train: Dataset({\n",
       "        features: ['id', 'tokens', 'psr_tags'],\n",
       "        num_rows: 281\n",
       "    })\n",
       "    validation: Dataset({\n",
       "        features: ['id', 'tokens', 'psr_tags'],\n",
       "        num_rows: 71\n",
       "    })\n",
       "    test: Dataset({\n",
       "        features: ['id', 'tokens', 'psr_tags'],\n",
       "        num_rows: 88\n",
       "    })\n",
       "})"
      ]
     },
     "execution_count": 52,
     "metadata": {},
     "output_type": "execute_result"
    }
   ],
   "execution_count": 52
  },
  {
   "cell_type": "code",
   "id": "92604fafee1ab637",
   "metadata": {},
   "source": [
    "from huggingface_hub import notebook_login\n",
    "\n",
    "notebook_login()"
   ],
   "outputs": [],
   "execution_count": null
  },
  {
   "cell_type": "code",
   "id": "9c86299eef964535",
   "metadata": {},
   "source": [
    "# Enregistrer le DatasetDict dans le hub Hugging Face\n",
    "dataset.push_to_hub('relatives_psr_fr')"
   ],
   "outputs": [],
   "execution_count": null
  },
  {
   "cell_type": "code",
   "id": "5b31addb1b0c2a85",
   "metadata": {},
   "source": [],
   "outputs": [],
   "execution_count": null
  }
 ],
 "metadata": {
  "kernelspec": {
   "display_name": "Python 3",
   "language": "python",
   "name": "python3"
  },
  "language_info": {
   "codemirror_mode": {
    "name": "ipython",
    "version": 2
   },
   "file_extension": ".py",
   "mimetype": "text/x-python",
   "name": "python",
   "nbconvert_exporter": "python",
   "pygments_lexer": "ipython2",
   "version": "3.10.12"
  }
 },
 "nbformat": 4,
 "nbformat_minor": 5
}
